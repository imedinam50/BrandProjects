{
 "cells": [
  {
   "cell_type": "markdown",
   "metadata": {},
   "source": [
    "<img src=\"https://www.globallogic.com/de/wp-content/uploads/sites/26/2019/10/Machine-Learning.jpg\">\n",
    "\n",
    "<br><br>\n",
    "\n",
    "<H2><B> Integer linear programming model in \"SageMath\" for solving the problem of assigning qualified engineers to service requests in a software company. </B></H2>\n",
    "<br><br>\n",
    "<H3><I> Ismael Medina Muñoz </I></H3>\n",
    "\n",
    "---"
   ]
  },
  {
   "cell_type": "markdown",
   "metadata": {},
   "source": [
    "Next you will find code cells for loading auxiliary libraries. This model is executed using SageMath kernel."
   ]
  },
  {
   "cell_type": "code",
   "execution_count": 1,
   "metadata": {
    "jupyter": {
     "outputs_hidden": false
    }
   },
   "outputs": [],
   "source": [
    "import pandas as pd"
   ]
  },
  {
   "cell_type": "markdown",
   "metadata": {},
   "source": [
    "Now we will declare the data structures necessary for the specification of the objective function and the constraints.\n",
    "\n",
    "The following is the specification of the service request matrix. In this matrix, each client selects between 6 different services available.\n",
    "Thus it is possible to describe the requests. For example: Customer 1 has requested 2 services of type 1, Customer 2 has requested a service of type 3, etc."
   ]
  },
  {
   "cell_type": "code",
   "execution_count": 2,
   "metadata": {
    "jupyter": {
     "outputs_hidden": false
    }
   },
   "outputs": [
    {
     "data": {
      "text/html": [
       "<div>\n",
       "<style scoped>\n",
       "    .dataframe tbody tr th:only-of-type {\n",
       "        vertical-align: middle;\n",
       "    }\n",
       "\n",
       "    .dataframe tbody tr th {\n",
       "        vertical-align: top;\n",
       "    }\n",
       "\n",
       "    .dataframe thead th {\n",
       "        text-align: right;\n",
       "    }\n",
       "</style>\n",
       "<table border=\"1\" class=\"dataframe\">\n",
       "  <thead>\n",
       "    <tr style=\"text-align: right;\">\n",
       "      <th></th>\n",
       "      <th>Service01</th>\n",
       "      <th>Service02</th>\n",
       "      <th>Service03</th>\n",
       "      <th>Service04</th>\n",
       "      <th>Service05</th>\n",
       "      <th>Service06</th>\n",
       "    </tr>\n",
       "    <tr>\n",
       "      <th>CustomerId</th>\n",
       "      <th></th>\n",
       "      <th></th>\n",
       "      <th></th>\n",
       "      <th></th>\n",
       "      <th></th>\n",
       "      <th></th>\n",
       "    </tr>\n",
       "  </thead>\n",
       "  <tbody>\n",
       "    <tr>\n",
       "      <th>C1</th>\n",
       "      <td>2</td>\n",
       "      <td>0</td>\n",
       "      <td>0</td>\n",
       "      <td>0</td>\n",
       "      <td>0</td>\n",
       "      <td>0</td>\n",
       "    </tr>\n",
       "    <tr>\n",
       "      <th>C2</th>\n",
       "      <td>0</td>\n",
       "      <td>0</td>\n",
       "      <td>1</td>\n",
       "      <td>0</td>\n",
       "      <td>0</td>\n",
       "      <td>0</td>\n",
       "    </tr>\n",
       "    <tr>\n",
       "      <th>C3</th>\n",
       "      <td>1</td>\n",
       "      <td>1</td>\n",
       "      <td>0</td>\n",
       "      <td>0</td>\n",
       "      <td>0</td>\n",
       "      <td>0</td>\n",
       "    </tr>\n",
       "    <tr>\n",
       "      <th>C4</th>\n",
       "      <td>0</td>\n",
       "      <td>0</td>\n",
       "      <td>0</td>\n",
       "      <td>0</td>\n",
       "      <td>2</td>\n",
       "      <td>0</td>\n",
       "    </tr>\n",
       "    <tr>\n",
       "      <th>C5</th>\n",
       "      <td>0</td>\n",
       "      <td>0</td>\n",
       "      <td>0</td>\n",
       "      <td>1</td>\n",
       "      <td>0</td>\n",
       "      <td>1</td>\n",
       "    </tr>\n",
       "  </tbody>\n",
       "</table>\n",
       "</div>"
      ],
      "text/plain": [
       "           Service01 Service02 Service03 Service04 Service05 Service06\n",
       "CustomerId                                                            \n",
       "C1                 2         0         0         0         0         0\n",
       "C2                 0         0         1         0         0         0\n",
       "C3                 1         1         0         0         0         0\n",
       "C4                 0         0         0         0         2         0\n",
       "C5                 0         0         0         1         0         1"
      ]
     },
     "execution_count": 2,
     "metadata": {},
     "output_type": "execute_result"
    }
   ],
   "source": [
    "data = [['C1', 2, 0, 0, 0, 0, 0], \n",
    "        ['C2', 0, 0, 1, 0, 0, 0],\n",
    "        ['C3', 1, 1, 0, 0, 0, 0],\n",
    "        ['C4', 0, 0, 0, 0, 2, 0],\n",
    "        ['C5', 0, 0, 0, 1, 0, 1]]\n",
    "\n",
    "requests = pd.DataFrame(data, columns=['CustomerId', 'Service01', 'Service02', \n",
    "                                    'Service03', 'Service04', 'Service05', \n",
    "                                    'Service06'])\n",
    "\n",
    "requests = requests.set_index(['CustomerId'])\n",
    "requests"
   ]
  },
  {
   "cell_type": "markdown",
   "metadata": {},
   "source": [
    "The following is the accreditation matrix, each accreditation endorses the skills that each engineer has developed. Accreditations and your experience allow you to successfully fulfill service requests.\n",
    "The following table shows which service requests can be resolved by each engineer."
   ]
  },
  {
   "cell_type": "code",
   "execution_count": 3,
   "metadata": {
    "jupyter": {
     "outputs_hidden": false
    }
   },
   "outputs": [
    {
     "data": {
      "text/html": [
       "<div>\n",
       "<style scoped>\n",
       "    .dataframe tbody tr th:only-of-type {\n",
       "        vertical-align: middle;\n",
       "    }\n",
       "\n",
       "    .dataframe tbody tr th {\n",
       "        vertical-align: top;\n",
       "    }\n",
       "\n",
       "    .dataframe thead th {\n",
       "        text-align: right;\n",
       "    }\n",
       "</style>\n",
       "<table border=\"1\" class=\"dataframe\">\n",
       "  <thead>\n",
       "    <tr style=\"text-align: right;\">\n",
       "      <th></th>\n",
       "      <th>Service01</th>\n",
       "      <th>Service02</th>\n",
       "      <th>Service03</th>\n",
       "      <th>Service04</th>\n",
       "      <th>Service05</th>\n",
       "      <th>Service06</th>\n",
       "    </tr>\n",
       "    <tr>\n",
       "      <th>EngineerId</th>\n",
       "      <th></th>\n",
       "      <th></th>\n",
       "      <th></th>\n",
       "      <th></th>\n",
       "      <th></th>\n",
       "      <th></th>\n",
       "    </tr>\n",
       "  </thead>\n",
       "  <tbody>\n",
       "    <tr>\n",
       "      <th>E1</th>\n",
       "      <td>0</td>\n",
       "      <td>0</td>\n",
       "      <td>1</td>\n",
       "      <td>1</td>\n",
       "      <td>0</td>\n",
       "      <td>1</td>\n",
       "    </tr>\n",
       "    <tr>\n",
       "      <th>E2</th>\n",
       "      <td>0</td>\n",
       "      <td>0</td>\n",
       "      <td>1</td>\n",
       "      <td>0</td>\n",
       "      <td>1</td>\n",
       "      <td>1</td>\n",
       "    </tr>\n",
       "    <tr>\n",
       "      <th>E3</th>\n",
       "      <td>1</td>\n",
       "      <td>1</td>\n",
       "      <td>0</td>\n",
       "      <td>1</td>\n",
       "      <td>0</td>\n",
       "      <td>0</td>\n",
       "    </tr>\n",
       "    <tr>\n",
       "      <th>E4</th>\n",
       "      <td>0</td>\n",
       "      <td>1</td>\n",
       "      <td>0</td>\n",
       "      <td>0</td>\n",
       "      <td>1</td>\n",
       "      <td>1</td>\n",
       "    </tr>\n",
       "    <tr>\n",
       "      <th>E5</th>\n",
       "      <td>0</td>\n",
       "      <td>0</td>\n",
       "      <td>0</td>\n",
       "      <td>1</td>\n",
       "      <td>0</td>\n",
       "      <td>1</td>\n",
       "    </tr>\n",
       "    <tr>\n",
       "      <th>E6</th>\n",
       "      <td>1</td>\n",
       "      <td>1</td>\n",
       "      <td>1</td>\n",
       "      <td>1</td>\n",
       "      <td>0</td>\n",
       "      <td>0</td>\n",
       "    </tr>\n",
       "  </tbody>\n",
       "</table>\n",
       "</div>"
      ],
      "text/plain": [
       "           Service01 Service02 Service03 Service04 Service05 Service06\n",
       "EngineerId                                                            \n",
       "E1                 0         0         1         1         0         1\n",
       "E2                 0         0         1         0         1         1\n",
       "E3                 1         1         0         1         0         0\n",
       "E4                 0         1         0         0         1         1\n",
       "E5                 0         0         0         1         0         1\n",
       "E6                 1         1         1         1         0         0"
      ]
     },
     "execution_count": 3,
     "metadata": {},
     "output_type": "execute_result"
    }
   ],
   "source": [
    "data = [['E1', 0, 0, 1, 1, 0, 1], \n",
    "        ['E2', 0, 0, 1, 0, 1, 1],\n",
    "        ['E3', 1, 1, 0, 1, 0, 0],\n",
    "        ['E4', 0, 1, 0, 0, 1, 1],\n",
    "        ['E5', 0, 0, 0, 1, 0, 1],\n",
    "        ['E6', 1, 1, 1, 1, 0, 0]]\n",
    "\n",
    "acreditations = pd.DataFrame(data, columns=['EngineerId', 'Service01', 'Service02', \n",
    "                                    'Service03', 'Service04', 'Service05', \n",
    "                                    'Service06'])\n",
    "\n",
    "acreditations = acreditations.set_index(['EngineerId'])\n",
    "acreditations"
   ]
  },
  {
   "cell_type": "markdown",
   "metadata": {},
   "source": [
    "Next, the table of free time of the engineers is shown, this table shows the number of free weeks that each engineer has to attend to service requests within the next 2 months."
   ]
  },
  {
   "cell_type": "code",
   "execution_count": 4,
   "metadata": {
    "jupyter": {
     "outputs_hidden": false
    }
   },
   "outputs": [],
   "source": [
    "data = [['E1', 2], \n",
    "        ['E2', 1],\n",
    "        ['E3', 3],\n",
    "        ['E4', 2],\n",
    "        ['E5', 1],\n",
    "        ['E6', 3]]\n",
    "\n",
    "freeWeeks = pd.DataFrame(data, columns=['EngineerId', 'Weeks'])\n",
    "\n",
    "freeWeeks = freeWeeks.set_index(['EngineerId'])"
   ]
  },
  {
   "cell_type": "markdown",
   "metadata": {},
   "source": [
    "<br/>\n",
    "\n",
    "Following matrix sets total costs by any engineer executing a service that the customer $ x $ is requesting."
   ]
  },
  {
   "cell_type": "code",
   "execution_count": 5,
   "metadata": {
    "jupyter": {
     "outputs_hidden": false
    }
   },
   "outputs": [
    {
     "data": {
      "text/html": [
       "<div>\n",
       "<style scoped>\n",
       "    .dataframe tbody tr th:only-of-type {\n",
       "        vertical-align: middle;\n",
       "    }\n",
       "\n",
       "    .dataframe tbody tr th {\n",
       "        vertical-align: top;\n",
       "    }\n",
       "\n",
       "    .dataframe thead th {\n",
       "        text-align: right;\n",
       "    }\n",
       "</style>\n",
       "<table border=\"1\" class=\"dataframe\">\n",
       "  <thead>\n",
       "    <tr style=\"text-align: right;\">\n",
       "      <th></th>\n",
       "      <th>C1</th>\n",
       "      <th>C2</th>\n",
       "      <th>C3</th>\n",
       "      <th>C4</th>\n",
       "      <th>C5</th>\n",
       "    </tr>\n",
       "    <tr>\n",
       "      <th>EngineerId</th>\n",
       "      <th></th>\n",
       "      <th></th>\n",
       "      <th></th>\n",
       "      <th></th>\n",
       "      <th></th>\n",
       "    </tr>\n",
       "  </thead>\n",
       "  <tbody>\n",
       "    <tr>\n",
       "      <th>E1</th>\n",
       "      <td>120</td>\n",
       "      <td>113</td>\n",
       "      <td>91</td>\n",
       "      <td>97</td>\n",
       "      <td>60</td>\n",
       "    </tr>\n",
       "    <tr>\n",
       "      <th>E2</th>\n",
       "      <td>68</td>\n",
       "      <td>97</td>\n",
       "      <td>68</td>\n",
       "      <td>127</td>\n",
       "      <td>113</td>\n",
       "    </tr>\n",
       "    <tr>\n",
       "      <th>E3</th>\n",
       "      <td>111</td>\n",
       "      <td>115</td>\n",
       "      <td>120</td>\n",
       "      <td>114</td>\n",
       "      <td>119</td>\n",
       "    </tr>\n",
       "    <tr>\n",
       "      <th>E4</th>\n",
       "      <td>93</td>\n",
       "      <td>113</td>\n",
       "      <td>113</td>\n",
       "      <td>93</td>\n",
       "      <td>112</td>\n",
       "    </tr>\n",
       "    <tr>\n",
       "      <th>E5</th>\n",
       "      <td>108</td>\n",
       "      <td>67</td>\n",
       "      <td>115</td>\n",
       "      <td>115</td>\n",
       "      <td>114</td>\n",
       "    </tr>\n",
       "    <tr>\n",
       "      <th>E6</th>\n",
       "      <td>125</td>\n",
       "      <td>107</td>\n",
       "      <td>60</td>\n",
       "      <td>113</td>\n",
       "      <td>64</td>\n",
       "    </tr>\n",
       "  </tbody>\n",
       "</table>\n",
       "</div>"
      ],
      "text/plain": [
       "             C1   C2   C3   C4   C5\n",
       "EngineerId                         \n",
       "E1          120  113   91   97   60\n",
       "E2           68   97   68  127  113\n",
       "E3          111  115  120  114  119\n",
       "E4           93  113  113   93  112\n",
       "E5          108   67  115  115  114\n",
       "E6          125  107   60  113   64"
      ]
     },
     "execution_count": 5,
     "metadata": {},
     "output_type": "execute_result"
    }
   ],
   "source": [
    "data = [['E1', 120, 113,  91,  97,  60], \n",
    "        ['E2',  68,  97,  68, 127, 113],\n",
    "        ['E3', 111, 115, 120, 114, 119],\n",
    "        ['E4',  93, 113, 113,  93, 112],\n",
    "        ['E5', 108,  67, 115, 115, 114],\n",
    "        ['E6', 125, 107,  60, 113,  64]]\n",
    "\n",
    "costs = pd.DataFrame(data, columns=['EngineerId', 'C1', 'C2', 'C3', 'C4', 'C5'])\n",
    "\n",
    "costs = costs.set_index(['EngineerId'])\n",
    "costs"
   ]
  },
  {
   "cell_type": "markdown",
   "metadata": {},
   "source": [
    "<br/>\n",
    " \n",
    "The following lines of code define the linear programming model. It is indicated that it is a minimization (cost) model. We declare a new variable called `Assignment` that is nonnegative and integer."
   ]
  },
  {
   "cell_type": "code",
   "execution_count": 6,
   "metadata": {
    "jupyter": {
     "outputs_hidden": false
    }
   },
   "outputs": [],
   "source": [
    "program = MixedIntegerLinearProgram(maximization=False)\n",
    "assignment = program.new_variable(integer=True, nonnegative = True, name='Assignment')"
   ]
  },
  {
   "cell_type": "markdown",
   "metadata": {},
   "source": [
    "<br/>\n",
    "\n",
    "The following code describes customer service requests and their assignment to a possible pool of qualified engineers.\n",
    "\n",
    "The objective function in the variable \"sum\", which contains the sum of the costs of assigning an engineer $ i $ to a customer $ j $.\n",
    "\n",
    "The cell output shows the complete objective function. The objective function only needs 16 variables ($ x_0 $ to $ x_ {15} $) for its definition since those are enough combinations of customers, engineers and service requests."
   ]
  },
  {
   "cell_type": "code",
   "execution_count": 7,
   "metadata": {
    "jupyter": {
     "outputs_hidden": false
    }
   },
   "outputs": [
    {
     "name": "stdout",
     "output_type": "stream",
     "text": [
      "Customer C1 requested 2 services. Possible engineers:\n",
      "\tEngineer E3 . cost = $ 111\n",
      "\tEngineer E6 . cost = $ 125\n",
      "Customer C2 requested 1 services. Possible engineers:\n",
      "\tEngineer E1 . cost = $ 113\n",
      "\tEngineer E2 . cost = $ 97\n",
      "\tEngineer E6 . cost = $ 107\n",
      "Customer C3 requested 1 services. Possible engineers:\n",
      "\tEngineer E3 . cost = $ 120\n",
      "\tEngineer E6 . cost = $ 60\n",
      "Customer C3 requested 1 services. Possible engineers:\n",
      "\tEngineer E3 . cost = $ 120\n",
      "\tEngineer E4 . cost = $ 113\n",
      "\tEngineer E6 . cost = $ 60\n",
      "Customer C4 requested 2 services. Possible engineers:\n",
      "\tEngineer E2 . cost = $ 127\n",
      "\tEngineer E4 . cost = $ 93\n",
      "Customer C5 requested 1 services. Possible engineers:\n",
      "\tEngineer E1 . cost = $ 60\n",
      "\tEngineer E3 . cost = $ 119\n",
      "\tEngineer E5 . cost = $ 114\n",
      "\tEngineer E6 . cost = $ 64\n",
      "Customer C5 requested 1 services. Possible engineers:\n",
      "\tEngineer E1 . cost = $ 60\n",
      "\tEngineer E2 . cost = $ 113\n",
      "\tEngineer E4 . cost = $ 112\n",
      "\tEngineer E5 . cost = $ 114\n",
      "Minimization:\n",
      "  111.0 Assignment[('C1', 'E3')] + 125.0 Assignment[('C1', 'E6')] + 113.0 Assignment[('C2', 'E1')] + 97.0 Assignment[('C2', 'E2')] + 107.0 Assignment[('C2', 'E6')] + 120.0 Assignment[('C3', 'E3')] + 60.0 Assignment[('C3', 'E6')] + 113.0 Assignment[('C3', 'E4')] + 127.0 Assignment[('C4', 'E2')] + 93.0 Assignment[('C4', 'E4')] + 60.0 Assignment[('C5', 'E1')] + 119.0 Assignment[('C5', 'E3')] + 114.0 Assignment[('C5', 'E5')] + 64.0 Assignment[('C5', 'E6')] + 113.0 Assignment[('C5', 'E2')] + 112.0 Assignment[('C5', 'E4')] \n",
      "\n",
      "Constraints:\n",
      "Variables:\n",
      "  Assignment[('C1', 'E3')] = x_0 is an integer variable (min=0.0, max=+oo)\n",
      "  Assignment[('C1', 'E6')] = x_1 is an integer variable (min=0.0, max=+oo)\n",
      "  Assignment[('C2', 'E1')] = x_2 is an integer variable (min=0.0, max=+oo)\n",
      "  Assignment[('C2', 'E2')] = x_3 is an integer variable (min=0.0, max=+oo)\n",
      "  Assignment[('C2', 'E6')] = x_4 is an integer variable (min=0.0, max=+oo)\n",
      "  Assignment[('C3', 'E3')] = x_5 is an integer variable (min=0.0, max=+oo)\n",
      "  Assignment[('C3', 'E6')] = x_6 is an integer variable (min=0.0, max=+oo)\n",
      "  Assignment[('C3', 'E4')] = x_7 is an integer variable (min=0.0, max=+oo)\n",
      "  Assignment[('C4', 'E2')] = x_8 is an integer variable (min=0.0, max=+oo)\n",
      "  Assignment[('C4', 'E4')] = x_9 is an integer variable (min=0.0, max=+oo)\n",
      "  Assignment[('C5', 'E1')] = x_10 is an integer variable (min=0.0, max=+oo)\n",
      "  Assignment[('C5', 'E3')] = x_11 is an integer variable (min=0.0, max=+oo)\n",
      "  Assignment[('C5', 'E5')] = x_12 is an integer variable (min=0.0, max=+oo)\n",
      "  Assignment[('C5', 'E6')] = x_13 is an integer variable (min=0.0, max=+oo)\n",
      "  Assignment[('C5', 'E2')] = x_14 is an integer variable (min=0.0, max=+oo)\n",
      "  Assignment[('C5', 'E4')] = x_15 is an integer variable (min=0.0, max=+oo)\n"
     ]
    }
   ],
   "source": [
    "summation = 0\n",
    "for i in requests.index:\n",
    "    if requests.Service01.loc[i] > 0:\n",
    "        print(\"Customer\", i, \"requested\", requests.Service01.loc[i], \"services. Possible engineers:\")\n",
    "        for j in acreditations.index:\n",
    "            if acreditations.Service01.loc[j] > 0:\n",
    "                print(\"\\tEngineer\" , j, \". cost = $\", costs[i].loc[j])\n",
    "                summation = summation + costs[i].loc[j] * assignment[i, j]\n",
    "    if requests.Service02.loc[i] > 0:\n",
    "        print(\"Customer\", i, \"requested\", requests.Service02.loc[i], \"services. Possible engineers:\")\n",
    "        for j in acreditations.index:\n",
    "            if acreditations.Service02.loc[j] > 0:\n",
    "                print(\"\\tEngineer\" , j, \". cost = $\", costs[i].loc[j])\n",
    "                summation = summation + costs[i].loc[j] * assignment[i, j]\n",
    "    if requests.Service03.loc[i] > 0:\n",
    "        print(\"Customer\", i, \"requested\", requests.Service03.loc[i], \"services. Possible engineers:\")\n",
    "        for j in acreditations.index:\n",
    "            if acreditations.Service03.loc[j] > 0:\n",
    "                print(\"\\tEngineer\" , j, \". cost = $\", costs[i].loc[j])\n",
    "                summation = summation + costs[i].loc[j] * assignment[i, j]\n",
    "    if requests.Service04.loc[i] > 0:\n",
    "        print(\"Customer\", i, \"requested\", requests.Service04.loc[i], \"services. Possible engineers:\")\n",
    "        for j in acreditations.index:\n",
    "            if acreditations.Service04.loc[j] > 0:\n",
    "                print(\"\\tEngineer\" , j, \". cost = $\", costs[i].loc[j])\n",
    "                summation = summation + costs[i].loc[j] * assignment[i, j]\n",
    "    if requests.Service05.loc[i] > 0:\n",
    "        print(\"Customer\", i, \"requested\", requests.Service05.loc[i], \"services. Possible engineers:\")\n",
    "        for j in acreditations.index:\n",
    "            if acreditations.Service05.loc[j] > 0:\n",
    "                print(\"\\tEngineer\" , j, \". cost = $\", costs[i].loc[j])\n",
    "                summation = summation + costs[i].loc[j] * assignment[i, j]\n",
    "    if requests.Service06.loc[i] > 0:\n",
    "        print(\"Customer\", i, \"requested\", requests.Service06.loc[i], \"services. Possible engineers:\")\n",
    "        for j in acreditations.index:\n",
    "            if acreditations.Service06.loc[j] > 0:\n",
    "                print(\"\\tEngineer\" , j, \". cost = $\", costs[i].loc[j])\n",
    "                summation = summation + costs[i].loc[j] * assignment[i, j]\n",
    "\n",
    "summation = summation - (costs['C3'].loc['E3']*assignment['C3','E3'] + costs['C3'].loc['E6']*assignment['C3','E6'] + costs['C5'].loc['E1']*assignment['C5','E1'] + costs['C5'].loc['E5']*assignment['C5','E5'])\n",
    "\n",
    "program.set_objective(summation)\n",
    "program.show()"
   ]
  },
  {
   "cell_type": "markdown",
   "metadata": {},
   "source": [
    "<br/>\n",
    "\n",
    "The linear programming model requires the definition of constraints that limit the minimization of the objective function.\n",
    "We have two types of restrictions, the first related to accreditations and the second is the number of weeks available for delivery."
   ]
  },
  {
   "cell_type": "code",
   "execution_count": 8,
   "metadata": {
    "jupyter": {
     "outputs_hidden": false
    }
   },
   "outputs": [],
   "source": [
    "program.add_constraint(assignment[('C2', 'E1')] + assignment[('C5', 'E1')] <= freeWeeks.loc['E1'].Weeks)\n",
    "program.add_constraint(assignment[('C2', 'E2')] + assignment[('C4', 'E2')] + assignment[('C5', 'E2')] <= freeWeeks.loc['E2'].Weeks)\n",
    "program.add_constraint(assignment[('C1', 'E3')] + assignment[('C3', 'E3')] + assignment[('C5', 'E3')] <= freeWeeks.loc['E3'].Weeks)\n",
    "program.add_constraint(assignment[('C3', 'E4')] + assignment[('C4', 'E4')] + assignment[('C5', 'E4')] <= freeWeeks.loc['E4'].Weeks)\n",
    "program.add_constraint(assignment[('C5', 'E5')] <= freeWeeks.loc['E5'].Weeks)\n",
    "program.add_constraint(assignment[('C1', 'E6')] + assignment[('C2', 'E6')] + assignment[('C3', 'E6')] + assignment[('C5', 'E6')] <= freeWeeks.loc['E6'].Weeks)"
   ]
  },
  {
   "cell_type": "markdown",
   "metadata": {},
   "source": [
    "<br/>\n",
    "\n",
    "The following restrictions limit that only the exact number of services will be completed by accredited engineers to deliver that service."
   ]
  },
  {
   "cell_type": "code",
   "execution_count": 9,
   "metadata": {
    "jupyter": {
     "outputs_hidden": false
    }
   },
   "outputs": [
    {
     "name": "stdout",
     "output_type": "stream",
     "text": [
      "Minimization:\n",
      "  111.0 Assignment[('C1', 'E3')] + 125.0 Assignment[('C1', 'E6')] + 113.0 Assignment[('C2', 'E1')] + 97.0 Assignment[('C2', 'E2')] + 107.0 Assignment[('C2', 'E6')] + 120.0 Assignment[('C3', 'E3')] + 60.0 Assignment[('C3', 'E6')] + 113.0 Assignment[('C3', 'E4')] + 127.0 Assignment[('C4', 'E2')] + 93.0 Assignment[('C4', 'E4')] + 60.0 Assignment[('C5', 'E1')] + 119.0 Assignment[('C5', 'E3')] + 114.0 Assignment[('C5', 'E5')] + 64.0 Assignment[('C5', 'E6')] + 113.0 Assignment[('C5', 'E2')] + 112.0 Assignment[('C5', 'E4')] \n",
      "\n",
      "Constraints:\n",
      "  Assignment[('C2', 'E1')] + Assignment[('C5', 'E1')] <= 2.0\n",
      "  Assignment[('C2', 'E2')] + Assignment[('C4', 'E2')] + Assignment[('C5', 'E2')] <= 1.0\n",
      "  Assignment[('C1', 'E3')] + Assignment[('C3', 'E3')] + Assignment[('C5', 'E3')] <= 3.0\n",
      "  Assignment[('C3', 'E4')] + Assignment[('C4', 'E4')] + Assignment[('C5', 'E4')] <= 2.0\n",
      "  Assignment[('C5', 'E5')] <= 1.0\n",
      "  Assignment[('C1', 'E6')] + Assignment[('C2', 'E6')] + Assignment[('C3', 'E6')] + Assignment[('C5', 'E6')] <= 3.0\n",
      "  2.0 <= Assignment[('C1', 'E3')] + Assignment[('C1', 'E6')] <= 2.0\n",
      "  1.0 <= Assignment[('C2', 'E1')] + Assignment[('C2', 'E2')] + Assignment[('C2', 'E6')] <= 1.0\n",
      "  2.0 <= Assignment[('C3', 'E3')] + Assignment[('C3', 'E6')] + Assignment[('C3', 'E4')] <= 2.0\n",
      "  2.0 <= Assignment[('C4', 'E2')] + Assignment[('C4', 'E4')] <= 2.0\n",
      "  2.0 <= Assignment[('C5', 'E1')] + Assignment[('C5', 'E3')] + Assignment[('C5', 'E5')] + Assignment[('C5', 'E6')] + Assignment[('C5', 'E2')] + Assignment[('C5', 'E4')] <= 2.0\n",
      "Variables:\n",
      "  Assignment[('C1', 'E3')] = x_0 is an integer variable (min=0.0, max=+oo)\n",
      "  Assignment[('C1', 'E6')] = x_1 is an integer variable (min=0.0, max=+oo)\n",
      "  Assignment[('C2', 'E1')] = x_2 is an integer variable (min=0.0, max=+oo)\n",
      "  Assignment[('C2', 'E2')] = x_3 is an integer variable (min=0.0, max=+oo)\n",
      "  Assignment[('C2', 'E6')] = x_4 is an integer variable (min=0.0, max=+oo)\n",
      "  Assignment[('C3', 'E3')] = x_5 is an integer variable (min=0.0, max=+oo)\n",
      "  Assignment[('C3', 'E6')] = x_6 is an integer variable (min=0.0, max=+oo)\n",
      "  Assignment[('C3', 'E4')] = x_7 is an integer variable (min=0.0, max=+oo)\n",
      "  Assignment[('C4', 'E2')] = x_8 is an integer variable (min=0.0, max=+oo)\n",
      "  Assignment[('C4', 'E4')] = x_9 is an integer variable (min=0.0, max=+oo)\n",
      "  Assignment[('C5', 'E1')] = x_10 is an integer variable (min=0.0, max=+oo)\n",
      "  Assignment[('C5', 'E3')] = x_11 is an integer variable (min=0.0, max=+oo)\n",
      "  Assignment[('C5', 'E5')] = x_12 is an integer variable (min=0.0, max=+oo)\n",
      "  Assignment[('C5', 'E6')] = x_13 is an integer variable (min=0.0, max=+oo)\n",
      "  Assignment[('C5', 'E2')] = x_14 is an integer variable (min=0.0, max=+oo)\n",
      "  Assignment[('C5', 'E4')] = x_15 is an integer variable (min=0.0, max=+oo)\n"
     ]
    }
   ],
   "source": [
    "program.add_constraint(assignment[('C1', 'E3')] + assignment[('C1', 'E6')] == requests.loc['C1'].sum())\n",
    "program.add_constraint(assignment[('C2', 'E1')] + assignment[('C2', 'E2')] + assignment[('C2', 'E6')] == requests.loc['C2'].sum())\n",
    "program.add_constraint(assignment[('C3', 'E3')] + assignment[('C3', 'E6')] + assignment[('C3', 'E4')] == requests.loc['C3'].sum())\n",
    "program.add_constraint(assignment[('C4', 'E2')] + assignment[('C4', 'E4')] == requests.loc['C4'].sum())\n",
    "program.add_constraint(assignment[('C5', 'E1')] + assignment[('C5', 'E3')] + assignment[('C5', 'E5')] + assignment[('C5', 'E6')] + assignment[('C5', 'E2')] + assignment[('C5', 'E4')] == requests.loc['C5'].sum())\n",
    "program.show()"
   ]
  },
  {
   "cell_type": "markdown",
   "metadata": {},
   "source": [
    "<br/>\n",
    "\n",
    "Now we will run the \"Sagemath\" solver. The minimum cost of assigning engineers to client requests delimited by restrictions is $ 745.00."
   ]
  },
  {
   "cell_type": "code",
   "execution_count": 10,
   "metadata": {
    "jupyter": {
     "outputs_hidden": false
    }
   },
   "outputs": [
    {
     "name": "stdout",
     "output_type": "stream",
     "text": [
      "745.0\n"
     ]
    }
   ],
   "source": [
    "solution = program.solve()\n",
    "print(solution)"
   ]
  },
  {
   "cell_type": "markdown",
   "metadata": {},
   "source": [
    "<br/>\n",
    "\n",
    "Now the system resolution is invoked. For this case, the minimum cost of assigning engineers to client requests is $ 745.00.\n",
    "This is the minimum cost that can be obtained under the constraints specified in the model."
   ]
  },
  {
   "cell_type": "code",
   "execution_count": 11,
   "metadata": {
    "jupyter": {
     "outputs_hidden": false
    }
   },
   "outputs": [
    {
     "name": "stdout",
     "output_type": "stream",
     "text": [
      "Customer C1 requested 2 services\n",
      "\tEngineer E3 will execute 2 services. Cost is $222.00\n",
      "\tEngineer E6 will execute 0 services. Cost is $0.00\n",
      "Customer C2 requested 1 services\n",
      "\tEngineer E1 will execute 0 services. Cost is $0.00\n",
      "\tEngineer E2 will execute 1 services. Cost is $97.00\n",
      "\tEngineer E6 will execute 0 services. Cost is $0.00\n",
      "Customer C3 requested 2 services\n",
      "\tEngineer E3 will execute 0 services. Cost is $0.00\n",
      "\tEngineer E6 will execute 2 services. Cost is $120.00\n",
      "\tEngineer E4 will execute 0 services. Cost is $0.00\n",
      "Customer C4 requested 2 services\n",
      "\tEngineer E2 will execute 0 services. Cost is $0.00\n",
      "\tEngineer E4 will execute 2 services. Cost is $186.00\n",
      "Customer C5 requested 2 services\n",
      "\tEngineer E1 will execute 2 services. Cost is $120.00\n",
      "\tEngineer E3 will execute 0 services. Cost is $0.00\n",
      "\tEngineer E5 will execute 0 services. Cost is $0.00\n",
      "\tEngineer E6 will execute 0 services. Cost is $0.00\n",
      "\tEngineer E2 will execute 0 services. Cost is $0.00\n",
      "\tEngineer E4 will execute 0 services. Cost is $0.00\n",
      "\n",
      "Total program cost = $745.00\n"
     ]
    }
   ],
   "source": [
    "summation = 0\n",
    "previouskey = ''\n",
    "for key, val in program.get_values(assignment).items():\n",
    "    ##if val != 0:\n",
    "    solicitudestotal = requests.Service01.loc[key[0]] + requests.Service02.loc[key[0]] + requests.Service03.loc[key[0]] + requests.Service04.loc[key[0]] + requests.Service05.loc[key[0]] + requests.Service06.loc[key[0]]\n",
    "    if previouskey != key[0]:\n",
    "        print(\"Customer\", key[0] , \"requested\", solicitudestotal, \"services\")\n",
    "        previouskey = key[0]\n",
    "    parcial = val * costs[key[0]].loc[key[1]]\n",
    "    summation += parcial\n",
    "    print(\"\\tEngineer\", key[1] , \"will execute {:.0f}\".format(val), \"services. Cost is ${:,.2f}\".format(parcial))\n",
    "print(\"\\nTotal program cost = ${:,.2f}\".format(summation))"
   ]
  }
 ],
 "metadata": {
  "kernelspec": {
   "display_name": "SageMath 9.2",
   "language": "sage",
   "name": "sagemath"
  },
  "language_info": {
   "codemirror_mode": {
    "name": "ipython",
    "version": 3
   },
   "file_extension": ".py",
   "mimetype": "text/x-python",
   "name": "python",
   "nbconvert_exporter": "python",
   "pygments_lexer": "ipython3",
   "version": "3.7.7"
  }
 },
 "nbformat": 4,
 "nbformat_minor": 4
}
