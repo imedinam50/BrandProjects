{
 "cells": [
  {
   "cell_type": "markdown",
   "metadata": {
    "id": "l6eX7dylf_aL"
   },
   "source": [
    "<img src=\"https://www.globallogic.com/de/wp-content/uploads/sites/26/2019/10/Machine-Learning.jpg\">\n",
    "\n",
    "<br><br>\n",
    "\n",
    "<H2><B> Cómputo cognitivo con aprendizaje profundo aplicado a la música</B></H2>\n",
    "<br><br>\n",
    "<H3><I> Ismael Medina Muñoz </I></H3>\n",
    "\n",
    "---"
   ]
  },
  {
   "cell_type": "markdown",
   "metadata": {
    "id": "VrH-g1Ktgf34"
   },
   "source": [
    "# Planteamiento del problema\n",
    "La creación artística está siendo impactada por la inteligencia artificial. La música no es un campo ajeno a dicho impacto. La creación musical es un proceso que toma tiempo para el compositor. En un contexto de creación de obras artísticas usadas en productos como comerciales de productos, videojuegos, contenido audiovisual en internet, etc. se requiere de la producción acelerada.\n",
    "Esta actividad de creación musical ha sido una actividad atribuida meramente a los humanos, tal cómo lo establece Morán Martinez, M (2009).\n",
    "\n",
    "    La creación, la ejecución y la apreciación de la música obedecen fundamentalmente a la capacidad humana para descubrir patrones de sonido e identificarlos en ocasiones posteriores. Sin los procesos biológicos de percepción auditiva y sin consenso cultural sobre lo percibido, entre por lo menos algunos oyentes, no pueden existir ni música ni comunicación musical.\n",
    "\n",
    "Si bien existen ya muchas investigaciones sobre la composición musical automatizada, la creación asistida e interactiva para los compositores es aún un reto para la investigación, tal como menciona Briot, J. (2021).\n",
    "\n",
    "Para componer música necesitamos entonces de un generador de nuevas notas singulares o acordes basado en secuencias existentes y coherentes que ya sean parte de un corpus de entrenamiento.\n",
    "\n",
    "En este experimento se entrenará una red neuronal profunda para que sea un generador de nuevas notas o acordes a partir de dos vectores que representen una nota o un acorde inicial. Este generador será un precursor a la asistencia en la composición de piezas de jazz para piano. Se escogió el género del jazz dado que éste representa un reto para los músicos por su complejidad y riqueza lingüística."
   ]
  },
  {
   "cell_type": "markdown",
   "metadata": {
    "id": "jhQTy-DcglsT"
   },
   "source": [
    "# Metodología propuesta y fundamentación\n",
    "La composición musical consiste de crear secuencias de $n$-notas con $n = {0, 1, 2, 3, 4, 5, 6, 7, 8, 9, 10}$, donde también es posible registrar el silencio por $0$-notas y describir acordes de $2$-notas o más. Las $n$-notas ejecutadas en una secuencia $S$ deben ser agradables el oído humano. Las partituras permiten registrar la música a través de escribir las $n$-notas colocadas en relación a su posición relativa en una secuencia $S$ dentro de los límites de un compás. Cada conjunto de $n$-notas tienen una duración que se mantienen bajo las reglas y límites propios de los compases.\n",
    "\n",
    "La música es precursor del lenguaje hablado y por tanto mantiene una similitud con ésta, tal como establece Lozano(2013). Una oración sólo tiene coherencia si las palabras que la forman resultan en un significado para el receptor de la comunicación. Las oraciones forman párrafos y los signos de puntuación permiten agregar pausas y entonaciones que ayudan a que el cerebro del receptor consuma la información que el emisor pretendía.\n",
    "\n",
    "Se escogió una fuente digital de partituras para modelar la secuencia $S$ de $n$-notas. El corpus provino entonces de [musescore.com]. Desde este sitio se descargaron las partituras en formato **MSCZ** pertenecientes al género del jazz y de ahí se propone hacer la extracción de las $n$-notas asociadas al piano, ya que dichas partituras pueden tener más de un instrumento descrito en sus pentagramas.\n",
    "\n",
    "Mediante la librería `ms3` se abrirán las partituras y de ellas se obtendrán las secuencias de $n$-notas asociadas al piano. con dichas notas se generarán secuencias de acordes y estas secuencias serán usadas para entrenar la red neuronal que predecirá el siguiente acorde de $n$-notas en la secuencia. Este generador será el antecedente para la composición musical.\n",
    "\n",
    "Este trabajo es similar al que ya se aplica para predecir la siguiente palabra o el siguiente número dada una secuencia previa y que ha sido modelado usando redes neuronales recurrentes (RNN). "
   ]
  },
  {
   "cell_type": "markdown",
   "metadata": {},
   "source": [
    "# Implementación de la metodología\n",
    "## Carga de librerías y las rutas del corpus"
   ]
  },
  {
   "cell_type": "code",
   "execution_count": 1,
   "metadata": {},
   "outputs": [],
   "source": [
    "from ms3 import Score, Parse\n",
    "import ms3\n",
    "import os\n",
    "import pandas as pd\n",
    "import math\n",
    "\n",
    "import matplotlib.pyplot as plt\n",
    "%matplotlib inline\n",
    "import seaborn as sns"
   ]
  },
  {
   "cell_type": "code",
   "execution_count": 2,
   "metadata": {},
   "outputs": [],
   "source": [
    "mscx_path = 'C:\\\\Users\\\\ismedina\\\\Documents\\\\Maestría\\\\2022-1\\\\SeminarioII\\\\corpus\\\\' ## full\n",
    "##mscx_path = 'C:\\\\Users\\\\ismedina\\\\Documents\\\\Maestría\\\\2022-1\\\\SeminarioII\\\\crp02\\\\' ## muestra"
   ]
  },
  {
   "cell_type": "markdown",
   "metadata": {},
   "source": [
    "## Particularidades del corpus de partituras\n",
    "Mediante la librería `ms3` se pueden abrir archivos de partituras del software libre MuseScore. La herramienta MuseScore es un proyecto de comunidad que se define como una plataforma de creación de partituras y que además cuenta con un repositorio para que los compositores compartan las partituras creadas. Es de esta fuente que se descargaron 636 partituras en formato **MSCZ** mediante el objeto `Score` de la librería.\n",
    "\n",
    "El objeto `Score` describe metadata que describe que la partitura se divide en partes (`Parts`). Cada parte describe los pentagramas (`Staves`) asociados a un instrumento (`Instrument`). Con dicha metadata entonces se puede extraer el conjunto de notas y silencios `notes_and_rests`.\n",
    "\n",
    "El conjunto de datos `notes_and_rests` es un Pandas DataFrame que describe una partitura con las siguientes columnas.\n",
    "\n",
    "* **Measure Count (mc)**. La característica describe el compás actual donde la nota o el silencio están siendo descritos.\n",
    "* **Measure Number (mn)**. La característica describe el número de compás completo donde la nota o el silencio están siendo descritos.\n",
    "* **Measure Number On Set (mn_onset)**. La característica describe la distancia de la posición solicitada desde el tiempo 1 del compás completo (mn), expresada como fracción de una nota entera. El valor predeterminado es 0, es decir, la posición del tiempo 1.\n",
    "* **Time Signature (timesig)**. Tiempo del compás actual y de ahí los subsecuentes.\n",
    "* **Staff (staff)**. Número del pentagrama en la partitura.\n",
    "* **Voice (voice)**. Número de la voz del instrumento que ejecuta la partitura.\n",
    "* **Duration (duration)**. Duración de la nota en cuestión\n",
    "* **Tied (tied)**. Ligadura, esto indica que la nota está ligada hacia adelante (1) o hacia atrás (-1) con otras notas en la partitura.\n",
    "* **MIDI (midi)**. Nota MIDI que debe ser ejecutada por la voz en una posición específica, con una duración específica, en un pentagrama específico y que puede tener ligaduras en la partitura.\n",
    "* **Tonal pitch classes (tpc)**.\n",
    "* **Chord ID (chord_id)**."
   ]
  },
  {
   "cell_type": "markdown",
   "metadata": {},
   "source": [
    "## Análisis Exploratorio de Datos\n",
    "Para entender las partituras se hizo un análisis exploratorio de datos. A continuación de presentan los análisis.\n",
    "\n",
    "### \"Measure count\" vs. \"Measure number\"\n",
    "En primera instancia, del corpus se buscó identificar el significado de las características **MC** y **MN** dado que no estaba claro que significaba. Es por eso que en el análisis se compara el valor **MC** contra el valor **MN** usando la media. No se encontró una diferencia que pareciera relevante al análisis. De hecho, se encontró que la característica de importancia para trabajar con grupos de $n$-notas pulsadas en un mismo tiempo es **mn_onset**."
   ]
  },
  {
   "cell_type": "code",
   "execution_count": 3,
   "metadata": {
    "scrolled": true
   },
   "outputs": [
    {
     "name": "stdout",
     "output_type": "stream",
     "text": [
      "......"
     ]
    },
    {
     "name": "stderr",
     "output_type": "stream",
     "text": [
      "C:\\Users\\ismedina\\Anaconda3\\envs\\MCDI2022_01_CompCognitivo\\lib\\site-packages\\ms3\\utils.py:1506: FutureWarning: The default dtype for empty Series will be 'object' instead of 'float64' in a future version. Specify a dtype explicitly to silence this warning.\n",
      "  mc_playthrough = pd.Series(seq, name='mc_playthrough')\n"
     ]
    },
    {
     "name": "stdout",
     "output_type": "stream",
     "text": [
      "...!....!.!............!.!...!.....!...!....!..!.!..!..!...............!..............!.......!...!.!........!.........!...!..!..!.!.!...!.!....!.!..!..!....!.!.....!......!.....!.....!......"
     ]
    },
    {
     "name": "stderr",
     "output_type": "stream",
     "text": [
      "C:\\Users\\ismedina\\Anaconda3\\envs\\MCDI2022_01_CompCognitivo\\lib\\site-packages\\ms3\\utils.py:1506: FutureWarning: The default dtype for empty Series will be 'object' instead of 'float64' in a future version. Specify a dtype explicitly to silence this warning.\n",
      "  mc_playthrough = pd.Series(seq, name='mc_playthrough')\n"
     ]
    },
    {
     "name": "stdout",
     "output_type": "stream",
     "text": [
      ".!.!...."
     ]
    },
    {
     "name": "stderr",
     "output_type": "stream",
     "text": [
      "C:\\Users\\ismedina\\Anaconda3\\envs\\MCDI2022_01_CompCognitivo\\lib\\site-packages\\ms3\\bs4_measures.py:709: FutureWarning: The default dtype for empty Series will be 'object' instead of 'float64' in a future version. Specify a dtype explicitly to silence this warning.\n",
      "  return pd.Series(result, name=name).reindex(df.index, fill_value=0)\n"
     ]
    },
    {
     "name": "stdout",
     "output_type": "stream",
     "text": [
      ".........!.....!................."
     ]
    },
    {
     "name": "stderr",
     "output_type": "stream",
     "text": [
      "C:\\Users\\ismedina\\Anaconda3\\envs\\MCDI2022_01_CompCognitivo\\lib\\site-packages\\ms3\\bs4_measures.py:709: FutureWarning: The default dtype for empty Series will be 'object' instead of 'float64' in a future version. Specify a dtype explicitly to silence this warning.\n",
      "  return pd.Series(result, name=name).reindex(df.index, fill_value=0)\n"
     ]
    },
    {
     "name": "stdout",
     "output_type": "stream",
     "text": [
      "..............!..!...!....!.!.!...!.......!......!.!.........!.!...!.!.!.!.!..!..!...!......!....!.!.!.!.!....!....!.."
     ]
    },
    {
     "name": "stderr",
     "output_type": "stream",
     "text": [
      "C:\\Users\\ismedina\\Anaconda3\\envs\\MCDI2022_01_CompCognitivo\\lib\\site-packages\\ms3\\utils.py:1506: FutureWarning: The default dtype for empty Series will be 'object' instead of 'float64' in a future version. Specify a dtype explicitly to silence this warning.\n",
      "  mc_playthrough = pd.Series(seq, name='mc_playthrough')\n"
     ]
    },
    {
     "name": "stdout",
     "output_type": "stream",
     "text": [
      ".......!..!..!............!.."
     ]
    },
    {
     "name": "stderr",
     "output_type": "stream",
     "text": [
      "C:\\Users\\ismedina\\Anaconda3\\envs\\MCDI2022_01_CompCognitivo\\lib\\site-packages\\ms3\\utils.py:1506: FutureWarning: The default dtype for empty Series will be 'object' instead of 'float64' in a future version. Specify a dtype explicitly to silence this warning.\n",
      "  mc_playthrough = pd.Series(seq, name='mc_playthrough')\n"
     ]
    },
    {
     "name": "stdout",
     "output_type": "stream",
     "text": [
      ".......!...!.!......!.!.......!.!.!....!...!.!..!..."
     ]
    },
    {
     "name": "stderr",
     "output_type": "stream",
     "text": [
      "C:\\Users\\ismedina\\Anaconda3\\envs\\MCDI2022_01_CompCognitivo\\lib\\site-packages\\ms3\\utils.py:1506: FutureWarning: The default dtype for empty Series will be 'object' instead of 'float64' in a future version. Specify a dtype explicitly to silence this warning.\n",
      "  mc_playthrough = pd.Series(seq, name='mc_playthrough')\n"
     ]
    },
    {
     "name": "stdout",
     "output_type": "stream",
     "text": [
      ".........!........!.....!.!.!.!.!.!.!.!.!.!.!.!.!.!.!.!.!.!.!.!..!.!....!............!....!.!.!..........!..........!....!...!...!........!......!...!.!..!.!...!......!.!............!....!..!.....!.!...!.!.!.!..!..!.!.!.!.!.!..!.....!......!.!.!.!.!.!.......!.!...!.....!....!.!....!.!..!.......!....!...!.!..!.!.....!..!...!...!..................."
     ]
    },
    {
     "name": "stderr",
     "output_type": "stream",
     "text": [
      "C:\\Users\\ismedina\\Anaconda3\\envs\\MCDI2022_01_CompCognitivo\\lib\\site-packages\\ms3\\utils.py:1506: FutureWarning: The default dtype for empty Series will be 'object' instead of 'float64' in a future version. Specify a dtype explicitly to silence this warning.\n",
      "  mc_playthrough = pd.Series(seq, name='mc_playthrough')\n"
     ]
    },
    {
     "name": "stdout",
     "output_type": "stream",
     "text": [
      ".....!.....!............"
     ]
    }
   ],
   "source": [
    "mc_and_mn = pd.DataFrame(columns=['filename', 'part',\n",
    "                                  'staves', 'mc_mean', 'mn_mean'])\n",
    "\n",
    "for filename in os.listdir(mscx_path):\n",
    "    try:\n",
    "        print('.', end = '')\n",
    "\n",
    "        s = Score(mscx_path + '\\\\' + filename, read_only=True, logger_cfg = dict(level='CRITICAL'))\n",
    "\n",
    "        for part in s.mscx.metadata['parts']:\n",
    "            if s.mscx.metadata['parts'][part]['instrument'] == 'Piano':\n",
    "                staves = s.mscx.metadata['parts'][part]['staves']\n",
    "                mc_mean = s.mscx.notes_and_rests[s.mscx.notes_and_rests.staff.isin(staves)].mc.describe()['mean']\n",
    "                mn_mean = s.mscx.notes_and_rests[s.mscx.notes_and_rests.staff.isin(staves)].mn.describe()['mean']\n",
    "\n",
    "                mc_and_mn.loc[len(mc_and_mn.index)] = [filename, part, staves, mc_mean, mn_mean]                \n",
    "    except:\n",
    "        print('!', end = '')"
   ]
  },
  {
   "cell_type": "markdown",
   "metadata": {},
   "source": [
    "Dados algunos problemas de compatibilidad entre Pandas y Keras he preferido hacer el almacenamiento del DataFrame para la carga posterior y su visualización gráfica."
   ]
  },
  {
   "cell_type": "code",
   "execution_count": 4,
   "metadata": {},
   "outputs": [],
   "source": [
    "mc_and_mn.to_csv('C:\\\\Users\\\\ismedina\\\\Documents\\\\Maestría\\\\2022-1\\\\SeminarioII\\\\mc_and_mn.csv')"
   ]
  },
  {
   "cell_type": "code",
   "execution_count": 5,
   "metadata": {},
   "outputs": [],
   "source": [
    "mc_and_mn = pd.read_csv('C:\\\\Users\\\\ismedina\\\\Documents\\\\Maestría\\\\2022-1\\\\SeminarioII\\\\mc_and_mn.csv', index_col = 0)"
   ]
  },
  {
   "cell_type": "code",
   "execution_count": 6,
   "metadata": {},
   "outputs": [
    {
     "data": {
      "image/png": "[encoded data removed]",
      "text/plain": [
       "<Figure size 1440x1080 with 4 Axes>"
      ]
     },
     "metadata": {
      "needs_background": "light"
     },
     "output_type": "display_data"
    }
   ],
   "source": [
    "column_names = sorted(mc_and_mn.part.unique().tolist())\n",
    "\n",
    "columnas = 2\n",
    "renglones = math.ceil(len(column_names) / columnas)\n",
    "\n",
    "fig, axes = plt.subplots(nrows = renglones, ncols = columnas, figsize=(20, 15))\n",
    "fig.suptitle(\"Relación MC. vs MN.\", fontsize = 16)\n",
    "\n",
    "i = 0\n",
    "j = 0\n",
    "    \n",
    "for col in column_names:\n",
    "    ##for cumple in range (0, 2): ## Casos 0 y 1 de cumplimiento\n",
    "    sns.histplot(data = mc_and_mn[mc_and_mn.part == col], x = 'mc_mean',\n",
    "                 label = 'mc_mean',\n",
    "                 ax = axes[i][j], multiple='layer', color='g')\n",
    "\n",
    "    sns.histplot(data = mc_and_mn[mc_and_mn.part == col], x = 'mn_mean',\n",
    "                 label = 'mn_mean',\n",
    "                 ax = axes[i][j], multiple='layer', color='orange')\n",
    "    \n",
    "    axes[i][j].set_title(col)\n",
    "    axes[i][j].set(xlabel=\"cantidad\")\n",
    "    axes[i][j].legend()\n",
    "    \n",
    "    j += 1\n",
    "    if j > columnas - 1:\n",
    "        i += 1\n",
    "        j = 0\n",
    "\n",
    "fig.tight_layout()        "
   ]
  },
  {
   "cell_type": "markdown",
   "metadata": {},
   "source": [
    "Hasta acá es claro que la media de **Measure Number** y la media de **Measure Count** no tiene una clara tendencia, sino que más bien a veces uno es más grande que otro y viceversa."
   ]
  },
  {
   "cell_type": "markdown",
   "metadata": {},
   "source": [
    "### ¿Realmente los acordes son de 10 notas?\n",
    "Es importante identificar si para cada tiempo tenemos la pulsación de 10 notas cómo máximo. Suponemos que cada conjunto de $n$-notas pulsadas en la misma posición relativa en el compás debe ser de 10 posiciones cuando más. Aquí lo vamos a comprobar."
   ]
  },
  {
   "cell_type": "code",
   "execution_count": 7,
   "metadata": {
    "scrolled": true
   },
   "outputs": [
    {
     "name": "stdout",
     "output_type": "stream",
     "text": [
      "......"
     ]
    },
    {
     "name": "stderr",
     "output_type": "stream",
     "text": [
      "C:\\Users\\ismedina\\Anaconda3\\envs\\MCDI2022_01_CompCognitivo\\lib\\site-packages\\ms3\\utils.py:1506: FutureWarning: The default dtype for empty Series will be 'object' instead of 'float64' in a future version. Specify a dtype explicitly to silence this warning.\n",
      "  mc_playthrough = pd.Series(seq, name='mc_playthrough')\n"
     ]
    },
    {
     "name": "stdout",
     "output_type": "stream",
     "text": [
      "...!....!.!............!.!...!.....!...!....!..!.!..!..!...............!..............!.......!...!.!........!.........!...!..!..!.!.!...!.!....!.!..!..!....!.!.....!......!.....!.....!......"
     ]
    },
    {
     "name": "stderr",
     "output_type": "stream",
     "text": [
      "C:\\Users\\ismedina\\Anaconda3\\envs\\MCDI2022_01_CompCognitivo\\lib\\site-packages\\ms3\\utils.py:1506: FutureWarning: The default dtype for empty Series will be 'object' instead of 'float64' in a future version. Specify a dtype explicitly to silence this warning.\n",
      "  mc_playthrough = pd.Series(seq, name='mc_playthrough')\n"
     ]
    },
    {
     "name": "stdout",
     "output_type": "stream",
     "text": [
      ".!.!...."
     ]
    },
    {
     "name": "stderr",
     "output_type": "stream",
     "text": [
      "C:\\Users\\ismedina\\Anaconda3\\envs\\MCDI2022_01_CompCognitivo\\lib\\site-packages\\ms3\\bs4_measures.py:709: FutureWarning: The default dtype for empty Series will be 'object' instead of 'float64' in a future version. Specify a dtype explicitly to silence this warning.\n",
      "  return pd.Series(result, name=name).reindex(df.index, fill_value=0)\n"
     ]
    },
    {
     "name": "stdout",
     "output_type": "stream",
     "text": [
      ".........!.....!................."
     ]
    },
    {
     "name": "stderr",
     "output_type": "stream",
     "text": [
      "C:\\Users\\ismedina\\Anaconda3\\envs\\MCDI2022_01_CompCognitivo\\lib\\site-packages\\ms3\\bs4_measures.py:709: FutureWarning: The default dtype for empty Series will be 'object' instead of 'float64' in a future version. Specify a dtype explicitly to silence this warning.\n",
      "  return pd.Series(result, name=name).reindex(df.index, fill_value=0)\n"
     ]
    },
    {
     "name": "stdout",
     "output_type": "stream",
     "text": [
      "..............!..!...!....!.!.!...!.......!......!.!.........!.!...!.!.!.!.!..!..!...!......!....!.!.!.!.!....!....!.."
     ]
    },
    {
     "name": "stderr",
     "output_type": "stream",
     "text": [
      "C:\\Users\\ismedina\\Anaconda3\\envs\\MCDI2022_01_CompCognitivo\\lib\\site-packages\\ms3\\utils.py:1506: FutureWarning: The default dtype for empty Series will be 'object' instead of 'float64' in a future version. Specify a dtype explicitly to silence this warning.\n",
      "  mc_playthrough = pd.Series(seq, name='mc_playthrough')\n"
     ]
    },
    {
     "name": "stdout",
     "output_type": "stream",
     "text": [
      ".......!..!..!............!.."
     ]
    },
    {
     "name": "stderr",
     "output_type": "stream",
     "text": [
      "C:\\Users\\ismedina\\Anaconda3\\envs\\MCDI2022_01_CompCognitivo\\lib\\site-packages\\ms3\\utils.py:1506: FutureWarning: The default dtype for empty Series will be 'object' instead of 'float64' in a future version. Specify a dtype explicitly to silence this warning.\n",
      "  mc_playthrough = pd.Series(seq, name='mc_playthrough')\n"
     ]
    },
    {
     "name": "stdout",
     "output_type": "stream",
     "text": [
      ".......!...!.!......!.!.......!.!.!....!...!.!..!..."
     ]
    },
    {
     "name": "stderr",
     "output_type": "stream",
     "text": [
      "C:\\Users\\ismedina\\Anaconda3\\envs\\MCDI2022_01_CompCognitivo\\lib\\site-packages\\ms3\\utils.py:1506: FutureWarning: The default dtype for empty Series will be 'object' instead of 'float64' in a future version. Specify a dtype explicitly to silence this warning.\n",
      "  mc_playthrough = pd.Series(seq, name='mc_playthrough')\n"
     ]
    },
    {
     "name": "stdout",
     "output_type": "stream",
     "text": [
      ".........!........!.....!.!.!.!.!.!.!.!.!.!.!.!.!.!.!.!.!.!.!.!..!.!....!............!....!.!.!..........!..........!....!...!...!........!......!...!.!..!.!...!......!.!............!....!..!.....!.!...!.!.!.!..!..!.!.!.!.!.!..!.....!......!.!.!.!.!.!.......!.!...!.....!....!.!....!.!..!.......!....!...!.!..!.!.....!..!...!...!..................."
     ]
    },
    {
     "name": "stderr",
     "output_type": "stream",
     "text": [
      "C:\\Users\\ismedina\\Anaconda3\\envs\\MCDI2022_01_CompCognitivo\\lib\\site-packages\\ms3\\utils.py:1506: FutureWarning: The default dtype for empty Series will be 'object' instead of 'float64' in a future version. Specify a dtype explicitly to silence this warning.\n",
      "  mc_playthrough = pd.Series(seq, name='mc_playthrough')\n"
     ]
    },
    {
     "name": "stdout",
     "output_type": "stream",
     "text": [
      ".....!.....!............"
     ]
    }
   ],
   "source": [
    "n_notes_count = pd.DataFrame(columns=['filename', 'part',\n",
    "                                  'staves',\n",
    "                                  'max_n_notes'])\n",
    "max_midi = 0\n",
    "\n",
    "for filename in os.listdir(mscx_path):\n",
    "    try:\n",
    "        print('.', end = '')\n",
    "        \n",
    "        s = Score(mscx_path + '\\\\' + filename, read_only=True, logger_cfg = dict(level='CRITICAL'))\n",
    "\n",
    "        for part in s.mscx.metadata['parts']:\n",
    "            if s.mscx.metadata['parts'][part]['instrument'] == 'Piano':\n",
    "                staves = s.mscx.metadata['parts'][part]['staves']\n",
    "                piano_notes_rests = s.mscx.notes_and_rests[s.mscx.notes_and_rests.staff.isin(staves)]\n",
    "                max_n_notes = piano_notes_rests.groupby(by=[\"mc\", \"mn_onset\"]).count().max().midi\n",
    "                n_notes_count.loc[len(n_notes_count.index)] = [filename, part, staves, max_n_notes]\n",
    "                \n",
    "    except:\n",
    "        print('!', end = '')\n",
    "        ##print('Error en el archivo: ', filename)"
   ]
  },
  {
   "cell_type": "code",
   "execution_count": 8,
   "metadata": {},
   "outputs": [],
   "source": [
    "n_notes_count.to_csv('C:\\\\Users\\\\ismedina\\\\Documents\\\\Maestría\\\\2022-1\\\\SeminarioII\\\\n_notes_count.csv')"
   ]
  },
  {
   "cell_type": "code",
   "execution_count": 9,
   "metadata": {},
   "outputs": [],
   "source": [
    "n_notes_count = pd.read_csv('C:\\\\Users\\\\ismedina\\\\Documents\\\\Maestría\\\\2022-1\\\\SeminarioII\\\\n_notes_count.csv', index_col = 0)"
   ]
  },
  {
   "cell_type": "code",
   "execution_count": 10,
   "metadata": {},
   "outputs": [
    {
     "data": {
      "image/png": "[encoded data removed]",
      "text/plain": [
       "<Figure size 1440x1080 with 4 Axes>"
      ]
     },
     "metadata": {
      "needs_background": "light"
     },
     "output_type": "display_data"
    }
   ],
   "source": [
    "column_names = sorted(n_notes_count.part.unique().tolist())\n",
    "\n",
    "columnas = 2\n",
    "renglones = math.ceil(len(column_names) / columnas)\n",
    "\n",
    "fig, axes = plt.subplots(nrows = renglones, ncols = columnas, figsize=(20, 15))\n",
    "fig.suptitle(\"Histograma n-notes\", fontsize = 16)\n",
    "\n",
    "i = 0\n",
    "j = 0\n",
    "    \n",
    "for col in column_names:\n",
    "    sns.histplot(data = n_notes_count[n_notes_count.part == col], x = 'max_n_notes',\n",
    "                 label = 'max_n_notes',\n",
    "                 ax = axes[i][j], multiple='layer', color='green')\n",
    "\n",
    "    axes[i][j].set_title(col)\n",
    "    axes[i][j].set(xlabel=\"n\")\n",
    "    axes[i][j].legend()\n",
    "    \n",
    "    j += 1\n",
    "    if j > columnas - 1:\n",
    "        i += 1\n",
    "        j = 0\n",
    "\n",
    "fig.tight_layout()  "
   ]
  },
  {
   "cell_type": "markdown",
   "metadata": {},
   "source": [
    "Se comprueba que, para un mismo tiempo en la partitura, hay una tendencia a pulsar 10 teclas o menos dado que el ejecutante tendrá este número máximo de dedos para la pulsación en el piano aun cuando hay casos extremos donde en un mismo tiempo se pulsan casi 80 notas.\n",
    "Podemos entonces generar un Pandas DataFrame que contenga un registro con un índice numérico que describa grupos de $n$-notas con $0 \\le n \\le 10$. "
   ]
  },
  {
   "cell_type": "markdown",
   "metadata": {},
   "source": [
    "### Estadísticas de las duraciones de las notas\n",
    "Para un trabajo posterior a desarrollar, resulta de interés el obtener las duraciones de las notas que conformarán el dataframe del mapa de conjuntos de $n$-notas. Para esto se usó el objeto `Parse`. Este objeto permite obtener información descriptiva de los archivos en una carpeta que, para nuestro caso, será el corpus."
   ]
  },
  {
   "cell_type": "code",
   "execution_count": 11,
   "metadata": {
    "scrolled": true
   },
   "outputs": [
    {
     "name": "stdout",
     "output_type": "stream",
     "text": [
      "......"
     ]
    },
    {
     "name": "stderr",
     "output_type": "stream",
     "text": [
      "C:\\Users\\ismedina\\Anaconda3\\envs\\MCDI2022_01_CompCognitivo\\lib\\site-packages\\ms3\\utils.py:1506: FutureWarning: The default dtype for empty Series will be 'object' instead of 'float64' in a future version. Specify a dtype explicitly to silence this warning.\n",
      "  mc_playthrough = pd.Series(seq, name='mc_playthrough')\n"
     ]
    },
    {
     "name": "stdout",
     "output_type": "stream",
     "text": [
      "...!....!.!............!.!...!.....!...!....!..!.!..!..!...............!..............!.......!...!.!........!.........!...!..!..!.!.!...!.!....!.!..!..!....!.!.....!......!.....!.....!......"
     ]
    },
    {
     "name": "stderr",
     "output_type": "stream",
     "text": [
      "C:\\Users\\ismedina\\Anaconda3\\envs\\MCDI2022_01_CompCognitivo\\lib\\site-packages\\ms3\\utils.py:1506: FutureWarning: The default dtype for empty Series will be 'object' instead of 'float64' in a future version. Specify a dtype explicitly to silence this warning.\n",
      "  mc_playthrough = pd.Series(seq, name='mc_playthrough')\n"
     ]
    },
    {
     "name": "stdout",
     "output_type": "stream",
     "text": [
      ".!.!...."
     ]
    },
    {
     "name": "stderr",
     "output_type": "stream",
     "text": [
      "C:\\Users\\ismedina\\Anaconda3\\envs\\MCDI2022_01_CompCognitivo\\lib\\site-packages\\ms3\\bs4_measures.py:709: FutureWarning: The default dtype for empty Series will be 'object' instead of 'float64' in a future version. Specify a dtype explicitly to silence this warning.\n",
      "  return pd.Series(result, name=name).reindex(df.index, fill_value=0)\n"
     ]
    },
    {
     "name": "stdout",
     "output_type": "stream",
     "text": [
      ".........!.....!................."
     ]
    },
    {
     "name": "stderr",
     "output_type": "stream",
     "text": [
      "C:\\Users\\ismedina\\Anaconda3\\envs\\MCDI2022_01_CompCognitivo\\lib\\site-packages\\ms3\\bs4_measures.py:709: FutureWarning: The default dtype for empty Series will be 'object' instead of 'float64' in a future version. Specify a dtype explicitly to silence this warning.\n",
      "  return pd.Series(result, name=name).reindex(df.index, fill_value=0)\n"
     ]
    },
    {
     "name": "stdout",
     "output_type": "stream",
     "text": [
      "..............!..!...!....!.!.!...!.......!......!.!.........!.!...!.!.!.!.!..!..!...!......!....!.!.!.!.!....!....!.."
     ]
    },
    {
     "name": "stderr",
     "output_type": "stream",
     "text": [
      "C:\\Users\\ismedina\\Anaconda3\\envs\\MCDI2022_01_CompCognitivo\\lib\\site-packages\\ms3\\utils.py:1506: FutureWarning: The default dtype for empty Series will be 'object' instead of 'float64' in a future version. Specify a dtype explicitly to silence this warning.\n",
      "  mc_playthrough = pd.Series(seq, name='mc_playthrough')\n"
     ]
    },
    {
     "name": "stdout",
     "output_type": "stream",
     "text": [
      ".......!..!..!............!.."
     ]
    },
    {
     "name": "stderr",
     "output_type": "stream",
     "text": [
      "C:\\Users\\ismedina\\Anaconda3\\envs\\MCDI2022_01_CompCognitivo\\lib\\site-packages\\ms3\\utils.py:1506: FutureWarning: The default dtype for empty Series will be 'object' instead of 'float64' in a future version. Specify a dtype explicitly to silence this warning.\n",
      "  mc_playthrough = pd.Series(seq, name='mc_playthrough')\n"
     ]
    },
    {
     "name": "stdout",
     "output_type": "stream",
     "text": [
      ".......!...!.!......!.!.......!.!.!....!...!.!..!..."
     ]
    },
    {
     "name": "stderr",
     "output_type": "stream",
     "text": [
      "C:\\Users\\ismedina\\Anaconda3\\envs\\MCDI2022_01_CompCognitivo\\lib\\site-packages\\ms3\\utils.py:1506: FutureWarning: The default dtype for empty Series will be 'object' instead of 'float64' in a future version. Specify a dtype explicitly to silence this warning.\n",
      "  mc_playthrough = pd.Series(seq, name='mc_playthrough')\n"
     ]
    },
    {
     "name": "stdout",
     "output_type": "stream",
     "text": [
      ".........!........!.....!.!.!.!.!.!.!.!.!.!.!.!.!.!.!.!.!.!.!.!..!.!....!............!....!.!.!..........!..........!....!...!...!........!......!...!.!..!.!...!......!.!............!....!..!.....!.!...!.!.!.!..!..!.!.!.!.!.!..!.....!......!.!.!.!.!.!.......!.!...!.....!....!.!....!.!..!.......!....!...!.!..!.!.....!..!...!...!..................."
     ]
    },
    {
     "name": "stderr",
     "output_type": "stream",
     "text": [
      "C:\\Users\\ismedina\\Anaconda3\\envs\\MCDI2022_01_CompCognitivo\\lib\\site-packages\\ms3\\utils.py:1506: FutureWarning: The default dtype for empty Series will be 'object' instead of 'float64' in a future version. Specify a dtype explicitly to silence this warning.\n",
      "  mc_playthrough = pd.Series(seq, name='mc_playthrough')\n"
     ]
    },
    {
     "name": "stdout",
     "output_type": "stream",
     "text": [
      ".....!.....!............"
     ]
    }
   ],
   "source": [
    "from fractions import Fraction\n",
    "\n",
    "mn_onset_count = pd.DataFrame(columns=['filename', 'part',\n",
    "                                  'staff', 'duration', 'count'])\n",
    "\n",
    "from fractions import Fraction\n",
    "\n",
    "for filename in os.listdir(mscx_path):\n",
    "    try:\n",
    "        print('.', end = '')\n",
    "\n",
    "        s = Score(mscx_path + '\\\\' + filename, read_only=True, logger_cfg = dict(level='CRITICAL'))\n",
    "\n",
    "        for part in s.mscx.metadata['parts']:\n",
    "            if s.mscx.metadata['parts'][part]['instrument'] == 'Piano':\n",
    "                staves = s.mscx.metadata['parts'][part]['staves']\n",
    "\n",
    "                mn_onsets = s.mscx.notes_and_rests[s.mscx.notes_and_rests.staff.isin(staves)].groupby(by = ['staff', 'duration']).count()\n",
    "                for key, row in mn_onsets.iterrows():\n",
    "                    mn_onset_count.loc[len(mn_onset_count.index)] = [filename, part, key[0], key[1], Fraction(row.mn)]                \n",
    "    except:\n",
    "        print('!', end = '')"
   ]
  },
  {
   "cell_type": "code",
   "execution_count": 12,
   "metadata": {},
   "outputs": [],
   "source": [
    "mn_onset_count.to_csv('C:\\\\Users\\\\ismedina\\\\Documents\\\\Maestría\\\\2022-1\\\\SeminarioII\\\\mn_onset_count.csv')"
   ]
  },
  {
   "cell_type": "code",
   "execution_count": 13,
   "metadata": {},
   "outputs": [],
   "source": [
    "mn_onset_count = pd.read_csv('C:\\\\Users\\\\ismedina\\\\Documents\\\\Maestría\\\\2022-1\\\\SeminarioII\\\\mn_onset_count.csv', index_col = 0)"
   ]
  },
  {
   "cell_type": "code",
   "execution_count": 14,
   "metadata": {},
   "outputs": [
    {
     "data": {
      "image/png": "[encoded data removed]",
      "text/plain": [
       "<Figure size 1440x1440 with 4 Axes>"
      ]
     },
     "metadata": {
      "needs_background": "light"
     },
     "output_type": "display_data"
    }
   ],
   "source": [
    "column_names = sorted(mn_onset_count.staff.unique().tolist())\n",
    "\n",
    "columnas = 2\n",
    "renglones = math.ceil(len(column_names) / columnas)\n",
    "\n",
    "fig, axes = plt.subplots(nrows = renglones, ncols = columnas, figsize=(20, 20))\n",
    "fig.suptitle(\"Histograma duración\", fontsize = 16)\n",
    "\n",
    "i = 0\n",
    "j = 0\n",
    "    \n",
    "for col in column_names:\n",
    "    sns.histplot(data = mn_onset_count[mn_onset_count.staff == col], y = 'duration',\n",
    "                 label = 'duration',\n",
    "                 ax = axes[i][j], multiple='layer', color='green')\n",
    "\n",
    "    axes[i][j].set_title(col)\n",
    "    axes[i][j].set(xlabel=\"n\")\n",
    "    axes[i][j].legend()\n",
    "    \n",
    "    j += 1\n",
    "    if j > columnas - 1:\n",
    "        i += 1\n",
    "        j = 0\n",
    "\n",
    "##fig.tight_layout()  "
   ]
  },
  {
   "cell_type": "markdown",
   "metadata": {},
   "source": [
    "Se puede concluir hasta aquí que los tiempos binarios son predominantes mientras que hay unos pocos ternarios y que las duraciones bajas no son comunes. Las fusas serían un límite conveniente de la duración de las notas para excluirlas del corpus."
   ]
  },
  {
   "cell_type": "markdown",
   "metadata": {},
   "source": [
    "## Extracción de acordes\n",
    "Una vez que se exploró el conjunto de datos entonces se generó entonces un mapa de conjuntos de $n$-notas pulsadas en el mismo tiempo que es posible encontrar en cada partitura. El índice del Pandas DataFrame resultante será el identificador (id) del conjunto único de $n$-notas que se usará posteriormente para describir el siguiente conjunto de $n$-notas posterior a una combinación de conjuntos de $n$-notas precedentes."
   ]
  },
  {
   "cell_type": "code",
   "execution_count": 15,
   "metadata": {
    "scrolled": true
   },
   "outputs": [
    {
     "name": "stdout",
     "output_type": "stream",
     "text": [
      "......"
     ]
    },
    {
     "name": "stderr",
     "output_type": "stream",
     "text": [
      "C:\\Users\\ismedina\\Anaconda3\\envs\\MCDI2022_01_CompCognitivo\\lib\\site-packages\\ms3\\utils.py:1506: FutureWarning: The default dtype for empty Series will be 'object' instead of 'float64' in a future version. Specify a dtype explicitly to silence this warning.\n",
      "  mc_playthrough = pd.Series(seq, name='mc_playthrough')\n"
     ]
    },
    {
     "name": "stdout",
     "output_type": "stream",
     "text": [
      "...!....!.!............!.!...!.....!...!....!..!.!..!..!...............!..............!.......!...!.!........!.........!...!..!..!.!.!...!.!....!.!..!..!....!.!.....!......!.....!.....!......"
     ]
    },
    {
     "name": "stderr",
     "output_type": "stream",
     "text": [
      "C:\\Users\\ismedina\\Anaconda3\\envs\\MCDI2022_01_CompCognitivo\\lib\\site-packages\\ms3\\utils.py:1506: FutureWarning: The default dtype for empty Series will be 'object' instead of 'float64' in a future version. Specify a dtype explicitly to silence this warning.\n",
      "  mc_playthrough = pd.Series(seq, name='mc_playthrough')\n"
     ]
    },
    {
     "name": "stdout",
     "output_type": "stream",
     "text": [
      ".!.!...."
     ]
    },
    {
     "name": "stderr",
     "output_type": "stream",
     "text": [
      "C:\\Users\\ismedina\\Anaconda3\\envs\\MCDI2022_01_CompCognitivo\\lib\\site-packages\\ms3\\bs4_measures.py:709: FutureWarning: The default dtype for empty Series will be 'object' instead of 'float64' in a future version. Specify a dtype explicitly to silence this warning.\n",
      "  return pd.Series(result, name=name).reindex(df.index, fill_value=0)\n"
     ]
    },
    {
     "name": "stdout",
     "output_type": "stream",
     "text": [
      ".........!.....!................."
     ]
    },
    {
     "name": "stderr",
     "output_type": "stream",
     "text": [
      "C:\\Users\\ismedina\\Anaconda3\\envs\\MCDI2022_01_CompCognitivo\\lib\\site-packages\\ms3\\bs4_measures.py:709: FutureWarning: The default dtype for empty Series will be 'object' instead of 'float64' in a future version. Specify a dtype explicitly to silence this warning.\n",
      "  return pd.Series(result, name=name).reindex(df.index, fill_value=0)\n"
     ]
    },
    {
     "name": "stdout",
     "output_type": "stream",
     "text": [
      "..............!..!...!....!.!.!...!.......!......!.!.........!.!...!.!.!.!.!..!..!...!......!....!.!.!.!.!....!....!.."
     ]
    },
    {
     "name": "stderr",
     "output_type": "stream",
     "text": [
      "C:\\Users\\ismedina\\Anaconda3\\envs\\MCDI2022_01_CompCognitivo\\lib\\site-packages\\ms3\\utils.py:1506: FutureWarning: The default dtype for empty Series will be 'object' instead of 'float64' in a future version. Specify a dtype explicitly to silence this warning.\n",
      "  mc_playthrough = pd.Series(seq, name='mc_playthrough')\n"
     ]
    },
    {
     "name": "stdout",
     "output_type": "stream",
     "text": [
      ".......!..!..!............!.."
     ]
    },
    {
     "name": "stderr",
     "output_type": "stream",
     "text": [
      "C:\\Users\\ismedina\\Anaconda3\\envs\\MCDI2022_01_CompCognitivo\\lib\\site-packages\\ms3\\utils.py:1506: FutureWarning: The default dtype for empty Series will be 'object' instead of 'float64' in a future version. Specify a dtype explicitly to silence this warning.\n",
      "  mc_playthrough = pd.Series(seq, name='mc_playthrough')\n"
     ]
    },
    {
     "name": "stdout",
     "output_type": "stream",
     "text": [
      ".......!...!.!......!.!.......!.!.!....!...!.!..!..."
     ]
    },
    {
     "name": "stderr",
     "output_type": "stream",
     "text": [
      "C:\\Users\\ismedina\\Anaconda3\\envs\\MCDI2022_01_CompCognitivo\\lib\\site-packages\\ms3\\utils.py:1506: FutureWarning: The default dtype for empty Series will be 'object' instead of 'float64' in a future version. Specify a dtype explicitly to silence this warning.\n",
      "  mc_playthrough = pd.Series(seq, name='mc_playthrough')\n"
     ]
    },
    {
     "name": "stdout",
     "output_type": "stream",
     "text": [
      ".........!........!.....!.!.!.!.!.!.!.!.!.!.!.!.!.!.!.!.!.!.!.!..!.!....!............!....!.!.!..........!..........!....!...!...!........!......!...!.!..!.!...!......!.!............!....!..!.....!.!...!.!.!.!..!..!.!.!.!.!.!..!.....!......!.!.!.!.!.!.......!.!...!.....!....!.!....!.!..!.......!....!...!.!..!.!.....!..!...!...!..................."
     ]
    },
    {
     "name": "stderr",
     "output_type": "stream",
     "text": [
      "C:\\Users\\ismedina\\Anaconda3\\envs\\MCDI2022_01_CompCognitivo\\lib\\site-packages\\ms3\\utils.py:1506: FutureWarning: The default dtype for empty Series will be 'object' instead of 'float64' in a future version. Specify a dtype explicitly to silence this warning.\n",
      "  mc_playthrough = pd.Series(seq, name='mc_playthrough')\n"
     ]
    },
    {
     "name": "stdout",
     "output_type": "stream",
     "text": [
      ".....!.....!............"
     ]
    }
   ],
   "source": [
    "n_notes = pd.DataFrame(columns=['note01', 'note02', 'note03'\n",
    "                              ,'note04', 'note05', 'note06'\n",
    "                              ,'note07', 'note08', 'note09'\n",
    "                              ,'note10'], dtype= int)\n",
    "\n",
    "notes = []\n",
    "n_note = [0, 0, 0, 0, 0, 0, 0, 0, 0, 0]\n",
    "n_notes.loc[len(n_notes.index)] = n_note\n",
    "\n",
    "for filename in os.listdir(mscx_path):\n",
    "    try:\n",
    "        print('.', end = '')\n",
    "\n",
    "        s = Score(mscx_path + '\\\\' + filename, read_only=True, logger_cfg = dict(level='CRITICAL'))\n",
    "\n",
    "        for part in s.mscx.metadata['parts']:\n",
    "            if s.mscx.metadata['parts'][part]['instrument'] == 'Piano':\n",
    "                staves = s.mscx.metadata['parts'][part]['staves']\n",
    "                piano_notes_rests = s.mscx.notes_and_rests[s.mscx.notes_and_rests.staff.isin(staves)]\n",
    "\n",
    "                previous_position = piano_notes_rests.iloc[0]['mn_onset']\n",
    "\n",
    "                for idx, row in piano_notes_rests.iterrows():\n",
    "                    note = row['midi'] \n",
    "\n",
    "                    if row['mn_onset'] == previous_position:\n",
    "                        if not pd.isna(note):\n",
    "                            notes.append(note)\n",
    "                    else:\n",
    "                        previous_position = row['mn_onset']\n",
    "                        unique_notes = sorted(list(set(notes)))\n",
    "\n",
    "                        i = 0\n",
    "\n",
    "                        for unique_note in unique_notes[:10]:\n",
    "                            n_note[i] = unique_note\n",
    "                            i += 1\n",
    "\n",
    "                        n_notes.loc[len(n_notes.index)] = n_note\n",
    "                        if not pd.isna(note):\n",
    "                            notes = [note]\n",
    "                        else:\n",
    "                            notes = []\n",
    "                        n_note = [0, 0, 0, 0, 0, 0, 0, 0, 0, 0]                    \n",
    "    except:\n",
    "        print('!', end = '')\n",
    "        ##print('Error en el archivo: ', filename)"
   ]
  },
  {
   "cell_type": "code",
   "execution_count": 16,
   "metadata": {},
   "outputs": [],
   "source": [
    "master_n_notes = n_notes.drop_duplicates()"
   ]
  },
  {
   "cell_type": "code",
   "execution_count": 17,
   "metadata": {},
   "outputs": [
    {
     "data": {
      "text/plain": [
       "(16757, 186380)"
      ]
     },
     "execution_count": 17,
     "metadata": {},
     "output_type": "execute_result"
    }
   ],
   "source": [
    "len(master_n_notes), len(n_notes)"
   ]
  },
  {
   "cell_type": "code",
   "execution_count": 18,
   "metadata": {},
   "outputs": [],
   "source": [
    "master_n_notes.reset_index(drop = True, inplace = True)"
   ]
  },
  {
   "cell_type": "code",
   "execution_count": 19,
   "metadata": {},
   "outputs": [
    {
     "data": {
      "text/html": [
       "<div>\n",
       "<style scoped>\n",
       "    .dataframe tbody tr th:only-of-type {\n",
       "        vertical-align: middle;\n",
       "    }\n",
       "\n",
       "    .dataframe tbody tr th {\n",
       "        vertical-align: top;\n",
       "    }\n",
       "\n",
       "    .dataframe thead th {\n",
       "        text-align: right;\n",
       "    }\n",
       "</style>\n",
       "<table border=\"1\" class=\"dataframe\">\n",
       "  <thead>\n",
       "    <tr style=\"text-align: right;\">\n",
       "      <th></th>\n",
       "      <th>note01</th>\n",
       "      <th>note02</th>\n",
       "      <th>note03</th>\n",
       "      <th>note04</th>\n",
       "      <th>note05</th>\n",
       "      <th>note06</th>\n",
       "      <th>note07</th>\n",
       "      <th>note08</th>\n",
       "      <th>note09</th>\n",
       "      <th>note10</th>\n",
       "    </tr>\n",
       "  </thead>\n",
       "  <tbody>\n",
       "    <tr>\n",
       "      <th>0</th>\n",
       "      <td>0</td>\n",
       "      <td>0</td>\n",
       "      <td>0</td>\n",
       "      <td>0</td>\n",
       "      <td>0</td>\n",
       "      <td>0</td>\n",
       "      <td>0</td>\n",
       "      <td>0</td>\n",
       "      <td>0</td>\n",
       "      <td>0</td>\n",
       "    </tr>\n",
       "    <tr>\n",
       "      <th>1</th>\n",
       "      <td>41</td>\n",
       "      <td>52</td>\n",
       "      <td>55</td>\n",
       "      <td>57</td>\n",
       "      <td>60</td>\n",
       "      <td>0</td>\n",
       "      <td>0</td>\n",
       "      <td>0</td>\n",
       "      <td>0</td>\n",
       "      <td>0</td>\n",
       "    </tr>\n",
       "    <tr>\n",
       "      <th>2</th>\n",
       "      <td>69</td>\n",
       "      <td>0</td>\n",
       "      <td>0</td>\n",
       "      <td>0</td>\n",
       "      <td>0</td>\n",
       "      <td>0</td>\n",
       "      <td>0</td>\n",
       "      <td>0</td>\n",
       "      <td>0</td>\n",
       "      <td>0</td>\n",
       "    </tr>\n",
       "    <tr>\n",
       "      <th>3</th>\n",
       "      <td>44</td>\n",
       "      <td>50</td>\n",
       "      <td>59</td>\n",
       "      <td>64</td>\n",
       "      <td>67</td>\n",
       "      <td>0</td>\n",
       "      <td>0</td>\n",
       "      <td>0</td>\n",
       "      <td>0</td>\n",
       "      <td>0</td>\n",
       "    </tr>\n",
       "    <tr>\n",
       "      <th>4</th>\n",
       "      <td>65</td>\n",
       "      <td>0</td>\n",
       "      <td>0</td>\n",
       "      <td>0</td>\n",
       "      <td>0</td>\n",
       "      <td>0</td>\n",
       "      <td>0</td>\n",
       "      <td>0</td>\n",
       "      <td>0</td>\n",
       "      <td>0</td>\n",
       "    </tr>\n",
       "  </tbody>\n",
       "</table>\n",
       "</div>"
      ],
      "text/plain": [
       "   note01  note02  note03  note04  note05  note06  note07  note08  note09  \\\n",
       "0       0       0       0       0       0       0       0       0       0   \n",
       "1      41      52      55      57      60       0       0       0       0   \n",
       "2      69       0       0       0       0       0       0       0       0   \n",
       "3      44      50      59      64      67       0       0       0       0   \n",
       "4      65       0       0       0       0       0       0       0       0   \n",
       "\n",
       "   note10  \n",
       "0       0  \n",
       "1       0  \n",
       "2       0  \n",
       "3       0  \n",
       "4       0  "
      ]
     },
     "execution_count": 19,
     "metadata": {},
     "output_type": "execute_result"
    }
   ],
   "source": [
    "master_n_notes.head()"
   ]
  },
  {
   "cell_type": "code",
   "execution_count": 20,
   "metadata": {},
   "outputs": [],
   "source": [
    "master_n_notes.to_csv('C:\\\\Users\\\\ismedina\\\\Documents\\\\Maestría\\\\2022-1\\\\SeminarioII\\\\master_n_notes.csv')"
   ]
  },
  {
   "cell_type": "markdown",
   "metadata": {},
   "source": [
    "## Secuencias de acordes\n",
    "Con el trabajo anterior de codificar cada conjunto de $n$-notas es ahora posible generar la codificación de una secuencia de $n$-notas. En este caso se codificaron secuencias de 3 $n$-notas. El detalle de la codificación se encuentra a continuación."
   ]
  },
  {
   "cell_type": "code",
   "execution_count": 21,
   "metadata": {},
   "outputs": [],
   "source": [
    "master_n_notes = pd.read_csv('C:\\\\Users\\\\ismedina\\\\Documents\\\\Maestría\\\\2022-1\\\\SeminarioII\\\\master_n_notes.csv', index_col = 0)"
   ]
  },
  {
   "cell_type": "code",
   "execution_count": 22,
   "metadata": {},
   "outputs": [
    {
     "data": {
      "text/html": [
       "<div>\n",
       "<style scoped>\n",
       "    .dataframe tbody tr th:only-of-type {\n",
       "        vertical-align: middle;\n",
       "    }\n",
       "\n",
       "    .dataframe tbody tr th {\n",
       "        vertical-align: top;\n",
       "    }\n",
       "\n",
       "    .dataframe thead th {\n",
       "        text-align: right;\n",
       "    }\n",
       "</style>\n",
       "<table border=\"1\" class=\"dataframe\">\n",
       "  <thead>\n",
       "    <tr style=\"text-align: right;\">\n",
       "      <th></th>\n",
       "      <th>note01</th>\n",
       "      <th>note02</th>\n",
       "      <th>note03</th>\n",
       "      <th>note04</th>\n",
       "      <th>note05</th>\n",
       "      <th>note06</th>\n",
       "      <th>note07</th>\n",
       "      <th>note08</th>\n",
       "      <th>note09</th>\n",
       "      <th>note10</th>\n",
       "    </tr>\n",
       "  </thead>\n",
       "  <tbody>\n",
       "    <tr>\n",
       "      <th>0</th>\n",
       "      <td>0</td>\n",
       "      <td>0</td>\n",
       "      <td>0</td>\n",
       "      <td>0</td>\n",
       "      <td>0</td>\n",
       "      <td>0</td>\n",
       "      <td>0</td>\n",
       "      <td>0</td>\n",
       "      <td>0</td>\n",
       "      <td>0</td>\n",
       "    </tr>\n",
       "    <tr>\n",
       "      <th>1</th>\n",
       "      <td>41</td>\n",
       "      <td>52</td>\n",
       "      <td>55</td>\n",
       "      <td>57</td>\n",
       "      <td>60</td>\n",
       "      <td>0</td>\n",
       "      <td>0</td>\n",
       "      <td>0</td>\n",
       "      <td>0</td>\n",
       "      <td>0</td>\n",
       "    </tr>\n",
       "    <tr>\n",
       "      <th>2</th>\n",
       "      <td>69</td>\n",
       "      <td>0</td>\n",
       "      <td>0</td>\n",
       "      <td>0</td>\n",
       "      <td>0</td>\n",
       "      <td>0</td>\n",
       "      <td>0</td>\n",
       "      <td>0</td>\n",
       "      <td>0</td>\n",
       "      <td>0</td>\n",
       "    </tr>\n",
       "    <tr>\n",
       "      <th>3</th>\n",
       "      <td>44</td>\n",
       "      <td>50</td>\n",
       "      <td>59</td>\n",
       "      <td>64</td>\n",
       "      <td>67</td>\n",
       "      <td>0</td>\n",
       "      <td>0</td>\n",
       "      <td>0</td>\n",
       "      <td>0</td>\n",
       "      <td>0</td>\n",
       "    </tr>\n",
       "    <tr>\n",
       "      <th>4</th>\n",
       "      <td>65</td>\n",
       "      <td>0</td>\n",
       "      <td>0</td>\n",
       "      <td>0</td>\n",
       "      <td>0</td>\n",
       "      <td>0</td>\n",
       "      <td>0</td>\n",
       "      <td>0</td>\n",
       "      <td>0</td>\n",
       "      <td>0</td>\n",
       "    </tr>\n",
       "    <tr>\n",
       "      <th>5</th>\n",
       "      <td>43</td>\n",
       "      <td>53</td>\n",
       "      <td>57</td>\n",
       "      <td>58</td>\n",
       "      <td>60</td>\n",
       "      <td>0</td>\n",
       "      <td>0</td>\n",
       "      <td>0</td>\n",
       "      <td>0</td>\n",
       "      <td>0</td>\n",
       "    </tr>\n",
       "    <tr>\n",
       "      <th>6</th>\n",
       "      <td>48</td>\n",
       "      <td>52</td>\n",
       "      <td>0</td>\n",
       "      <td>0</td>\n",
       "      <td>0</td>\n",
       "      <td>0</td>\n",
       "      <td>0</td>\n",
       "      <td>0</td>\n",
       "      <td>0</td>\n",
       "      <td>0</td>\n",
       "    </tr>\n",
       "    <tr>\n",
       "      <th>7</th>\n",
       "      <td>60</td>\n",
       "      <td>0</td>\n",
       "      <td>0</td>\n",
       "      <td>0</td>\n",
       "      <td>0</td>\n",
       "      <td>0</td>\n",
       "      <td>0</td>\n",
       "      <td>0</td>\n",
       "      <td>0</td>\n",
       "      <td>0</td>\n",
       "    </tr>\n",
       "    <tr>\n",
       "      <th>8</th>\n",
       "      <td>46</td>\n",
       "      <td>57</td>\n",
       "      <td>60</td>\n",
       "      <td>62</td>\n",
       "      <td>67</td>\n",
       "      <td>0</td>\n",
       "      <td>0</td>\n",
       "      <td>0</td>\n",
       "      <td>0</td>\n",
       "      <td>0</td>\n",
       "    </tr>\n",
       "    <tr>\n",
       "      <th>9</th>\n",
       "      <td>45</td>\n",
       "      <td>55</td>\n",
       "      <td>59</td>\n",
       "      <td>60</td>\n",
       "      <td>62</td>\n",
       "      <td>0</td>\n",
       "      <td>0</td>\n",
       "      <td>0</td>\n",
       "      <td>0</td>\n",
       "      <td>0</td>\n",
       "    </tr>\n",
       "  </tbody>\n",
       "</table>\n",
       "</div>"
      ],
      "text/plain": [
       "   note01  note02  note03  note04  note05  note06  note07  note08  note09  \\\n",
       "0       0       0       0       0       0       0       0       0       0   \n",
       "1      41      52      55      57      60       0       0       0       0   \n",
       "2      69       0       0       0       0       0       0       0       0   \n",
       "3      44      50      59      64      67       0       0       0       0   \n",
       "4      65       0       0       0       0       0       0       0       0   \n",
       "5      43      53      57      58      60       0       0       0       0   \n",
       "6      48      52       0       0       0       0       0       0       0   \n",
       "7      60       0       0       0       0       0       0       0       0   \n",
       "8      46      57      60      62      67       0       0       0       0   \n",
       "9      45      55      59      60      62       0       0       0       0   \n",
       "\n",
       "   note10  \n",
       "0       0  \n",
       "1       0  \n",
       "2       0  \n",
       "3       0  \n",
       "4       0  \n",
       "5       0  \n",
       "6       0  \n",
       "7       0  \n",
       "8       0  \n",
       "9       0  "
      ]
     },
     "execution_count": 22,
     "metadata": {},
     "output_type": "execute_result"
    }
   ],
   "source": [
    "master_n_notes.head(10)"
   ]
  },
  {
   "cell_type": "markdown",
   "metadata": {},
   "source": [
    "La siguiente función permite identificar el id del $n$-notas de entrada dentro del conjunto completo."
   ]
  },
  {
   "cell_type": "code",
   "execution_count": 23,
   "metadata": {},
   "outputs": [],
   "source": [
    "def get_n_notes_id (n_notes):\n",
    "    id = master_n_notes.loc[(master_n_notes.note01 == n_notes[0]) &\n",
    "                         (master_n_notes.note02 == n_notes[1]) &\n",
    "                         (master_n_notes.note03 == n_notes[2]) &\n",
    "                         (master_n_notes.note04 == n_notes[3]) &\n",
    "                         (master_n_notes.note05 == n_notes[4]) &\n",
    "                         (master_n_notes.note06 == n_notes[5]) &\n",
    "                         (master_n_notes.note07 == n_notes[6]) &\n",
    "                         (master_n_notes.note08 == n_notes[7]) &\n",
    "                         (master_n_notes.note09 == n_notes[8]) &\n",
    "                         (master_n_notes.note10 == n_notes[9])].index[0]\n",
    "    return id"
   ]
  },
  {
   "cell_type": "code",
   "execution_count": 24,
   "metadata": {
    "scrolled": true
   },
   "outputs": [
    {
     "name": "stdout",
     "output_type": "stream",
     "text": [
      "......"
     ]
    },
    {
     "name": "stderr",
     "output_type": "stream",
     "text": [
      "C:\\Users\\ismedina\\Anaconda3\\envs\\MCDI2022_01_CompCognitivo\\lib\\site-packages\\ms3\\utils.py:1506: FutureWarning: The default dtype for empty Series will be 'object' instead of 'float64' in a future version. Specify a dtype explicitly to silence this warning.\n",
      "  mc_playthrough = pd.Series(seq, name='mc_playthrough')\n"
     ]
    },
    {
     "name": "stdout",
     "output_type": "stream",
     "text": [
      "...!....!.!............!.!...!.....!...!....!..!.!..!..!...............!..............!.......!...!.!........!.........!...!..!..!.!.!...!.!....!.!..!..!....!.!.....!......!.....!.....!......"
     ]
    },
    {
     "name": "stderr",
     "output_type": "stream",
     "text": [
      "C:\\Users\\ismedina\\Anaconda3\\envs\\MCDI2022_01_CompCognitivo\\lib\\site-packages\\ms3\\utils.py:1506: FutureWarning: The default dtype for empty Series will be 'object' instead of 'float64' in a future version. Specify a dtype explicitly to silence this warning.\n",
      "  mc_playthrough = pd.Series(seq, name='mc_playthrough')\n"
     ]
    },
    {
     "name": "stdout",
     "output_type": "stream",
     "text": [
      ".!.!...."
     ]
    },
    {
     "name": "stderr",
     "output_type": "stream",
     "text": [
      "C:\\Users\\ismedina\\Anaconda3\\envs\\MCDI2022_01_CompCognitivo\\lib\\site-packages\\ms3\\bs4_measures.py:709: FutureWarning: The default dtype for empty Series will be 'object' instead of 'float64' in a future version. Specify a dtype explicitly to silence this warning.\n",
      "  return pd.Series(result, name=name).reindex(df.index, fill_value=0)\n"
     ]
    },
    {
     "name": "stdout",
     "output_type": "stream",
     "text": [
      ".........!.....!................."
     ]
    },
    {
     "name": "stderr",
     "output_type": "stream",
     "text": [
      "C:\\Users\\ismedina\\Anaconda3\\envs\\MCDI2022_01_CompCognitivo\\lib\\site-packages\\ms3\\bs4_measures.py:709: FutureWarning: The default dtype for empty Series will be 'object' instead of 'float64' in a future version. Specify a dtype explicitly to silence this warning.\n",
      "  return pd.Series(result, name=name).reindex(df.index, fill_value=0)\n"
     ]
    },
    {
     "name": "stdout",
     "output_type": "stream",
     "text": [
      "..............!..!...!....!.!.!...!.......!......!.!.........!.!...!.!.!.!.!..!..!...!......!....!.!.!.!.!....!....!.."
     ]
    },
    {
     "name": "stderr",
     "output_type": "stream",
     "text": [
      "C:\\Users\\ismedina\\Anaconda3\\envs\\MCDI2022_01_CompCognitivo\\lib\\site-packages\\ms3\\utils.py:1506: FutureWarning: The default dtype for empty Series will be 'object' instead of 'float64' in a future version. Specify a dtype explicitly to silence this warning.\n",
      "  mc_playthrough = pd.Series(seq, name='mc_playthrough')\n"
     ]
    },
    {
     "name": "stdout",
     "output_type": "stream",
     "text": [
      ".......!..!..!............!.."
     ]
    },
    {
     "name": "stderr",
     "output_type": "stream",
     "text": [
      "C:\\Users\\ismedina\\Anaconda3\\envs\\MCDI2022_01_CompCognitivo\\lib\\site-packages\\ms3\\utils.py:1506: FutureWarning: The default dtype for empty Series will be 'object' instead of 'float64' in a future version. Specify a dtype explicitly to silence this warning.\n",
      "  mc_playthrough = pd.Series(seq, name='mc_playthrough')\n"
     ]
    },
    {
     "name": "stdout",
     "output_type": "stream",
     "text": [
      ".......!...!.!......!.!.......!.!.!....!...!.!..!..."
     ]
    },
    {
     "name": "stderr",
     "output_type": "stream",
     "text": [
      "C:\\Users\\ismedina\\Anaconda3\\envs\\MCDI2022_01_CompCognitivo\\lib\\site-packages\\ms3\\utils.py:1506: FutureWarning: The default dtype for empty Series will be 'object' instead of 'float64' in a future version. Specify a dtype explicitly to silence this warning.\n",
      "  mc_playthrough = pd.Series(seq, name='mc_playthrough')\n"
     ]
    },
    {
     "name": "stdout",
     "output_type": "stream",
     "text": [
      ".........!........!.....!.!.!.!.!.!.!.!.!.!.!.!.!.!.!.!.!.!.!.!..!.!....!............!....!.!.!..........!..........!....!...!...!........!......!...!.!..!.!...!......!.!............!....!..!.....!.!...!.!.!.!..!..!.!.!.!.!.!..!.....!......!.!.!.!.!.!.......!.!...!.....!....!.!....!.!..!.......!....!...!.!..!.!.....!..!...!...!..................."
     ]
    },
    {
     "name": "stderr",
     "output_type": "stream",
     "text": [
      "C:\\Users\\ismedina\\Anaconda3\\envs\\MCDI2022_01_CompCognitivo\\lib\\site-packages\\ms3\\utils.py:1506: FutureWarning: The default dtype for empty Series will be 'object' instead of 'float64' in a future version. Specify a dtype explicitly to silence this warning.\n",
      "  mc_playthrough = pd.Series(seq, name='mc_playthrough')\n"
     ]
    },
    {
     "name": "stdout",
     "output_type": "stream",
     "text": [
      ".....!.....!............"
     ]
    }
   ],
   "source": [
    "n_notes_sequences = pd.DataFrame(columns=['prev_n_notes_id', 'actual_n_notes_id', 'next_n_notes_id'], dtype= int)\n",
    "\n",
    "notes = []\n",
    "n_notes = [0, 0, 0, 0, 0, 0, 0, 0, 0, 0]\n",
    "previous_n_notes = [0, 0, 0, 0, 0, 0, 0, 0, 0, 0]\n",
    "actual_n_notes = [0, 0, 0, 0, 0, 0, 0, 0, 0, 0]\n",
    "next_n_notes = [0, 0, 0, 0, 0, 0, 0, 0, 0, 0]\n",
    "\n",
    "for filename in os.listdir(mscx_path):\n",
    "    try:\n",
    "        print('.', end = '')\n",
    "\n",
    "        s = Score(mscx_path + '\\\\' + filename, read_only=True, logger_cfg = dict(level='CRITICAL'))\n",
    "\n",
    "        sequence_step = 1\n",
    "        for part in s.mscx.metadata['parts']:\n",
    "            if s.mscx.metadata['parts'][part]['instrument'] == 'Piano':\n",
    "                staves = s.mscx.metadata['parts'][part]['staves']\n",
    "                piano_notes_rests = s.mscx.notes_and_rests[s.mscx.notes_and_rests.staff.isin(staves)]\n",
    "\n",
    "                previous_position = piano_notes_rests.iloc[0]['mn_onset']\n",
    "\n",
    "                for idx, row in piano_notes_rests.iterrows():\n",
    "                    note = row['midi'] \n",
    "\n",
    "                    if row['mn_onset'] == previous_position:\n",
    "                        if not pd.isna(note):\n",
    "                            notes.append(note)\n",
    "                    else:\n",
    "                        previous_position = row['mn_onset']\n",
    "                        unique_notes = sorted(list(set(notes)))\n",
    "\n",
    "                        i = 0\n",
    "                        for unique_note in unique_notes[:10]:\n",
    "                            n_notes[i] = unique_note\n",
    "                            i += 1\n",
    "\n",
    "                        if sequence_step == 1:\n",
    "                            actual_n_notes = n_notes\n",
    "                            sequence_step += 1\n",
    "\n",
    "                        if sequence_step == 2:\n",
    "                            next_n_notes = n_notes\n",
    "\n",
    "                            previous_n_notes_id = get_n_notes_id(previous_n_notes)\n",
    "                            actual_n_notes_id = get_n_notes_id(actual_n_notes)\n",
    "                            next_n_notes_id = get_n_notes_id(next_n_notes)\n",
    "\n",
    "                            n_notes_sequences.loc[len(n_notes_sequences.index)] = [previous_n_notes_id, \n",
    "                                                                                   actual_n_notes_id,\n",
    "                                                                                   next_n_notes_id]\n",
    "\n",
    "                            previous_n_notes = actual_n_notes.copy()\n",
    "                            actual_n_notes = next_n_notes.copy()\n",
    "\n",
    "                        n_notes = [0, 0, 0, 0, 0, 0, 0, 0, 0, 0]   \n",
    "\n",
    "                        if not pd.isna(note):\n",
    "                            notes = [note]\n",
    "                        else:\n",
    "                            notes = []\n",
    "\n",
    "        previous_n_notes_id = get_n_notes_id(previous_n_notes)\n",
    "        actual_n_notes_id = get_n_notes_id(actual_n_notes)\n",
    "        next_n_notes_id = get_n_notes_id(n_notes)\n",
    "\n",
    "        n_notes_sequences.loc[len(n_notes_sequences.index)] = [previous_n_notes_id, \n",
    "                                                               actual_n_notes_id,\n",
    "                                                               next_n_notes_id]\n",
    "    except:\n",
    "        print('!', end = '')"
   ]
  },
  {
   "cell_type": "code",
   "execution_count": 25,
   "metadata": {},
   "outputs": [],
   "source": [
    "unique_n_notes_sequences = n_notes_sequences.drop_duplicates()"
   ]
  },
  {
   "cell_type": "code",
   "execution_count": 26,
   "metadata": {},
   "outputs": [],
   "source": [
    "unique_n_notes_sequences.reset_index(drop = True, inplace = True)"
   ]
  },
  {
   "cell_type": "code",
   "execution_count": 27,
   "metadata": {},
   "outputs": [
    {
     "data": {
      "text/plain": [
       "(85764, 186842)"
      ]
     },
     "execution_count": 27,
     "metadata": {},
     "output_type": "execute_result"
    }
   ],
   "source": [
    "len(unique_n_notes_sequences), len(n_notes_sequences)"
   ]
  },
  {
   "cell_type": "code",
   "execution_count": 28,
   "metadata": {},
   "outputs": [],
   "source": [
    "unique_n_notes_sequences.to_csv('C:\\\\Users\\\\ismedina\\\\Documents\\\\Maestría\\\\2022-1\\\\SeminarioII\\\\unique_n_notes_sequences.csv')"
   ]
  },
  {
   "cell_type": "markdown",
   "metadata": {},
   "source": [
    "## Entrenamiento de la red neuronal\n",
    "Con los datos ya codificados entonces fue posible hacer el entrenamiento de la red neuronal, sin embargo, el paso anterior es la creación de los tensores de entrada. \n",
    "\n",
    "### Los tensores de entrada\n",
    "La definición de los tensores de entrada se realizó tomando como guía el trabajo de Ijas(2019). Este trabajo muestra la predicción de la siguiente palabra dada una secuencia de palabras previas. Es así que se generó una cantidad de $m$ vectores que representan el *One-Hot encoding* para las secuencias de $n$-notas. En este caso, los $m$ vectores son $3$."
   ]
  },
  {
   "cell_type": "code",
   "execution_count": 41,
   "metadata": {},
   "outputs": [],
   "source": [
    "import numpy as np\n",
    "import pandas as pd\n",
    "import tensorflow as tf\n",
    "import heapq\n",
    "import tensorflow as tf\n",
    "from tensorflow.keras import Sequential, Input\n",
    "from tensorflow.keras.layers import Dense, Activation, Dropout, LSTM, GRU\n",
    "from tensorflow.keras.optimizers import RMSprop\n",
    "from tensorflow.keras.utils import plot_model"
   ]
  },
  {
   "cell_type": "code",
   "execution_count": 42,
   "metadata": {},
   "outputs": [],
   "source": [
    "unique_n_notes_sequences = pd.read_csv('C:\\\\Users\\\\ismedina\\\\Documents\\\\Maestría\\\\2022-1\\\\SeminarioII\\\\unique_n_notes_sequences.csv', index_col = 0)"
   ]
  },
  {
   "cell_type": "code",
   "execution_count": 43,
   "metadata": {},
   "outputs": [],
   "source": [
    "master_n_notes = pd.read_csv('C:\\\\Users\\\\ismedina\\\\Documents\\\\Maestría\\\\2022-1\\\\SeminarioII\\\\master_n_notes.csv', index_col = 0)"
   ]
  },
  {
   "cell_type": "markdown",
   "metadata": {},
   "source": [
    "Así entonces definimos $\\mathbb{x}$ tiene la forma de todos los `unique_n_notes_sequences` $ \\times $ `2 conjuntos de n-notas` $ \\times $ `cantidad de id's distintos` mientras que $\\mathbb{y}$ es un vector donde el `id` del acorde más probable se registra."
   ]
  },
  {
   "cell_type": "code",
   "execution_count": 44,
   "metadata": {},
   "outputs": [],
   "source": [
    "x = np.zeros((unique_n_notes_sequences.shape[0], unique_n_notes_sequences.shape[1] - 1, master_n_notes.shape[0]), dtype=bool)\n",
    "y = np.zeros((unique_n_notes_sequences.shape[0], master_n_notes.shape[0]), dtype=bool)\n",
    "\n",
    "for key, row in unique_n_notes_sequences.iterrows():\n",
    "    x[key, 0, row[0]] = 1\n",
    "    x[key, 1, row[1]] = 1\n",
    "    y[key, row[2]] = 1"
   ]
  },
  {
   "cell_type": "markdown",
   "metadata": {},
   "source": [
    "### Modelo 1. La red neuronal recurrente (RNN) con LSTM\n",
    "La red neuronal que se construyó para el proyecto es una RNN con una capa `Long Short-Term Memory (LSTM)` que recibe los 2 tensores de *One-Hot encoding* de cada `id` de $n$-notas en las secuencias. La activación de hace por `softmax`a fin de regresar la probabilidad de los `id` calculados dado el tensor de entrada. Se anexa el código donde se muestra la forma gráfica de la red neuronal profunda."
   ]
  },
  {
   "cell_type": "code",
   "execution_count": 45,
   "metadata": {},
   "outputs": [],
   "source": [
    "modelLSTM = Sequential()\n",
    "modelLSTM.add(LSTM(512, input_shape = (x.shape[1:])))\n",
    "modelLSTM.add(Dense(master_n_notes.shape[0]))\n",
    "modelLSTM.add(Activation('softmax'))"
   ]
  },
  {
   "cell_type": "code",
   "execution_count": 46,
   "metadata": {},
   "outputs": [
    {
     "data": {
      "image/png": "[encoded data removed]",
      "text/plain": [
       "<IPython.core.display.Image object>"
      ]
     },
     "execution_count": 46,
     "metadata": {},
     "output_type": "execute_result"
    }
   ],
   "source": [
    "plot_model(modelLSTM, show_shapes = True, \n",
    "           show_layer_names = True)"
   ]
  },
  {
   "cell_type": "code",
   "execution_count": 47,
   "metadata": {},
   "outputs": [
    {
     "name": "stdout",
     "output_type": "stream",
     "text": [
      "Train on 81475 samples, validate on 4289 samples\n",
      "Epoch 1/2\n",
      "81475/81475 [==============================] - 603s 7ms/sample - loss: 7.6168 - accuracy: 0.0437 - val_loss: 7.7844 - val_accuracy: 0.0485\n",
      "Epoch 2/2\n",
      "81475/81475 [==============================] - 629s 8ms/sample - loss: 7.0921 - accuracy: 0.0651 - val_loss: 8.1307 - val_accuracy: 0.0490\n"
     ]
    }
   ],
   "source": [
    "optimizer = RMSprop(lr=0.01)\n",
    "modelLSTM.compile(loss='categorical_crossentropy', optimizer=optimizer, metrics=['accuracy'])\n",
    "history = modelLSTM.fit(x, y, validation_split=0.05, batch_size=128, epochs=2, shuffle=True).history"
   ]
  },
  {
   "cell_type": "markdown",
   "metadata": {},
   "source": [
    "### Modelo 2. La red neuronal recurrente (RNN) con GRU\n",
    "La red neuronal que se construyó para el proyecto es una RNN con una capa `Gated Recurrent Unit (GRU)` que recibe los 2 tensores de *One-Hot encoding* de cada `id` de $n$-notas en las secuencias. La activación de hace por `softmax`a fin de regresar la probabilidad de los `id` calculados dado el tensor de entrada. Se anexa el código donde se muestra la forma gráfica de la red neuronal profunda."
   ]
  },
  {
   "cell_type": "code",
   "execution_count": 48,
   "metadata": {},
   "outputs": [],
   "source": [
    "modelGRU = Sequential()\n",
    "modelGRU.add(GRU(512, input_shape = (x.shape[1:])))\n",
    "modelGRU.add(Dense(master_n_notes.shape[0]))\n",
    "modelGRU.add(Activation('softmax'))"
   ]
  },
  {
   "cell_type": "code",
   "execution_count": 49,
   "metadata": {},
   "outputs": [
    {
     "data": {
      "image/png": "[encoded data removed]",
      "text/plain": [
       "<IPython.core.display.Image object>"
      ]
     },
     "execution_count": 49,
     "metadata": {},
     "output_type": "execute_result"
    }
   ],
   "source": [
    "plot_model(modelGRU, show_shapes = True, \n",
    "           show_layer_names = True)"
   ]
  },
  {
   "cell_type": "code",
   "execution_count": 50,
   "metadata": {},
   "outputs": [
    {
     "name": "stdout",
     "output_type": "stream",
     "text": [
      "Train on 81475 samples, validate on 4289 samples\n",
      "Epoch 1/2\n",
      "81475/81475 [==============================] - 452s 6ms/sample - loss: 7.5865 - accuracy: 0.0478 - val_loss: 7.7602 - val_accuracy: 0.0541\n",
      "Epoch 2/2\n",
      "81475/81475 [==============================] - 497s 6ms/sample - loss: 6.9969 - accuracy: 0.0825 - val_loss: 8.4504 - val_accuracy: 0.0478\n"
     ]
    }
   ],
   "source": [
    "optimizer = RMSprop(lr=0.01)\n",
    "modelGRU.compile(loss='categorical_crossentropy', optimizer=optimizer, metrics=['accuracy'])\n",
    "history = modelGRU.fit(x, y, validation_split=0.05, batch_size=128, epochs=2, shuffle=True).history"
   ]
  },
  {
   "cell_type": "markdown",
   "metadata": {},
   "source": [
    "# Presentación de resultados\n",
    "A continuación, se mostrarán los resultados del `accuracy` de los modelos entrenados.\n",
    "\n",
    "## Comparación de las soluciones propuestas\n",
    "Observando los resultados debajo decimos que la RNN con la capa GRU tuvo un mejor desempeño si observamos el `accuracy` del conjunto de validación. Es por esto que decimos que el modelo `modelLSTM` lo hizo mejor que el modelo `modelGRU`."
   ]
  },
  {
   "cell_type": "code",
   "execution_count": 51,
   "metadata": {},
   "outputs": [
    {
     "name": "stdout",
     "output_type": "stream",
     "text": [
      "LSTM val_accuracy: 0.048962463\n",
      "GRU  val_accuracy: 0.04779669\n"
     ]
    }
   ],
   "source": [
    "print(\"LSTM val_accuracy:\", modelLSTM.metrics[0].result().numpy())\n",
    "print(\"GRU  val_accuracy:\", modelGRU.metrics[0].result().numpy())"
   ]
  },
  {
   "cell_type": "markdown",
   "metadata": {},
   "source": [
    "## Resultados con la mejor solución al problema\n",
    "### Los tensores resultantes\n",
    "Para comprobar la generación de la secuencia de $n$-notas se toma un tensor aleatorio de 2 $n$-notas. Vamos a tomar el acorde nuevo para que forme parte del nuevo tensor de predicción."
   ]
  },
  {
   "cell_type": "code",
   "execution_count": 52,
   "metadata": {},
   "outputs": [],
   "source": [
    "top_n = 1\n",
    "n_notes_id_sequences = pd.DataFrame(columns=['n_notes_01', 'n_notes_02', 'n_notes_03',\n",
    "                                 'n_notes_04', 'n_notes_05', 'n_notes_06',\n",
    "                                 'n_notes_07', 'n_notes_08',\n",
    "                                            'n_notes_09', 'n_notes_10', 'n_notes_11',\n",
    "                                 'n_notes_12', 'n_notes_13', 'n_notes_14',\n",
    "                                 'n_notes_15', 'n_notes_16'], dtype= int)\n",
    "\n",
    "for sequence in range(5):\n",
    "    input_n_notes = x[np.random.choice(range(len(x)), size=1)[0]]\n",
    "    oh_n_notes_sequence = input_n_notes.copy()\n",
    "    n_notes_id = []\n",
    "\n",
    "    for i in range(14):\n",
    "        new_prediction = modelLSTM.predict(np.expand_dims(oh_n_notes_sequence[-2:], axis=0))\n",
    "        new_prediction = np.squeeze(new_prediction, axis=0)\n",
    "        log_prediction = np.log(new_prediction)\n",
    "        exp_prediction = np.exp(log_prediction)\n",
    "        prediction = exp_prediction / np.sum(exp_prediction)\n",
    "\n",
    "        n_notes_index = heapq.nlargest(top_n, range(len(prediction)), prediction.take)\n",
    "        to_append = np.zeros((1, master_n_notes.shape[0]), dtype=bool)\n",
    "        to_append[0][n_notes_index] = True\n",
    "\n",
    "        oh_n_notes_sequence = np.concatenate([oh_n_notes_sequence, to_append])\n",
    "    \n",
    "    for oh_n_notes in oh_n_notes_sequence:\n",
    "        n_notes_id.append(oh_n_notes.argmax())\n",
    "        \n",
    "    n_notes_id_sequences.loc[len(n_notes_id_sequences.index)] = n_notes_id"
   ]
  },
  {
   "cell_type": "code",
   "execution_count": 53,
   "metadata": {},
   "outputs": [],
   "source": [
    "n_notes_id_sequences.to_csv('C:\\\\Users\\\\ismedina\\\\Documents\\\\Maestría\\\\2022-1\\\\SeminarioII\\\\n_notes_id_sequences.csv')"
   ]
  },
  {
   "cell_type": "markdown",
   "metadata": {},
   "source": [
    "### La música resultante\n",
    "Con las predicciones hechas ya es posible generar las partituras y midis asociados a los compases propuestos para la asistencia en la creación musical. Las celdas a continuación generan dichos elementos."
   ]
  },
  {
   "cell_type": "code",
   "execution_count": 29,
   "metadata": {},
   "outputs": [
    {
     "data": {
      "text/plain": [
       "WindowsPath('C:/Program Files/MuseScore 3/bin/MuseScore3.exe')"
      ]
     },
     "execution_count": 29,
     "metadata": {},
     "output_type": "execute_result"
    }
   ],
   "source": [
    "import numpy as np\n",
    "import pandas as pd\n",
    "import music21\n",
    "from music21 import *\n",
    "\n",
    "## Variables de entorno donde se encuentra el binario de MuseScore\n",
    "us = environment.UserSettings()\n",
    "us['musicxmlPath'] = 'C:\\\\Program Files\\\\MuseScore 3\\\\bin\\\\MuseScore3.exe'\n",
    "us['musescoreDirectPNGPath'] = 'C:\\\\Program Files\\\\MuseScore 3\\\\bin\\\\MuseScore3.exe'\n",
    "us['musicxmlPath']"
   ]
  },
  {
   "cell_type": "code",
   "execution_count": 30,
   "metadata": {},
   "outputs": [],
   "source": [
    "n_notes_id_sequences = pd.read_csv('C:\\\\Users\\\\ismedina\\\\Documents\\\\Maestría\\\\2022-1\\\\SeminarioII\\\\n_notes_id_sequences.csv', index_col = 0)\n",
    "master_n_notes = pd.read_csv('C:\\\\Users\\\\ismedina\\\\Documents\\\\Maestría\\\\2022-1\\\\SeminarioII\\\\master_n_notes.csv', index_col = 0)"
   ]
  },
  {
   "cell_type": "code",
   "execution_count": 31,
   "metadata": {},
   "outputs": [
    {
     "data": {
      "text/html": [
       "<div>\n",
       "<style scoped>\n",
       "    .dataframe tbody tr th:only-of-type {\n",
       "        vertical-align: middle;\n",
       "    }\n",
       "\n",
       "    .dataframe tbody tr th {\n",
       "        vertical-align: top;\n",
       "    }\n",
       "\n",
       "    .dataframe thead th {\n",
       "        text-align: right;\n",
       "    }\n",
       "</style>\n",
       "<table border=\"1\" class=\"dataframe\">\n",
       "  <thead>\n",
       "    <tr style=\"text-align: right;\">\n",
       "      <th></th>\n",
       "      <th>n_notes_01</th>\n",
       "      <th>n_notes_02</th>\n",
       "      <th>n_notes_03</th>\n",
       "      <th>n_notes_04</th>\n",
       "      <th>n_notes_05</th>\n",
       "      <th>n_notes_06</th>\n",
       "      <th>n_notes_07</th>\n",
       "      <th>n_notes_08</th>\n",
       "      <th>n_notes_09</th>\n",
       "      <th>n_notes_10</th>\n",
       "      <th>n_notes_11</th>\n",
       "      <th>n_notes_12</th>\n",
       "      <th>n_notes_13</th>\n",
       "      <th>n_notes_14</th>\n",
       "      <th>n_notes_15</th>\n",
       "      <th>n_notes_16</th>\n",
       "    </tr>\n",
       "  </thead>\n",
       "  <tbody>\n",
       "    <tr>\n",
       "      <th>0</th>\n",
       "      <td>416</td>\n",
       "      <td>12</td>\n",
       "      <td>78</td>\n",
       "      <td>12</td>\n",
       "      <td>78</td>\n",
       "      <td>12</td>\n",
       "      <td>78</td>\n",
       "      <td>12</td>\n",
       "      <td>78</td>\n",
       "      <td>12</td>\n",
       "      <td>78</td>\n",
       "      <td>12</td>\n",
       "      <td>78</td>\n",
       "      <td>12</td>\n",
       "      <td>78</td>\n",
       "      <td>12</td>\n",
       "    </tr>\n",
       "    <tr>\n",
       "      <th>1</th>\n",
       "      <td>1248</td>\n",
       "      <td>105</td>\n",
       "      <td>681</td>\n",
       "      <td>681</td>\n",
       "      <td>681</td>\n",
       "      <td>681</td>\n",
       "      <td>681</td>\n",
       "      <td>681</td>\n",
       "      <td>681</td>\n",
       "      <td>681</td>\n",
       "      <td>681</td>\n",
       "      <td>681</td>\n",
       "      <td>681</td>\n",
       "      <td>681</td>\n",
       "      <td>681</td>\n",
       "      <td>681</td>\n",
       "    </tr>\n",
       "    <tr>\n",
       "      <th>2</th>\n",
       "      <td>1254</td>\n",
       "      <td>609</td>\n",
       "      <td>1254</td>\n",
       "      <td>1254</td>\n",
       "      <td>1254</td>\n",
       "      <td>1254</td>\n",
       "      <td>1254</td>\n",
       "      <td>1254</td>\n",
       "      <td>1254</td>\n",
       "      <td>1254</td>\n",
       "      <td>1254</td>\n",
       "      <td>1254</td>\n",
       "      <td>1254</td>\n",
       "      <td>1254</td>\n",
       "      <td>1254</td>\n",
       "      <td>1254</td>\n",
       "    </tr>\n",
       "    <tr>\n",
       "      <th>3</th>\n",
       "      <td>5928</td>\n",
       "      <td>96</td>\n",
       "      <td>653</td>\n",
       "      <td>692</td>\n",
       "      <td>653</td>\n",
       "      <td>692</td>\n",
       "      <td>653</td>\n",
       "      <td>692</td>\n",
       "      <td>653</td>\n",
       "      <td>692</td>\n",
       "      <td>653</td>\n",
       "      <td>692</td>\n",
       "      <td>653</td>\n",
       "      <td>692</td>\n",
       "      <td>653</td>\n",
       "      <td>692</td>\n",
       "    </tr>\n",
       "    <tr>\n",
       "      <th>4</th>\n",
       "      <td>153</td>\n",
       "      <td>7392</td>\n",
       "      <td>153</td>\n",
       "      <td>153</td>\n",
       "      <td>153</td>\n",
       "      <td>153</td>\n",
       "      <td>153</td>\n",
       "      <td>153</td>\n",
       "      <td>153</td>\n",
       "      <td>153</td>\n",
       "      <td>153</td>\n",
       "      <td>153</td>\n",
       "      <td>153</td>\n",
       "      <td>153</td>\n",
       "      <td>153</td>\n",
       "      <td>153</td>\n",
       "    </tr>\n",
       "  </tbody>\n",
       "</table>\n",
       "</div>"
      ],
      "text/plain": [
       "   n_notes_01  n_notes_02  n_notes_03  n_notes_04  n_notes_05  n_notes_06  \\\n",
       "0         416          12          78          12          78          12   \n",
       "1        1248         105         681         681         681         681   \n",
       "2        1254         609        1254        1254        1254        1254   \n",
       "3        5928          96         653         692         653         692   \n",
       "4         153        7392         153         153         153         153   \n",
       "\n",
       "   n_notes_07  n_notes_08  n_notes_09  n_notes_10  n_notes_11  n_notes_12  \\\n",
       "0          78          12          78          12          78          12   \n",
       "1         681         681         681         681         681         681   \n",
       "2        1254        1254        1254        1254        1254        1254   \n",
       "3         653         692         653         692         653         692   \n",
       "4         153         153         153         153         153         153   \n",
       "\n",
       "   n_notes_13  n_notes_14  n_notes_15  n_notes_16  \n",
       "0          78          12          78          12  \n",
       "1         681         681         681         681  \n",
       "2        1254        1254        1254        1254  \n",
       "3         653         692         653         692  \n",
       "4         153         153         153         153  "
      ]
     },
     "execution_count": 31,
     "metadata": {},
     "output_type": "execute_result"
    }
   ],
   "source": [
    "n_notes_id_sequences"
   ]
  },
  {
   "cell_type": "code",
   "execution_count": 32,
   "metadata": {},
   "outputs": [
    {
     "name": "stdout",
     "output_type": "stream",
     "text": [
      "Partitura 0\n"
     ]
    },
    {
     "data": {
      "image/png": "[encoded data removed]",
      "text/plain": [
       "<IPython.core.display.Image object>"
      ]
     },
     "metadata": {
      "image/png": {
       "height": 121,
       "width": 673
      }
     },
     "output_type": "display_data"
    },
    {
     "data": {
      "text/html": [
       "\n",
       "                <div id='midiPlayerDiv535'></div>\n",
       "                <link rel=\"stylesheet\" href=\"//cuthbertLab.github.io/music21j/css/m21.css\"\n",
       "                    type=\"text/css\" />\n",
       "                \n",
       "                <script>\n",
       "                require.config({\n",
       "                    paths: {'music21': '//cuthbertLab.github.io/music21j/src/music21'}\n",
       "                });\n",
       "                require(['music21'], function() {\n",
       "                               mp = new music21.miditools.MidiPlayer();\n",
       "                               mp.addPlayer('#midiPlayerDiv535');\n",
       "                               mp.base64Load('data:audio/midi;base64,TVRoZAAAAAYAAQADBABNVHJrAAAAFAD/UQMHoSAA/1gEBAIYCIgA/y8ATVRyawAAAJ4A/wMAAOAAQIgAkEJahACAQgAAkEZahACARgAAkERahACARAAAkEZahACARgAAkERahACARAAAkEZahACARgAAkERahACARAAAkEZahACARgAAkERahACARAAAkEZahACARgAAkERahACARAAAkEZahACARgAAkERahACARAAAkEZahACARgAAkERahACARAAAkEZahACARgCIAP8vAE1UcmsAAAAJAP8DAIgA/y8A');\n",
       "                        });\n",
       "                </script>"
      ],
      "text/plain": [
       "<IPython.core.display.HTML object>"
      ]
     },
     "metadata": {},
     "output_type": "display_data"
    },
    {
     "name": "stdout",
     "output_type": "stream",
     "text": [
      "Partitura 1\n"
     ]
    },
    {
     "data": {
      "image/png": "[encoded data removed]",
      "text/plain": [
       "<IPython.core.display.Image object>"
      ]
     },
     "metadata": {
      "image/png": {
       "height": 115,
       "width": 673
      }
     },
     "output_type": "display_data"
    },
    {
     "data": {
      "text/html": [
       "\n",
       "                <div id='midiPlayerDiv1218'></div>\n",
       "                <link rel=\"stylesheet\" href=\"//cuthbertLab.github.io/music21j/css/m21.css\"\n",
       "                    type=\"text/css\" />\n",
       "                \n",
       "                <script>\n",
       "                require.config({\n",
       "                    paths: {'music21': '//cuthbertLab.github.io/music21j/src/music21'}\n",
       "                });\n",
       "                require(['music21'], function() {\n",
       "                               mp = new music21.miditools.MidiPlayer();\n",
       "                               mp.addPlayer('#midiPlayerDiv1218');\n",
       "                               mp.base64Load('data:audio/midi;base64,TVRoZAAAAAYAAQADBABNVHJrAAAAFAD/UQMHoSAA/1gEBAIYCIgA/y8ATVRyawAAAAkA/wMAiAD/LwBNVHJrAAAAngD/AwAA4ABAiACQMVqEAIAxAACQK1qEAIArAACQLVqEAIAtAACQLVqEAIAtAACQLVqEAIAtAACQLVqEAIAtAACQLVqEAIAtAACQLVqEAIAtAACQLVqEAIAtAACQLVqEAIAtAACQLVqEAIAtAACQLVqEAIAtAACQLVqEAIAtAACQLVqEAIAtAACQLVqEAIAtAACQLVqEAIAtAIgA/y8A');\n",
       "                        });\n",
       "                </script>"
      ],
      "text/plain": [
       "<IPython.core.display.HTML object>"
      ]
     },
     "metadata": {},
     "output_type": "display_data"
    },
    {
     "name": "stdout",
     "output_type": "stream",
     "text": [
      "Partitura 2\n"
     ]
    },
    {
     "data": {
      "image/png": "[encoded data removed]",
      "text/plain": [
       "<IPython.core.display.Image object>"
      ]
     },
     "metadata": {
      "image/png": {
       "height": 113,
       "width": 673
      }
     },
     "output_type": "display_data"
    },
    {
     "data": {
      "text/html": [
       "\n",
       "                <div id='midiPlayerDiv1917'></div>\n",
       "                <link rel=\"stylesheet\" href=\"//cuthbertLab.github.io/music21j/css/m21.css\"\n",
       "                    type=\"text/css\" />\n",
       "                \n",
       "                <script>\n",
       "                require.config({\n",
       "                    paths: {'music21': '//cuthbertLab.github.io/music21j/src/music21'}\n",
       "                });\n",
       "                require(['music21'], function() {\n",
       "                               mp = new music21.miditools.MidiPlayer();\n",
       "                               mp.addPlayer('#midiPlayerDiv1917');\n",
       "                               mp.base64Load('data:audio/midi;base64,TVRoZAAAAAYAAQADBABNVHJrAAAAFAD/UQMHoSAA/1gEBAIYCIgA/y8ATVRyawAAAJ4A/wMAAOAAQIgAkEBahACAQAAAkENahACAQwAAkEBahACAQAAAkEBahACAQAAAkEBahACAQAAAkEBahACAQAAAkEBahACAQAAAkEBahACAQAAAkEBahACAQAAAkEBahACAQAAAkEBahACAQAAAkEBahACAQAAAkEBahACAQAAAkEBahACAQAAAkEBahACAQAAAkEBahACAQACIAP8vAE1UcmsAAACeAP8DAADgAECIAJA0WoQAgDQAAJA3WoQAgDcAAJA0WoQAgDQAAJA0WoQAgDQAAJA0WoQAgDQAAJA0WoQAgDQAAJA0WoQAgDQAAJA0WoQAgDQAAJA0WoQAgDQAAJA0WoQAgDQAAJA0WoQAgDQAAJA0WoQAgDQAAJA0WoQAgDQAAJA0WoQAgDQAAJA0WoQAgDQAAJA0WoQAgDQAiAD/LwA=');\n",
       "                        });\n",
       "                </script>"
      ],
      "text/plain": [
       "<IPython.core.display.HTML object>"
      ]
     },
     "metadata": {},
     "output_type": "display_data"
    },
    {
     "name": "stdout",
     "output_type": "stream",
     "text": [
      "Partitura 3\n"
     ]
    },
    {
     "data": {
      "image/png": "[encoded data removed]",
      "text/plain": [
       "<IPython.core.display.Image object>"
      ]
     },
     "metadata": {
      "image/png": {
       "height": 112,
       "width": 673
      }
     },
     "output_type": "display_data"
    },
    {
     "data": {
      "text/html": [
       "\n",
       "                <div id='midiPlayerDiv2600'></div>\n",
       "                <link rel=\"stylesheet\" href=\"//cuthbertLab.github.io/music21j/css/m21.css\"\n",
       "                    type=\"text/css\" />\n",
       "                \n",
       "                <script>\n",
       "                require.config({\n",
       "                    paths: {'music21': '//cuthbertLab.github.io/music21j/src/music21'}\n",
       "                });\n",
       "                require(['music21'], function() {\n",
       "                               mp = new music21.miditools.MidiPlayer();\n",
       "                               mp.addPlayer('#midiPlayerDiv2600');\n",
       "                               mp.base64Load('data:audio/midi;base64,TVRoZAAAAAYAAQADBABNVHJrAAAAFAD/UQMHoSAA/1gEBAIYCIgA/y8ATVRyawAAACcA/wMAAOAAQIgAkD5aAJBCWgCQSFqEAIA+AACAQgAAgEgAiAD/LwBNVHJrAAAAlQD/AwAA4ABAjACQOFqEAIA4AACQOVqEAIA5AACQNlqEAIA2AACQOVqEAIA5AACQNlqEAIA2AACQOVqEAIA5AACQNlqEAIA2AACQOVqEAIA5AACQNlqEAIA2AACQOVqEAIA5AACQNlqEAIA2AACQOVqEAIA5AACQNlqEAIA2AACQOVqEAIA5AACQNlqEAIA2AIgA/y8A');\n",
       "                        });\n",
       "                </script>"
      ],
      "text/plain": [
       "<IPython.core.display.HTML object>"
      ]
     },
     "metadata": {},
     "output_type": "display_data"
    },
    {
     "name": "stdout",
     "output_type": "stream",
     "text": [
      "Partitura 4\n"
     ]
    },
    {
     "data": {
      "image/png": "[encoded data removed]",
      "text/plain": [
       "<IPython.core.display.Image object>"
      ]
     },
     "metadata": {
      "image/png": {
       "height": 119,
       "width": 673
      }
     },
     "output_type": "display_data"
    },
    {
     "data": {
      "text/html": [
       "\n",
       "                <div id='midiPlayerDiv3283'></div>\n",
       "                <link rel=\"stylesheet\" href=\"//cuthbertLab.github.io/music21j/css/m21.css\"\n",
       "                    type=\"text/css\" />\n",
       "                \n",
       "                <script>\n",
       "                require.config({\n",
       "                    paths: {'music21': '//cuthbertLab.github.io/music21j/src/music21'}\n",
       "                });\n",
       "                require(['music21'], function() {\n",
       "                               mp = new music21.miditools.MidiPlayer();\n",
       "                               mp.addPlayer('#midiPlayerDiv3283');\n",
       "                               mp.base64Load('data:audio/midi;base64,TVRoZAAAAAYAAQADBABNVHJrAAAAFAD/UQMHoSAA/1gEBAIYCIgA/y8ATVRyawAAACcA/wMAAOAAQIwAkEVaAJBKWgCQTlqEAIBFAACASgAAgE4AiAD/LwBNVHJrAAABDgD/AwAA4ABAiACQK1oAkDdahACAKwAAgDcAhACQK1oAkDdahACAKwAAgDcAAJArWgCQN1qEAIArAACANwAAkCtaAJA3WoQAgCsAAIA3AACQK1oAkDdahACAKwAAgDcAAJArWgCQN1qEAIArAACANwAAkCtaAJA3WoQAgCsAAIA3AACQK1oAkDdahACAKwAAgDcAAJArWgCQN1qEAIArAACANwAAkCtaAJA3WoQAgCsAAIA3AACQK1oAkDdahACAKwAAgDcAAJArWgCQN1qEAIArAACANwAAkCtaAJA3WoQAgCsAAIA3AACQK1oAkDdahACAKwAAgDcAAJArWgCQN1qEAIArAACANwCIAP8vAA==');\n",
       "                        });\n",
       "                </script>"
      ],
      "text/plain": [
       "<IPython.core.display.HTML object>"
      ]
     },
     "metadata": {},
     "output_type": "display_data"
    }
   ],
   "source": [
    "columns = n_notes_id_sequences.columns\n",
    "\n",
    "for key, row in n_notes_id_sequences.iterrows():\n",
    "    filename =  'C:\\\\Users\\\\ismedina\\\\Documents\\\\Maestría\\\\2022-1\\\\SeminarioII\\\\Partitura' + str(key) + '.mid'\n",
    "    print('Partitura %d' % key)\n",
    "    s = stream.Score()\n",
    "    sequence_staff_C = []\n",
    "    sequence_staff_F = []\n",
    "    staff_C = stream.Part()\n",
    "    staff_F = stream.Part()\n",
    "    for column in columns:\n",
    "        n_notes = master_n_notes.loc[row[column]]\n",
    "        \n",
    "        if np.count_nonzero(n_notes) == 0:\n",
    "            sequence_staff_C.append(note.Rest(type='eighth'))\n",
    "            sequence_staff_F.append(note.Rest(type='eighth'))\n",
    "        elif np.count_nonzero(n_notes) == 1:\n",
    "            if n_notes[0] > 0 and n_notes[0] < 60:\n",
    "                sequence_staff_F.append(note.Note(n_notes[0], type='eighth'))\n",
    "                sequence_staff_C.append(note.Rest(type='eighth'))\n",
    "            if n_notes[0] >= 60:\n",
    "                sequence_staff_C.append(note.Note(n_notes[0], type='eighth'))\n",
    "                sequence_staff_F.append(note.Rest(type='eighth'))\n",
    "        else:\n",
    "            c_staff_C = []\n",
    "            c_staff_F = []\n",
    "            for n_note in n_notes[:np.count_nonzero(n_notes)]:\n",
    "                if n_note > 0 and n_note < 60:\n",
    "                    c_staff_F.append(note.Note(n_note, type='eighth'))\n",
    "                if n_note >= 60:\n",
    "                    c_staff_C.append(note.Note(n_note, type='eighth'))\n",
    "            \n",
    "            if len(c_staff_C) > 0:\n",
    "                sequence_staff_C.append(chord.Chord(c_staff_C, type='eighth'))\n",
    "            else:\n",
    "                sequence_staff_C.append(note.Rest(type='eighth'))\n",
    "\n",
    "            if len(c_staff_F) > 0:\n",
    "                sequence_staff_F.append(chord.Chord(c_staff_F, type='eighth'))\n",
    "            else:\n",
    "                sequence_staff_F.append(note.Rest(type='eighth'))\n",
    "    \n",
    "    ##print(sequence_staff_C)\n",
    "    staff_C.append(sequence_staff_C)\n",
    "    staff_F.append(sequence_staff_F)\n",
    "    \n",
    "    s.insert(0, staff_C)\n",
    "    s.insert(0, staff_F)            \n",
    "\n",
    "    staffGroup1 = layout.StaffGroup([staff_C, staff_F],\n",
    "                                    name='Piano', abbreviation='Piano', symbol='brace')\n",
    "    staffGroup1.barTogether = 'Mensurstrich'\n",
    "    s.insert(0, staffGroup1)\n",
    "    s.show()\n",
    "    s.show('midi')\n",
    "    s.write('midi', fp=filename)\n"
   ]
  },
  {
   "cell_type": "markdown",
   "metadata": {
    "id": "Zs62OJfB-dw4"
   },
   "source": [
    "# Referencias\n",
    "\n",
    "* Briot, J. (2021). From artificial neural networks to deep learning for music generation: history, concepts and trends. *Neural Comput & Applic 33*, 36-65.\n",
    "* Ijas, A. H. (2 de Noviembre de 2019). *Build a simple predictive keyboard using python and Keras*. Obtenido de medium.com: https://medium.com/analytics-vidhya/build-a-simple-predictive-keyboard-using-python-and-keras-b78d3c88cffb\n",
    "* Lozano Cruz, O. S.-G. (6 de Junio de 2013). El cerebro y la música. *Rev Med UV, Enero - Junio 2013*, págs. 17-22.\n",
    "* Morán Martínez, M. C. (1 de Noviembre de 2009). Psicología y Música: inteligencia musical y desarrollo estético*. *Revista Digital Universitaria*, págs. 1-13.\n",
    "\n"
   ]
  },
  {
   "cell_type": "code",
   "execution_count": null,
   "metadata": {},
   "outputs": [],
   "source": []
  }
 ],
 "metadata": {
  "colab": {
   "collapsed_sections": [],
   "name": "U05A.ipynb",
   "provenance": []
  },
  "kernelspec": {
   "display_name": "Python 3 (ipykernel)",
   "language": "python",
   "name": "python3"
  },
  "language_info": {
   "codemirror_mode": {
    "name": "ipython",
    "version": 3
   },
   "file_extension": ".py",
   "mimetype": "text/x-python",
   "name": "python",
   "nbconvert_exporter": "python",
   "pygments_lexer": "ipython3",
   "version": "3.8.13"
  }
 },
 "nbformat": 4,
 "nbformat_minor": 1
}
