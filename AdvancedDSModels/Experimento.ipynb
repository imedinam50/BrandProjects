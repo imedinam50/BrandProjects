<div id="top"></div>
<!-- PROJECT LOGO -->
<br />
<div align="center">
  
  <img src="https://www.globallogic.com/de/wp-content/uploads/sites/26/2019/10/Machine-Learning.jpg">

  <h3 align="center">Análisis de remesas, educación y pobreza y modelo de Machine Learning.</h3>

  <p align="center">
    En este experimento se muestra la experiencia adquirida de clasificación basada en sentimientos descritos por textos. Este es un extracto del proyecto integrador para la Maestría en Ciencia de Datos e Información que estoy cursando.
  </p>
</div>

## Liga del proyecto

* [Experimento.ipynb](https://github.com/imedinam50/BrandProjects/blob/main/AdvancedDSModels/Experimento.ipynb)
