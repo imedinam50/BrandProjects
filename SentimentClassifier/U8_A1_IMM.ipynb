{
 "cells": [
  {
   "cell_type": "markdown",
   "metadata": {},
   "source": [
    "<img src=\"https://raw.githubusercontent.com/imedinam50/MCDI/main/MCDI.jpg\">\n",
    "\n",
    "<div style=\"text-align: right\"> <H1> Procesamiento de Información  </H1></div>\n",
    "<br><br><br>\n",
    "<div style=\"text-align: right\"> <H2> Profesor. Dr. Sabino Miranda Jiménez </H2></div>\n",
    "<div style=\"text-align: right\"> <H2> Profesor. Dr. Dagoberto Armenta Medina </H2></div>\n",
    "<br><br>\n",
    "\n",
    "<H2><B> Unidad 8. Desempeño de los clasificadores </B></H2>\n",
    "<br><br>\n",
    "<H3><I> Ismael Medina Muñoz </I></H3>\n",
    "<div style=\"text-align: right\"> Fecha de entrega: 2021-06-03 </div>\n",
    "\n",
    "---"
   ]
  },
  {
   "cell_type": "markdown",
   "metadata": {},
   "source": [
    "# Actividad 1. Clasificación de información\n",
    "## Introducción\n",
    "\n",
    "El ejercicio propuesto es evaluar el desempeño de dos clasificadores vistos en el bloque anterior: Naive Bayes y Support Vector Machine (lineal).\n",
    "\n",
    "Se usarán los preprocesamientos del ejercicio anterior, CounterVectorizer y TFIDFVectorizer para el pesado, a fin de evaluar los clasificadores propuestos.\n",
    "\n",
    "Una vez entrenado cada modelo, se predecirán los datos para el conjunto test que se proporciona: datos de agresividad (2 clases) y datos de celulares (4 clases).\n",
    "\n",
    "El reporte contiene el código de la creación de los modelos, así como la evaluación de  los desempeños de cada combinación, es decir, el clasificador, los distintos pesados y para los dos conjuntos de datos:\n",
    "\n",
    "* Mostrar la matriz de confusión. \n",
    "* El cálculo de la precisión, recall, F-score  para macro y micro para cada configuración del clasificador y conjunto de datos\n",
    "* Comparación los datos de evaluación de cada configuración"
   ]
  },
  {
   "cell_type": "markdown",
   "metadata": {},
   "source": [
    "## Desarrollo"
   ]
  },
  {
   "cell_type": "markdown",
   "metadata": {},
   "source": [
    "Primero definiremos las funciones para abrir los archivos JSON con los que trabajaremos en el resto del ejercicio con comentarios de twitter donde el objetivo es un celular y algunas marcas en específico."
   ]
  },
  {
   "cell_type": "code",
   "execution_count": 1,
   "metadata": {},
   "outputs": [],
   "source": [
    "from nltk.corpus import stopwords\n",
    "from sklearn.feature_extraction.text import CountVectorizer\n",
    "from sklearn.feature_extraction.text import TfidfVectorizer  \n",
    "from nltk.stem import SnowballStemmer\n",
    "import pandas as pd\n",
    "import json\n",
    "import unicodedata\n",
    "import numpy as np\n",
    "import matplotlib.pyplot as plt"
   ]
  },
  {
   "cell_type": "markdown",
   "metadata": {},
   "source": [
    "En el siguiente código se aplican los procesamientos como uso de sólo minúsculas, eliminar puntuación, eliminar stopwords, usar unigramas, y usar stemming."
   ]
  },
  {
   "cell_type": "code",
   "execution_count": 2,
   "metadata": {},
   "outputs": [],
   "source": [
    "PUNCTUACTION = \";:,.\\\\-\\\"'/\"\n",
    "SYMBOLS = \"()[]¿?¡!{}~<>|\"\n",
    "SKIP_SYMBOLS = set(PUNCTUACTION + SYMBOLS)\n",
    "SKIP_SYMBOLS_AND_SPACES = set(PUNCTUACTION + SYMBOLS + '\\t\\n\\r ')\n",
    "\n",
    "def normalize_text(input_str,\n",
    "                   punct=False,\n",
    "                   accents=False,\n",
    "                   stemming=True,\n",
    "                   stopwords=False,\n",
    "                   max_dup=2):\n",
    "    \n",
    "    ##cachedStopWords = [unidecode.unidecode(token) for token in stopwords.words('spanish')] \n",
    "    \n",
    "    stemmer=SnowballStemmer(\"spanish\")\n",
    "    ## Uso de minusculas\n",
    "    nfkd_f = unicodedata.normalize('NFKD', input_str.lower())\n",
    "    n_str = []\n",
    "    c_prev = ''\n",
    "    cc_prev = 0\n",
    "    for c in nfkd_f:\n",
    "        ## Elimina puntuación\n",
    "        if not punct:\n",
    "            if c in SKIP_SYMBOLS:\n",
    "                continue\n",
    "        if not accents and unicodedata.combining(c):\n",
    "            continue\n",
    "        if c_prev == c:\n",
    "            cc_prev += 1\n",
    "            if cc_prev >= max_dup:\n",
    "                continue\n",
    "        else:\n",
    "            cc_prev = 0\n",
    "        n_str.append(c)\n",
    "        c_prev = c\n",
    "        \n",
    "    n_str = \"\".join(n_str)\n",
    "    \n",
    "    if stemming:\n",
    "        tokens = n_str.split()\n",
    "        stemmed_tokens = [stemmer.stem(token) for token in tokens]\n",
    "        n_str = ' '.join(stemmed_tokens)\n",
    "\n",
    "    return n_str\n",
    "\n",
    "def line_iterator(filename):\n",
    "    if filename.endswith(\".gz\"):\n",
    "        f = gzip.GzipFile(filename)\n",
    "    else:\n",
    "        f = open(filename, encoding='utf8')\n",
    "\n",
    "    while True:\n",
    "        line = f.readline()\n",
    "        # Test the type of the line and encode it if neccesary...\n",
    "        if type(line) is bytes:\n",
    "            line = str(line, encoding='utf8')\n",
    "\n",
    "        # If the line is empty, we are done...\n",
    "        if len(line) == 0:\n",
    "            break\n",
    "\n",
    "        line = line.strip()\n",
    "        # If line is empty, jump to next...\n",
    "        if len(line) == 0:\n",
    "            continue\n",
    "\n",
    "        yield line\n",
    "\n",
    "    # Close the file...\n",
    "    f.close()\n",
    "\n",
    "def tweet_iterator(filename):\n",
    "    for line in line_iterator(filename):\n",
    "        yield json.loads(line)"
   ]
  },
  {
   "cell_type": "markdown",
   "metadata": {},
   "source": [
    "### Preparando los datos para el entrenamiento de modelos"
   ]
  },
  {
   "cell_type": "code",
   "execution_count": 3,
   "metadata": {},
   "outputs": [],
   "source": [
    "def load_corpus(file):\n",
    "    X=[]\n",
    "    Y=[]\n",
    "    for review in tweet_iterator(file):\n",
    "        text = normalize_text(review['text'])\n",
    "        X.append(text.lower())\n",
    "        Y.append(review['klass'])\n",
    "    return X,Y"
   ]
  },
  {
   "cell_type": "code",
   "execution_count": 4,
   "metadata": {},
   "outputs": [],
   "source": [
    "X_CP, Y_CP = load_corpus(\"cellphones_train.json\")\n",
    "X_CP_gold,Y_CP_gold = load_corpus(\"cellphones_test.json\")\n",
    "\n",
    "X_AD, Y_AD = load_corpus(\"AggressivenessDetection_train.json\")\n",
    "X_AD_gold,Y_AD_gold = load_corpus(\"AggressivenessDetection_test.json\")"
   ]
  },
  {
   "cell_type": "code",
   "execution_count": 5,
   "metadata": {},
   "outputs": [],
   "source": [
    "# Source code for plotting confusion matrix is based on `plot_confusion_matrix` \n",
    "# via https://runawayhorse001.github.io/LearningApacheSpark/classification.html#decision-tree-classification\n",
    "import matplotlib.pyplot as plt\n",
    "import numpy as np\n",
    "import itertools\n",
    "\n",
    "def plot_CP_confusion_matrix(cm, title):\n",
    "    # Clear Plot\n",
    "    plt.gcf().clear()\n",
    "    plt.rcParams[\"figure.figsize\"] = 8, 8\n",
    "\n",
    "    # Configure figure\n",
    "    fig = plt.figure(1)\n",
    "\n",
    "    # Configure plot\n",
    "    classes = ['information', 'negative', 'neutral', 'positive']\n",
    "    plt.imshow(cm, interpolation='nearest', cmap=plt.cm.Blues)\n",
    "    plt.title(title)\n",
    "    plt.colorbar()\n",
    "    tick_marks = np.arange(len(classes))\n",
    "    plt.xticks(tick_marks, classes, rotation=45)\n",
    "    plt.yticks(tick_marks, classes)\n",
    "\n",
    "    # Normalize and establish threshold\n",
    "    normalize=False\n",
    "    fmt = 'd'\n",
    "    thresh = cm.max() / 2.\n",
    "\n",
    "    # Iterate through the confusion matrix cells\n",
    "    for i, j in itertools.product(range(cm.shape[0]), range(cm.shape[1])):\n",
    "        plt.text(j, i, format(cm[i, j], fmt),\n",
    "            horizontalalignment=\"center\",\n",
    "            color=\"white\" if cm[i, j] > thresh else \"black\")\n",
    "\n",
    "    # Final plot configurations\n",
    "    plt.tight_layout()\n",
    "    plt.ylabel('True label')\n",
    "    plt.xlabel('Predicted label') \n",
    "\n",
    "    # Display images\n",
    "    image = fig\n",
    "\n",
    "    # Show plot\n",
    "    fig = plt.show()\n",
    "\n",
    "    # Save plot\n",
    "    #fig.savefig(\"confusion-matrix.png\")\n",
    "\n",
    "    # Display Plot\n",
    "    ##display(image)\n",
    "\n",
    "    # Close Plot\n",
    "    ##plt.close(fig)\n",
    "\n",
    "def plot_AD_confusion_matrix(cm, title):\n",
    "    # Clear Plot\n",
    "    plt.gcf().clear()\n",
    "    plt.rcParams[\"figure.figsize\"] = 8, 8\n",
    "\n",
    "    # Configure figure\n",
    "    fig = plt.figure(1)\n",
    "\n",
    "    # Configure plot\n",
    "    classes = ['0', '1']\n",
    "    plt.imshow(cm, interpolation='nearest', cmap=plt.cm.Blues)\n",
    "    plt.title(title)\n",
    "    plt.colorbar()\n",
    "    tick_marks = np.arange(len(classes))\n",
    "    plt.xticks(tick_marks, classes, rotation=45)\n",
    "    plt.yticks(tick_marks, classes)\n",
    "\n",
    "    # Normalize and establish threshold\n",
    "    normalize=False\n",
    "    fmt = 'd'\n",
    "    thresh = cm.max() / 2.\n",
    "\n",
    "    # Iterate through the confusion matrix cells\n",
    "    for i, j in itertools.product(range(cm.shape[0]), range(cm.shape[1])):\n",
    "        plt.text(j, i, format(cm[i, j], fmt),\n",
    "            horizontalalignment=\"center\",\n",
    "            color=\"white\" if cm[i, j] > thresh else \"black\")\n",
    "\n",
    "    # Final plot configurations\n",
    "    plt.tight_layout()\n",
    "    plt.ylabel('True label')\n",
    "    plt.xlabel('Predicted label') \n",
    "\n",
    "    # Display images\n",
    "    image = fig\n",
    "\n",
    "    # Show plot\n",
    "    fig = plt.show()\n",
    "\n",
    "    # Save plot\n",
    "    #fig.savefig(\"confusion-matrix.png\")\n",
    "\n",
    "    # Display Plot\n",
    "    ##display(image)\n",
    "\n",
    "    # Close Plot\n",
    "    ##plt.close(fig)    "
   ]
  },
  {
   "cell_type": "code",
   "execution_count": 6,
   "metadata": {},
   "outputs": [],
   "source": [
    "import pandas as pd\n",
    "\n",
    "valores = [('Accuracy', 0.0, 0.0, 0.0, 0.0, 0.0, 0.0, 0.0, 0.0, 0.0, 0.0, 0.0, 0.0, 0.0, 0.0, 0.0, 0.0),\n",
    "           ('macro F1', 0.0, 0.0, 0.0, 0.0, 0.0, 0.0, 0.0, 0.0, 0.0, 0.0, 0.0, 0.0, 0.0, 0.0, 0.0, 0.0),\n",
    "           ('micro F1', 0.0, 0.0, 0.0, 0.0, 0.0, 0.0, 0.0, 0.0, 0.0, 0.0, 0.0, 0.0, 0.0, 0.0, 0.0, 0.0),\n",
    "           ('macro Precision', 0.0, 0.0, 0.0, 0.0, 0.0, 0.0, 0.0, 0.0, 0.0, 0.0, 0.0, 0.0, 0.0, 0.0, 0.0, 0.0),\n",
    "           ('micro Precision', 0.0, 0.0, 0.0, 0.0, 0.0, 0.0, 0.0, 0.0, 0.0, 0.0, 0.0, 0.0, 0.0, 0.0, 0.0, 0.0),\n",
    "           ('macro Recall', 0.0, 0.0, 0.0, 0.0, 0.0, 0.0, 0.0, 0.0, 0.0, 0.0, 0.0, 0.0, 0.0, 0.0, 0.0, 0.0),\n",
    "           ('micro Recall', 0.0, 0.0, 0.0, 0.0, 0.0, 0.0, 0.0, 0.0, 0.0, 0.0, 0.0, 0.0, 0.0, 0.0, 0.0, 0.0)]\n",
    "\n",
    "dfTabla = pd.DataFrame(valores,\n",
    "                     columns=['Medida', \n",
    "                              'CellPhone_Train_TF_Naive', 'CellPhone_Test_TF_Naive', \n",
    "                              'CellPhone_Train_TFIDF_Naive', 'CellPhone_Test_TFIDF_Naive', \n",
    "                              'CellPhone_Train_TF_SVM', 'CellPhone_Test_TF_SVM', \n",
    "                              'CellPhone_Train_TFIDF_SVM', 'CellPhone_Test_TFIDF_SVM', \n",
    "                              'Aggressiveness_Train_TF_Naive', 'Aggressiveness_Test_TF_Naive', \n",
    "                              'Aggressiveness_Train_TFIDF_Naive', 'Aggressiveness_Test_TFIDF_Naive', \n",
    "                              'Aggressiveness_Train_TF_SVM', 'Aggressiveness_Test_TF_SVM', \n",
    "                              'Aggressiveness_Train_TFIDF_SVM', 'Aggressiveness_Test_TFIDF_SVM'])\n",
    "\n",
    "dfTabla = dfTabla.set_index(dfTabla['Medida'])"
   ]
  },
  {
   "cell_type": "markdown",
   "metadata": {},
   "source": [
    "### Entrenamiento de modelos - Modelos bayesianos para datos de celulares"
   ]
  },
  {
   "cell_type": "markdown",
   "metadata": {},
   "source": [
    "#### En las siguientes celdas entrenaremos el modelo usando $TF$"
   ]
  },
  {
   "cell_type": "code",
   "execution_count": 7,
   "metadata": {},
   "outputs": [],
   "source": [
    "vectorizer = CountVectorizer(stop_words=stopwords.words('spanish'))  \n",
    "X_CP_vec = vectorizer.fit_transform(X_CP)"
   ]
  },
  {
   "cell_type": "code",
   "execution_count": 8,
   "metadata": {},
   "outputs": [
    {
     "data": {
      "text/plain": [
       "MultinomialNB()"
      ]
     },
     "execution_count": 8,
     "metadata": {},
     "output_type": "execute_result"
    }
   ],
   "source": [
    "from sklearn.naive_bayes import MultinomialNB\n",
    "mnb_CP = MultinomialNB()\n",
    "mnb_CP.fit(X_CP_vec, Y_CP)"
   ]
  },
  {
   "cell_type": "markdown",
   "metadata": {},
   "source": [
    "Ahora evaluaremos el modelo"
   ]
  },
  {
   "cell_type": "code",
   "execution_count": 9,
   "metadata": {},
   "outputs": [],
   "source": [
    "X_CP_vec = vectorizer.transform(X_CP)\n",
    "mnb_CP_predict = mnb_CP.predict(X_CP_vec)"
   ]
  },
  {
   "cell_type": "markdown",
   "metadata": {},
   "source": [
    "Aquí obtendremos las métricas de desempeño sobre el conjunto de entrenamiento"
   ]
  },
  {
   "cell_type": "code",
   "execution_count": 10,
   "metadata": {},
   "outputs": [
    {
     "name": "stdout",
     "output_type": "stream",
     "text": [
      "TRAIN - Accuracy MB = 0.8252359314924852\n",
      "TRAIN - F1 MB = 0.7027265495314776\n",
      "TRAIN - micro F1 MB = 0.8252359314924852\n",
      "TRAIN - Precision MB = 0.8390581060557862\n",
      "TRAIN - micro Precision MB = 0.8252359314924852\n",
      "TRAIN - Recall MB = 0.6376626531409484\n",
      "TRAIN - micro Recall MB = 0.8252359314924852\n"
     ]
    }
   ],
   "source": [
    "from sklearn.metrics import accuracy_score, f1_score, precision_score, recall_score\n",
    "print(\"TRAIN - Accuracy MB =\", accuracy_score(Y_CP, mnb_CP_predict))\n",
    "\n",
    "print(\"TRAIN - F1 MB =\", f1_score(Y_CP, mnb_CP_predict, average='macro'))\n",
    "print(\"TRAIN - micro F1 MB =\", f1_score(Y_CP, mnb_CP_predict, average='micro'))\n",
    "\n",
    "print(\"TRAIN - Precision MB =\", precision_score(Y_CP, mnb_CP_predict, average='macro'))\n",
    "print(\"TRAIN - micro Precision MB =\", precision_score(Y_CP, mnb_CP_predict, average='micro'))\n",
    "\n",
    "print(\"TRAIN - Recall MB =\", recall_score(Y_CP, mnb_CP_predict, average='macro'))\n",
    "print(\"TRAIN - micro Recall MB =\", recall_score(Y_CP, mnb_CP_predict, average='micro'))\n",
    "\n",
    "dfTabla.at['Accuracy', 'CellPhone_Train_TF_Naive'] = accuracy_score(Y_CP, mnb_CP_predict)\n",
    "dfTabla.at['macro F1', 'CellPhone_Train_TF_Naive'] = f1_score(Y_CP, mnb_CP_predict, average='macro')\n",
    "dfTabla.at['micro F1', 'CellPhone_Train_TF_Naive'] = f1_score(Y_CP, mnb_CP_predict, average='micro')\n",
    "dfTabla.at['macro Precision', 'CellPhone_Train_TF_Naive'] = precision_score(Y_CP, mnb_CP_predict, average='macro')\n",
    "dfTabla.at['micro Precision', 'CellPhone_Train_TF_Naive'] = precision_score(Y_CP, mnb_CP_predict, average='micro')\n",
    "dfTabla.at['macro Recall', 'CellPhone_Train_TF_Naive'] = recall_score(Y_CP, mnb_CP_predict, average='macro')\n",
    "dfTabla.at['micro Recall', 'CellPhone_Train_TF_Naive'] = recall_score(Y_CP, mnb_CP_predict, average='micro')"
   ]
  },
  {
   "cell_type": "markdown",
   "metadata": {},
   "source": [
    "Para mejor visualización, se anexa la gráfica de la matríz de confunsión."
   ]
  },
  {
   "cell_type": "code",
   "execution_count": 12,
   "metadata": {},
   "outputs": [
    {
     "data": {
      "image/png": "[encoded data removed]",
      "text/plain": [
       "<Figure size 576x576 with 2 Axes>"
      ]
     },
     "metadata": {
      "needs_background": "light"
     },
     "output_type": "display_data"
    }
   ],
   "source": [
    "from sklearn.metrics import confusion_matrix\n",
    "cm = confusion_matrix(Y_CP, mnb_CP_predict, labels=['information', 'negative', 'neutral', 'positive'])\n",
    "\n",
    "plot_CP_confusion_matrix(cm, \"Confusion Matrix (Conjunto de entrenamiento TF con naïve)\")"
   ]
  },
  {
   "cell_type": "markdown",
   "metadata": {},
   "source": [
    "Vamos a hacer las predicciones con el modelo entrenado y las gráficas de conteos"
   ]
  },
  {
   "cell_type": "code",
   "execution_count": 13,
   "metadata": {},
   "outputs": [],
   "source": [
    "X_new_vec = vectorizer.transform(X_CP_gold)\n",
    "new_predict = mnb_CP.predict(X_new_vec)"
   ]
  },
  {
   "cell_type": "code",
   "execution_count": 14,
   "metadata": {},
   "outputs": [
    {
     "data": {
      "text/plain": [
       "klass\n",
       "information    4193\n",
       "negative         64\n",
       "neutral         475\n",
       "positive        173\n",
       "dtype: int64"
      ]
     },
     "execution_count": 14,
     "metadata": {},
     "output_type": "execute_result"
    }
   ],
   "source": [
    "X_pred = pd.DataFrame(list(zip(X_CP_gold, new_predict)), columns=['text', 'klass'])\n",
    "X_pred.groupby(['klass']).size()"
   ]
  },
  {
   "cell_type": "code",
   "execution_count": 15,
   "metadata": {},
   "outputs": [
    {
     "name": "stdout",
     "output_type": "stream",
     "text": [
      "TEST - Accuracy MB = 0.7286442405708461\n",
      "TEST - F1 MB = 0.4782348528416201\n",
      "TEST - micro F1 MB = 0.7286442405708461\n",
      "TEST - Precision MB = 0.722005768991752\n",
      "TEST - micro Precision MB = 0.7286442405708461\n",
      "TEST - Recall MB = 0.43088600079014994\n",
      "TEST - micro Recall MB = 0.7286442405708461\n"
     ]
    }
   ],
   "source": [
    "print(\"TEST - Accuracy MB =\", accuracy_score(Y_CP_gold, new_predict))\n",
    "\n",
    "print(\"TEST - F1 MB =\", f1_score(Y_CP_gold, new_predict, average='macro'))\n",
    "print(\"TEST - micro F1 MB =\", f1_score(Y_CP_gold, new_predict, average='micro'))\n",
    "\n",
    "print(\"TEST - Precision MB =\", precision_score(Y_CP_gold, new_predict, average='macro'))\n",
    "print(\"TEST - micro Precision MB =\", precision_score(Y_CP_gold, new_predict, average='micro'))\n",
    "\n",
    "print(\"TEST - Recall MB =\", recall_score(Y_CP_gold, new_predict, average='macro'))\n",
    "print(\"TEST - micro Recall MB =\", recall_score(Y_CP_gold, new_predict, average='micro'))\n",
    "\n",
    "dfTabla.at['Accuracy', 'CellPhone_Test_TF_Naive'] = accuracy_score(Y_CP_gold, new_predict)\n",
    "dfTabla.at['macro F1', 'CellPhone_Test_TF_Naive'] = f1_score(Y_CP_gold, new_predict, average='macro')\n",
    "dfTabla.at['micro F1', 'CellPhone_Test_TF_Naive'] = f1_score(Y_CP_gold, new_predict, average='micro')\n",
    "dfTabla.at['macro Precision', 'CellPhone_Test_TF_Naive'] = precision_score(Y_CP_gold, new_predict, average='macro')\n",
    "dfTabla.at['micro Precision', 'CellPhone_Test_TF_Naive'] = precision_score(Y_CP_gold, new_predict, average='micro')\n",
    "dfTabla.at['macro Recall', 'CellPhone_Test_TF_Naive'] = recall_score(Y_CP_gold, new_predict, average='macro')\n",
    "dfTabla.at['micro Recall', 'CellPhone_Test_TF_Naive'] = recall_score(Y_CP_gold, new_predict, average='micro')"
   ]
  },
  {
   "cell_type": "code",
   "execution_count": 16,
   "metadata": {
    "scrolled": false
   },
   "outputs": [
    {
     "data": {
      "image/png": "[encoded data removed]",
      "text/plain": [
       "<Figure size 576x576 with 2 Axes>"
      ]
     },
     "metadata": {
      "needs_background": "light"
     },
     "output_type": "display_data"
    }
   ],
   "source": [
    "from sklearn.metrics import confusion_matrix\n",
    "cm = confusion_matrix(Y_CP_gold, new_predict, labels=['information', 'negative', 'neutral', 'positive'])\n",
    "\n",
    "plot_CP_confusion_matrix(cm, \"Confusion Matrix (Conjunto de prueba TF con naïve)\")"
   ]
  },
  {
   "cell_type": "markdown",
   "metadata": {},
   "source": [
    "#### En las siguientes celdas entrenaremos el modelo usando $TF-IDF$"
   ]
  },
  {
   "cell_type": "code",
   "execution_count": 17,
   "metadata": {},
   "outputs": [],
   "source": [
    "tfidfvec = TfidfVectorizer(stop_words=stopwords.words('spanish'))  \n",
    "X_CP_vec = tfidfvec.fit_transform(X_CP)"
   ]
  },
  {
   "cell_type": "code",
   "execution_count": 18,
   "metadata": {},
   "outputs": [
    {
     "data": {
      "text/plain": [
       "MultinomialNB()"
      ]
     },
     "execution_count": 18,
     "metadata": {},
     "output_type": "execute_result"
    }
   ],
   "source": [
    "from sklearn.naive_bayes import MultinomialNB\n",
    "mnb_CP = MultinomialNB()\n",
    "mnb_CP.fit(X_CP_vec, Y_CP)"
   ]
  },
  {
   "cell_type": "markdown",
   "metadata": {},
   "source": [
    "Ahora evaluaremos el modelo"
   ]
  },
  {
   "cell_type": "code",
   "execution_count": 19,
   "metadata": {},
   "outputs": [],
   "source": [
    "X_CP_vec = tfidfvec.transform(X_CP)\n",
    "mnb_CP_predict = mnb_CP.predict(X_CP_vec)"
   ]
  },
  {
   "cell_type": "markdown",
   "metadata": {},
   "source": [
    "Aquí obtendremos las métricas de desempeño sobre el conjunto de entrenamiento"
   ]
  },
  {
   "cell_type": "code",
   "execution_count": 20,
   "metadata": {},
   "outputs": [
    {
     "name": "stdout",
     "output_type": "stream",
     "text": [
      "TRAIN - Accuracy MB = 0.7164452988465572\n",
      "TRAIN - F1 MB = 0.39397089613813274\n",
      "TRAIN - micro F1 MB = 0.7164452988465572\n",
      "TRAIN - Precision MB = 0.9152217613714762\n",
      "TRAIN - micro Precision MB = 0.7164452988465572\n",
      "TRAIN - Recall MB = 0.362435424695718\n",
      "TRAIN - micro Recall MB = 0.7164452988465572\n"
     ]
    }
   ],
   "source": [
    "from sklearn.metrics import accuracy_score, f1_score, precision_score, recall_score\n",
    "print(\"TRAIN - Accuracy MB =\", accuracy_score(Y_CP, mnb_CP_predict))\n",
    "\n",
    "print(\"TRAIN - F1 MB =\", f1_score(Y_CP, mnb_CP_predict, average='macro'))\n",
    "print(\"TRAIN - micro F1 MB =\", f1_score(Y_CP, mnb_CP_predict, average='micro'))\n",
    "\n",
    "print(\"TRAIN - Precision MB =\", precision_score(Y_CP, mnb_CP_predict, average='macro'))\n",
    "print(\"TRAIN - micro Precision MB =\", precision_score(Y_CP, mnb_CP_predict, average='micro'))\n",
    "\n",
    "print(\"TRAIN - Recall MB =\", recall_score(Y_CP, mnb_CP_predict, average='macro'))\n",
    "print(\"TRAIN - micro Recall MB =\", recall_score(Y_CP, mnb_CP_predict, average='micro'))\n",
    "\n",
    "dfTabla.at['Accuracy', 'CellPhone_Train_TFIDF_Naive'] = accuracy_score(Y_CP, mnb_CP_predict)\n",
    "dfTabla.at['macro F1', 'CellPhone_Train_TFIDF_Naive'] = f1_score(Y_CP, mnb_CP_predict, average='macro')\n",
    "dfTabla.at['micro F1', 'CellPhone_Train_TFIDF_Naive'] = f1_score(Y_CP, mnb_CP_predict, average='micro')\n",
    "dfTabla.at['macro Precision', 'CellPhone_Train_TFIDF_Naive'] = precision_score(Y_CP, mnb_CP_predict, average='macro')\n",
    "dfTabla.at['micro Precision', 'CellPhone_Train_TFIDF_Naive'] = precision_score(Y_CP, mnb_CP_predict, average='micro')\n",
    "dfTabla.at['macro Recall', 'CellPhone_Train_TFIDF_Naive'] = recall_score(Y_CP, mnb_CP_predict, average='macro')\n",
    "dfTabla.at['micro Recall', 'CellPhone_Train_TFIDF_Naive'] = recall_score(Y_CP, mnb_CP_predict, average='micro')"
   ]
  },
  {
   "cell_type": "markdown",
   "metadata": {},
   "source": [
    "Para mejor visualización, se anexa la gráfica de la matríz de confunsión."
   ]
  },
  {
   "cell_type": "code",
   "execution_count": 21,
   "metadata": {},
   "outputs": [
    {
     "data": {
      "image/png": "[encoded data removed]",
      "text/plain": [
       "<Figure size 576x576 with 2 Axes>"
      ]
     },
     "metadata": {
      "needs_background": "light"
     },
     "output_type": "display_data"
    }
   ],
   "source": [
    "from sklearn.metrics import confusion_matrix\n",
    "cm = confusion_matrix(Y_CP, mnb_CP_predict, labels=['information', 'negative', 'neutral', 'positive'])\n",
    "\n",
    "plot_CP_confusion_matrix(cm, \"Confusion Matrix (Conjunto de entrenamiento TF-IDF con naïve)\")"
   ]
  },
  {
   "cell_type": "markdown",
   "metadata": {},
   "source": [
    "Vamos a hacer las predicciones con el modelo entrenado y las gráficas de conteos"
   ]
  },
  {
   "cell_type": "code",
   "execution_count": 22,
   "metadata": {},
   "outputs": [],
   "source": [
    "X_new_vec = tfidfvec.transform(X_CP_gold)\n",
    "new_predict = mnb_CP.predict(X_new_vec)"
   ]
  },
  {
   "cell_type": "code",
   "execution_count": 23,
   "metadata": {},
   "outputs": [
    {
     "data": {
      "text/plain": [
       "klass\n",
       "information    4646\n",
       "negative          8\n",
       "neutral         178\n",
       "positive         73\n",
       "dtype: int64"
      ]
     },
     "execution_count": 23,
     "metadata": {},
     "output_type": "execute_result"
    }
   ],
   "source": [
    "X_pred = pd.DataFrame(list(zip(X_CP_gold, new_predict)), columns=['text', 'klass'])\n",
    "X_pred.groupby(['klass']).size()"
   ]
  },
  {
   "cell_type": "code",
   "execution_count": 24,
   "metadata": {},
   "outputs": [
    {
     "name": "stdout",
     "output_type": "stream",
     "text": [
      "TEST - Accuracy MB = 0.7078491335372069\n",
      "TEST - F1 MB = 0.3656019756027303\n",
      "TEST - micro F1 MB = 0.7078491335372069\n",
      "TEST - Precision MB = 0.916137235364963\n",
      "TEST - micro Precision MB = 0.7078491335372069\n",
      "TEST - Recall MB = 0.3446223637240693\n",
      "TEST - micro Recall MB = 0.7078491335372069\n"
     ]
    }
   ],
   "source": [
    "print(\"TEST - Accuracy MB =\", accuracy_score(Y_CP_gold, new_predict))\n",
    "\n",
    "print(\"TEST - F1 MB =\", f1_score(Y_CP_gold, new_predict, average='macro'))\n",
    "print(\"TEST - micro F1 MB =\", f1_score(Y_CP_gold, new_predict, average='micro'))\n",
    "\n",
    "print(\"TEST - Precision MB =\", precision_score(Y_CP_gold, new_predict, average='macro'))\n",
    "print(\"TEST - micro Precision MB =\", precision_score(Y_CP_gold, new_predict, average='micro'))\n",
    "\n",
    "print(\"TEST - Recall MB =\", recall_score(Y_CP_gold, new_predict, average='macro'))\n",
    "print(\"TEST - micro Recall MB =\", recall_score(Y_CP_gold, new_predict, average='micro'))\n",
    "\n",
    "dfTabla.at['Accuracy', 'CellPhone_Test_TFIDF_Naive'] = accuracy_score(Y_CP_gold, new_predict)\n",
    "dfTabla.at['macro F1', 'CellPhone_Test_TFIDF_Naive'] = f1_score(Y_CP_gold, new_predict, average='macro')\n",
    "dfTabla.at['micro F1', 'CellPhone_Test_TFIDF_Naive'] = f1_score(Y_CP_gold, new_predict, average='micro')\n",
    "dfTabla.at['macro Precision', 'CellPhone_Test_TFIDF_Naive'] = precision_score(Y_CP_gold, new_predict, average='macro')\n",
    "dfTabla.at['micro Precision', 'CellPhone_Test_TFIDF_Naive'] = precision_score(Y_CP_gold, new_predict, average='micro')\n",
    "dfTabla.at['macro Recall', 'CellPhone_Test_TFIDF_Naive'] = recall_score(Y_CP_gold, new_predict, average='macro')\n",
    "dfTabla.at['micro Recall', 'CellPhone_Test_TFIDF_Naive'] = recall_score(Y_CP_gold, new_predict, average='micro')"
   ]
  },
  {
   "cell_type": "code",
   "execution_count": 25,
   "metadata": {
    "scrolled": false
   },
   "outputs": [
    {
     "data": {
      "image/png": "[encoded data removed]",
      "text/plain": [
       "<Figure size 576x576 with 2 Axes>"
      ]
     },
     "metadata": {
      "needs_background": "light"
     },
     "output_type": "display_data"
    }
   ],
   "source": [
    "from sklearn.metrics import confusion_matrix\n",
    "cm = confusion_matrix(Y_CP_gold, new_predict, labels=['information', 'negative', 'neutral', 'positive'])\n",
    "\n",
    "plot_CP_confusion_matrix(cm, \"Confusion Matrix (Conjunto de prueba TF-IDF con naïve)\")"
   ]
  },
  {
   "cell_type": "markdown",
   "metadata": {},
   "source": [
    "### Entrenamiento de modelos - Modelos bayesianos para detección de agresividad"
   ]
  },
  {
   "cell_type": "markdown",
   "metadata": {},
   "source": [
    "#### En las siguientes celdas entrenaremos el modelo usando $TF$"
   ]
  },
  {
   "cell_type": "code",
   "execution_count": 26,
   "metadata": {},
   "outputs": [],
   "source": [
    "vectorizer = CountVectorizer(stop_words=stopwords.words('spanish'))  \n",
    "X_AD_vec = vectorizer.fit_transform(X_AD)"
   ]
  },
  {
   "cell_type": "code",
   "execution_count": 27,
   "metadata": {},
   "outputs": [
    {
     "data": {
      "text/plain": [
       "MultinomialNB()"
      ]
     },
     "execution_count": 27,
     "metadata": {},
     "output_type": "execute_result"
    }
   ],
   "source": [
    "from sklearn.naive_bayes import MultinomialNB\n",
    "mnb_AD = MultinomialNB()\n",
    "mnb_AD.fit(X_AD_vec, Y_AD)"
   ]
  },
  {
   "cell_type": "markdown",
   "metadata": {},
   "source": [
    "Ahora evaluaremos el modelo"
   ]
  },
  {
   "cell_type": "code",
   "execution_count": 28,
   "metadata": {},
   "outputs": [],
   "source": [
    "X_AD_vec = vectorizer.transform(X_AD)\n",
    "mnb_AD_predict = mnb_AD.predict(X_AD_vec)"
   ]
  },
  {
   "cell_type": "markdown",
   "metadata": {},
   "source": [
    "Aquí obtendremos las métricas de desempeño sobre el conjunto de entrenamiento"
   ]
  },
  {
   "cell_type": "code",
   "execution_count": 29,
   "metadata": {},
   "outputs": [
    {
     "name": "stdout",
     "output_type": "stream",
     "text": [
      "TRAIN - Accuracy MB = 0.9204988308651598\n",
      "TRAIN - F1 MB = 0.898387028207255\n",
      "TRAIN - micro F1 MB = 0.9204988308651598\n",
      "TRAIN - Precision MB = 0.9216353080747854\n",
      "TRAIN - micro Precision MB = 0.9204988308651598\n",
      "TRAIN - Recall MB = 0.8812478060771316\n",
      "TRAIN - micro Recall MB = 0.9204988308651598\n"
     ]
    }
   ],
   "source": [
    "from sklearn.metrics import accuracy_score, f1_score, precision_score, recall_score\n",
    "print(\"TRAIN - Accuracy MB =\", accuracy_score(Y_AD, mnb_AD_predict))\n",
    "\n",
    "print(\"TRAIN - F1 MB =\", f1_score(Y_AD, mnb_AD_predict, average='macro'))\n",
    "print(\"TRAIN - micro F1 MB =\", f1_score(Y_AD, mnb_AD_predict, average='micro'))\n",
    "\n",
    "print(\"TRAIN - Precision MB =\", precision_score(Y_AD, mnb_AD_predict, average='macro'))\n",
    "print(\"TRAIN - micro Precision MB =\", precision_score(Y_AD, mnb_AD_predict, average='micro'))\n",
    "\n",
    "print(\"TRAIN - Recall MB =\", recall_score(Y_AD, mnb_AD_predict, average='macro'))\n",
    "print(\"TRAIN - micro Recall MB =\", recall_score(Y_AD, mnb_AD_predict, average='micro'))\n",
    "\n",
    "dfTabla.at['Accuracy', 'Aggressiveness_Train_TF_Naive'] = accuracy_score(Y_AD, mnb_AD_predict)\n",
    "dfTabla.at['macro F1', 'Aggressiveness_Train_TF_Naive'] = f1_score(Y_AD, mnb_AD_predict, average='macro')\n",
    "dfTabla.at['micro F1', 'Aggressiveness_Train_TF_Naive'] = f1_score(Y_AD, mnb_AD_predict, average='micro')\n",
    "dfTabla.at['macro Precision', 'Aggressiveness_Train_TF_Naive'] = precision_score(Y_AD, mnb_AD_predict, average='macro')\n",
    "dfTabla.at['micro Precision', 'Aggressiveness_Train_TF_Naive'] = precision_score(Y_AD, mnb_AD_predict, average='micro')\n",
    "dfTabla.at['macro Recall', 'Aggressiveness_Train_TF_Naive'] = recall_score(Y_AD, mnb_AD_predict, average='macro')\n",
    "dfTabla.at['micro Recall', 'Aggressiveness_Train_TF_Naive'] = recall_score(Y_AD, mnb_AD_predict, average='micro')"
   ]
  },
  {
   "cell_type": "markdown",
   "metadata": {},
   "source": [
    "Para mejor visualización, se anexa la gráfica de la matríz de confunsión."
   ]
  },
  {
   "cell_type": "code",
   "execution_count": 30,
   "metadata": {},
   "outputs": [
    {
     "data": {
      "image/png": "[encoded data removed]",
      "text/plain": [
       "<Figure size 576x576 with 2 Axes>"
      ]
     },
     "metadata": {
      "needs_background": "light"
     },
     "output_type": "display_data"
    }
   ],
   "source": [
    "from sklearn.metrics import confusion_matrix\n",
    "cm = confusion_matrix(Y_AD, mnb_AD_predict, labels=[0, 1])\n",
    "\n",
    "plot_AD_confusion_matrix(cm, \"Confusion Matrix (Conjunto de entrenamiento TF con naïve)\")"
   ]
  },
  {
   "cell_type": "markdown",
   "metadata": {},
   "source": [
    "Vamos a hacer las predicciones con el modelo entrenado y las gráficas de conteos"
   ]
  },
  {
   "cell_type": "code",
   "execution_count": 31,
   "metadata": {},
   "outputs": [],
   "source": [
    "X_new_vec = vectorizer.transform(X_AD_gold)\n",
    "new_predict = mnb_AD.predict(X_new_vec)"
   ]
  },
  {
   "cell_type": "code",
   "execution_count": 32,
   "metadata": {},
   "outputs": [
    {
     "data": {
      "text/plain": [
       "klass\n",
       "0    1753\n",
       "1     443\n",
       "dtype: int64"
      ]
     },
     "execution_count": 32,
     "metadata": {},
     "output_type": "execute_result"
    }
   ],
   "source": [
    "X_pred = pd.DataFrame(list(zip(X_AD_gold, new_predict)), columns=['text', 'klass'])\n",
    "X_pred.groupby(['klass']).size()"
   ]
  },
  {
   "cell_type": "code",
   "execution_count": 33,
   "metadata": {},
   "outputs": [
    {
     "name": "stdout",
     "output_type": "stream",
     "text": [
      "TEST - Accuracy MB = 0.8169398907103825\n",
      "TEST - F1 MB = 0.7522705001666886\n",
      "TEST - micro F1 MB = 0.8169398907103824\n",
      "TEST - Precision MB = 0.7950910338806483\n",
      "TEST - micro Precision MB = 0.8169398907103825\n",
      "TEST - Recall MB = 0.7320587535379209\n",
      "TEST - micro Recall MB = 0.8169398907103825\n"
     ]
    }
   ],
   "source": [
    "print(\"TEST - Accuracy MB =\", accuracy_score(Y_AD_gold, new_predict))\n",
    "\n",
    "print(\"TEST - F1 MB =\", f1_score(Y_AD_gold, new_predict, average='macro'))\n",
    "print(\"TEST - micro F1 MB =\", f1_score(Y_AD_gold, new_predict, average='micro'))\n",
    "\n",
    "print(\"TEST - Precision MB =\", precision_score(Y_AD_gold, new_predict, average='macro'))\n",
    "print(\"TEST - micro Precision MB =\", precision_score(Y_AD_gold, new_predict, average='micro'))\n",
    "\n",
    "print(\"TEST - Recall MB =\", recall_score(Y_AD_gold, new_predict, average='macro'))\n",
    "print(\"TEST - micro Recall MB =\", recall_score(Y_AD_gold, new_predict, average='micro'))\n",
    "\n",
    "dfTabla.at['Accuracy', 'Aggressiveness_Test_TF_Naive'] = accuracy_score(Y_AD_gold, new_predict)\n",
    "dfTabla.at['macro F1', 'Aggressiveness_Test_TF_Naive'] = f1_score(Y_AD_gold, new_predict, average='macro')\n",
    "dfTabla.at['micro F1', 'Aggressiveness_Test_TF_Naive'] = f1_score(Y_AD_gold, new_predict, average='micro')\n",
    "dfTabla.at['macro Precision', 'Aggressiveness_Test_TF_Naive'] = precision_score(Y_AD_gold, new_predict, average='macro')\n",
    "dfTabla.at['micro Precision', 'Aggressiveness_Test_TF_Naive'] = precision_score(Y_AD_gold, new_predict, average='micro')\n",
    "dfTabla.at['macro Recall', 'Aggressiveness_Test_TF_Naive'] = recall_score(Y_AD_gold, new_predict, average='macro')\n",
    "dfTabla.at['micro Recall', 'Aggressiveness_Test_TF_Naive'] = recall_score(Y_AD_gold, new_predict, average='micro')"
   ]
  },
  {
   "cell_type": "code",
   "execution_count": 34,
   "metadata": {
    "scrolled": false
   },
   "outputs": [
    {
     "data": {
      "image/png": "[encoded data removed]",
      "text/plain": [
       "<Figure size 576x576 with 2 Axes>"
      ]
     },
     "metadata": {
      "needs_background": "light"
     },
     "output_type": "display_data"
    }
   ],
   "source": [
    "from sklearn.metrics import confusion_matrix\n",
    "cm = confusion_matrix(Y_AD_gold, new_predict, labels=[0, 1])\n",
    "\n",
    "plot_AD_confusion_matrix(cm, \"Confusion Matrix (Conjunto de prueba TF con naïve)\")"
   ]
  },
  {
   "cell_type": "markdown",
   "metadata": {},
   "source": [
    "#### En las siguientes celdas entrenaremos el modelo usando $TF-IDF$"
   ]
  },
  {
   "cell_type": "code",
   "execution_count": 35,
   "metadata": {},
   "outputs": [],
   "source": [
    "tfidfvec = TfidfVectorizer(stop_words=stopwords.words('spanish'))  \n",
    "X_AD_vec = tfidfvec.fit_transform(X_AD)"
   ]
  },
  {
   "cell_type": "code",
   "execution_count": 36,
   "metadata": {},
   "outputs": [
    {
     "data": {
      "text/plain": [
       "MultinomialNB()"
      ]
     },
     "execution_count": 36,
     "metadata": {},
     "output_type": "execute_result"
    }
   ],
   "source": [
    "from sklearn.naive_bayes import MultinomialNB\n",
    "mnb_AD = MultinomialNB()\n",
    "mnb_AD.fit(X_AD_vec, Y_AD)"
   ]
  },
  {
   "cell_type": "markdown",
   "metadata": {},
   "source": [
    "Ahora evaluaremos el modelo"
   ]
  },
  {
   "cell_type": "code",
   "execution_count": 37,
   "metadata": {},
   "outputs": [],
   "source": [
    "X_AD_vec = tfidfvec.transform(X_AD)\n",
    "mnb_AD_predict = mnb_AD.predict(X_AD_vec)"
   ]
  },
  {
   "cell_type": "markdown",
   "metadata": {},
   "source": [
    "Aquí obtendremos las métricas de desempeño sobre el conjunto de entrenamiento"
   ]
  },
  {
   "cell_type": "code",
   "execution_count": 38,
   "metadata": {},
   "outputs": [
    {
     "name": "stdout",
     "output_type": "stream",
     "text": [
      "TRAIN - Accuracy MB = 0.8176149649259548\n",
      "TRAIN - F1 MB = 0.712833727416726\n",
      "TRAIN - micro F1 MB = 0.8176149649259548\n",
      "TRAIN - Precision MB = 0.8922080043775478\n",
      "TRAIN - micro Precision MB = 0.8176149649259548\n",
      "TRAIN - Recall MB = 0.6845535789539006\n",
      "TRAIN - micro Recall MB = 0.8176149649259548\n"
     ]
    }
   ],
   "source": [
    "from sklearn.metrics import accuracy_score, f1_score, precision_score, recall_score\n",
    "print(\"TRAIN - Accuracy MB =\", accuracy_score(Y_AD, mnb_AD_predict))\n",
    "\n",
    "print(\"TRAIN - F1 MB =\", f1_score(Y_AD, mnb_AD_predict, average='macro'))\n",
    "print(\"TRAIN - micro F1 MB =\", f1_score(Y_AD, mnb_AD_predict, average='micro'))\n",
    "\n",
    "print(\"TRAIN - Precision MB =\", precision_score(Y_AD, mnb_AD_predict, average='macro'))\n",
    "print(\"TRAIN - micro Precision MB =\", precision_score(Y_AD, mnb_AD_predict, average='micro'))\n",
    "\n",
    "print(\"TRAIN - Recall MB =\", recall_score(Y_AD, mnb_AD_predict, average='macro'))\n",
    "print(\"TRAIN - micro Recall MB =\", recall_score(Y_AD, mnb_AD_predict, average='micro'))\n",
    "\n",
    "dfTabla.at['Accuracy', 'Aggressiveness_Train_TFIDF_Naive'] = accuracy_score(Y_AD, mnb_AD_predict)\n",
    "dfTabla.at['macro F1', 'Aggressiveness_Train_TFIDF_Naive'] = f1_score(Y_AD, mnb_AD_predict, average='macro')\n",
    "dfTabla.at['micro F1', 'Aggressiveness_Train_TFIDF_Naive'] = f1_score(Y_AD, mnb_AD_predict, average='micro')\n",
    "dfTabla.at['macro Precision', 'Aggressiveness_Train_TFIDF_Naive'] = precision_score(Y_AD, mnb_AD_predict, average='macro')\n",
    "dfTabla.at['micro Precision', 'Aggressiveness_Train_TFIDF_Naive'] = precision_score(Y_AD, mnb_AD_predict, average='micro')\n",
    "dfTabla.at['macro Recall', 'Aggressiveness_Train_TFIDF_Naive'] = recall_score(Y_AD, mnb_AD_predict, average='macro')\n",
    "dfTabla.at['micro Recall', 'Aggressiveness_Train_TFIDF_Naive'] = recall_score(Y_AD, mnb_AD_predict, average='micro')"
   ]
  },
  {
   "cell_type": "markdown",
   "metadata": {},
   "source": [
    "Para mejor visualización, se anexa la gráfica de la matríz de confunsión."
   ]
  },
  {
   "cell_type": "code",
   "execution_count": 39,
   "metadata": {},
   "outputs": [
    {
     "data": {
      "image/png": "[encoded data removed]",
      "text/plain": [
       "<Figure size 576x576 with 2 Axes>"
      ]
     },
     "metadata": {
      "needs_background": "light"
     },
     "output_type": "display_data"
    }
   ],
   "source": [
    "from sklearn.metrics import confusion_matrix\n",
    "cm = confusion_matrix(Y_AD, mnb_AD_predict, labels=[0, 1])\n",
    "\n",
    "plot_AD_confusion_matrix(cm, \"Confusion Matrix (Conjunto de entrenamiento TF-IDF con naïve)\")"
   ]
  },
  {
   "cell_type": "markdown",
   "metadata": {},
   "source": [
    "Vamos a hacer las predicciones con el modelo entrenado y las gráficas de conteos"
   ]
  },
  {
   "cell_type": "code",
   "execution_count": 40,
   "metadata": {},
   "outputs": [],
   "source": [
    "X_new_vec = tfidfvec.transform(X_AD_gold)\n",
    "new_predict = mnb_AD.predict(X_new_vec)"
   ]
  },
  {
   "cell_type": "code",
   "execution_count": 41,
   "metadata": {},
   "outputs": [
    {
     "data": {
      "text/plain": [
       "klass\n",
       "0    2102\n",
       "1      94\n",
       "dtype: int64"
      ]
     },
     "execution_count": 41,
     "metadata": {},
     "output_type": "execute_result"
    }
   ],
   "source": [
    "X_pred = pd.DataFrame(list(zip(X_AD_gold, new_predict)), columns=['text', 'klass'])\n",
    "X_pred.groupby(['klass']).size()"
   ]
  },
  {
   "cell_type": "code",
   "execution_count": 42,
   "metadata": {},
   "outputs": [
    {
     "name": "stdout",
     "output_type": "stream",
     "text": [
      "TEST - Accuracy MB = 0.7481785063752276\n",
      "TEST - F1 MB = 0.5432184534948233\n",
      "TEST - micro F1 MB = 0.7481785063752278\n",
      "TEST - Precision MB = 0.8278083689292872\n",
      "TEST - micro Precision MB = 0.7481785063752276\n",
      "TEST - Recall MB = 0.5655898897738263\n",
      "TEST - micro Recall MB = 0.7481785063752276\n"
     ]
    }
   ],
   "source": [
    "print(\"TEST - Accuracy MB =\", accuracy_score(Y_AD_gold, new_predict))\n",
    "\n",
    "print(\"TEST - F1 MB =\", f1_score(Y_AD_gold, new_predict, average='macro'))\n",
    "print(\"TEST - micro F1 MB =\", f1_score(Y_AD_gold, new_predict, average='micro'))\n",
    "\n",
    "print(\"TEST - Precision MB =\", precision_score(Y_AD_gold, new_predict, average='macro'))\n",
    "print(\"TEST - micro Precision MB =\", precision_score(Y_AD_gold, new_predict, average='micro'))\n",
    "\n",
    "print(\"TEST - Recall MB =\", recall_score(Y_AD_gold, new_predict, average='macro'))\n",
    "print(\"TEST - micro Recall MB =\", recall_score(Y_AD_gold, new_predict, average='micro'))\n",
    "\n",
    "dfTabla.at['Accuracy', 'Aggressiveness_Test_TFIDF_Naive'] = accuracy_score(Y_AD_gold, new_predict)\n",
    "dfTabla.at['macro F1', 'Aggressiveness_Test_TFIDF_Naive'] = f1_score(Y_AD_gold, new_predict, average='macro')\n",
    "dfTabla.at['micro F1', 'Aggressiveness_Test_TFIDF_Naive'] = f1_score(Y_AD_gold, new_predict, average='micro')\n",
    "dfTabla.at['macro Precision', 'Aggressiveness_Test_TFIDF_Naive'] = precision_score(Y_AD_gold, new_predict, average='macro')\n",
    "dfTabla.at['micro Precision', 'Aggressiveness_Test_TFIDF_Naive'] = precision_score(Y_AD_gold, new_predict, average='micro')\n",
    "dfTabla.at['macro Recall', 'Aggressiveness_Test_TFIDF_Naive'] = recall_score(Y_AD_gold, new_predict, average='macro')\n",
    "dfTabla.at['micro Recall', 'Aggressiveness_Test_TFIDF_Naive'] = recall_score(Y_AD_gold, new_predict, average='micro')"
   ]
  },
  {
   "cell_type": "code",
   "execution_count": 43,
   "metadata": {},
   "outputs": [
    {
     "data": {
      "image/png": "[encoded data removed]",
      "text/plain": [
       "<Figure size 576x576 with 2 Axes>"
      ]
     },
     "metadata": {
      "needs_background": "light"
     },
     "output_type": "display_data"
    }
   ],
   "source": [
    "from sklearn.metrics import confusion_matrix\n",
    "cm = confusion_matrix(Y_AD_gold, new_predict, labels=[0, 1])\n",
    "\n",
    "plot_AD_confusion_matrix(cm, \"Confusion Matrix (Conjunto de prueba TF-IDF con naïve)\")"
   ]
  },
  {
   "cell_type": "markdown",
   "metadata": {},
   "source": [
    "### Entrenamiento de modelos - Modelos SVM para datos de celulares"
   ]
  },
  {
   "cell_type": "markdown",
   "metadata": {},
   "source": [
    "#### En las siguientes celdas entrenaremos el modelo usando $TF$"
   ]
  },
  {
   "cell_type": "code",
   "execution_count": 44,
   "metadata": {},
   "outputs": [],
   "source": [
    "vectorizer = CountVectorizer(stop_words=stopwords.words('spanish'))  \n",
    "X_CP_vec = vectorizer.fit_transform(X_CP)"
   ]
  },
  {
   "cell_type": "code",
   "execution_count": 45,
   "metadata": {},
   "outputs": [
    {
     "data": {
      "text/plain": [
       "LinearSVC(max_iter=3000, random_state=0)"
      ]
     },
     "execution_count": 45,
     "metadata": {},
     "output_type": "execute_result"
    }
   ],
   "source": [
    "from sklearn.svm import LinearSVC\n",
    "svc_CP = LinearSVC(random_state=0, max_iter=3000)\n",
    "svc_CP.fit(X_CP_vec, Y_CP)"
   ]
  },
  {
   "cell_type": "markdown",
   "metadata": {},
   "source": [
    "Ahora evaluaremos el modelo"
   ]
  },
  {
   "cell_type": "code",
   "execution_count": 46,
   "metadata": {},
   "outputs": [],
   "source": [
    "X_CP_vec = vectorizer.transform(X_CP)\n",
    "svc_CP_predict = svc_CP.predict(X_CP_vec)"
   ]
  },
  {
   "cell_type": "markdown",
   "metadata": {},
   "source": [
    "Aquí obtendremos las métricas de desempeño sobre el conjunto de entrenamiento"
   ]
  },
  {
   "cell_type": "code",
   "execution_count": 47,
   "metadata": {},
   "outputs": [
    {
     "name": "stdout",
     "output_type": "stream",
     "text": [
      "TRAIN - Accuracy SVM = 0.9848829080741\n",
      "TRAIN - F1 SVM = 0.9770146207807215\n",
      "TRAIN - micro F1 SVM = 0.9848829080741\n",
      "TRAIN - Precision SVM = 0.9801063462118231\n",
      "TRAIN - micro Precision SVM = 0.9848829080741\n",
      "TRAIN - Recall SVM = 0.9739950087027499\n",
      "TRAIN - micro Recall SVM = 0.9848829080741\n"
     ]
    }
   ],
   "source": [
    "from sklearn.metrics import accuracy_score, f1_score, precision_score, recall_score\n",
    "print(\"TRAIN - Accuracy SVM =\", accuracy_score(Y_CP, svc_CP_predict))\n",
    "\n",
    "print(\"TRAIN - F1 SVM =\", f1_score(Y_CP, svc_CP_predict, average='macro'))\n",
    "print(\"TRAIN - micro F1 SVM =\", f1_score(Y_CP, svc_CP_predict, average='micro'))\n",
    "\n",
    "print(\"TRAIN - Precision SVM =\", precision_score(Y_CP, svc_CP_predict, average='macro'))\n",
    "print(\"TRAIN - micro Precision SVM =\", precision_score(Y_CP, svc_CP_predict, average='micro'))\n",
    "\n",
    "print(\"TRAIN - Recall SVM =\", recall_score(Y_CP, svc_CP_predict, average='macro'))\n",
    "print(\"TRAIN - micro Recall SVM =\", recall_score(Y_CP, svc_CP_predict, average='micro'))\n",
    "\n",
    "dfTabla.at['Accuracy', 'CellPhone_Train_TF_SVM'] = accuracy_score(Y_CP, svc_CP_predict)\n",
    "dfTabla.at['macro F1', 'CellPhone_Train_TF_SVM'] = f1_score(Y_CP, svc_CP_predict, average='macro')\n",
    "dfTabla.at['micro F1', 'CellPhone_Train_TF_SVM'] = f1_score(Y_CP, svc_CP_predict, average='micro')\n",
    "dfTabla.at['macro Precision', 'CellPhone_Train_TF_SVM'] = precision_score(Y_CP, svc_CP_predict, average='macro')\n",
    "dfTabla.at['micro Precision', 'CellPhone_Train_TF_SVM'] = precision_score(Y_CP, svc_CP_predict, average='micro')\n",
    "dfTabla.at['macro Recall', 'CellPhone_Train_TF_SVM'] = recall_score(Y_CP, svc_CP_predict, average='macro')\n",
    "dfTabla.at['micro Recall', 'CellPhone_Train_TF_SVM'] = recall_score(Y_CP, svc_CP_predict, average='micro')"
   ]
  },
  {
   "cell_type": "markdown",
   "metadata": {},
   "source": [
    "Para mejor visualización, se anexa la gráfica de la matríz de confunsión."
   ]
  },
  {
   "cell_type": "code",
   "execution_count": 48,
   "metadata": {},
   "outputs": [
    {
     "data": {
      "image/png": "[encoded data removed]",
      "text/plain": [
       "<Figure size 576x576 with 2 Axes>"
      ]
     },
     "metadata": {
      "needs_background": "light"
     },
     "output_type": "display_data"
    }
   ],
   "source": [
    "from sklearn.metrics import confusion_matrix\n",
    "cm = confusion_matrix(Y_CP, svc_CP_predict, labels=['information', 'negative', 'neutral', 'positive'])\n",
    "\n",
    "plot_CP_confusion_matrix(cm, \"Confusion Matrix (Conjunto de entrenamiento TF con SVM)\")"
   ]
  },
  {
   "cell_type": "markdown",
   "metadata": {},
   "source": [
    "Vamos a hacer las predicciones con el modelo entrenado y las gráficas de conteos"
   ]
  },
  {
   "cell_type": "code",
   "execution_count": 49,
   "metadata": {},
   "outputs": [],
   "source": [
    "X_new_vec = vectorizer.transform(X_CP_gold)\n",
    "new_predict = svc_CP.predict(X_new_vec)"
   ]
  },
  {
   "cell_type": "code",
   "execution_count": 50,
   "metadata": {},
   "outputs": [
    {
     "data": {
      "text/plain": [
       "klass\n",
       "information    3324\n",
       "negative        333\n",
       "neutral         745\n",
       "positive        503\n",
       "dtype: int64"
      ]
     },
     "execution_count": 50,
     "metadata": {},
     "output_type": "execute_result"
    }
   ],
   "source": [
    "X_pred = pd.DataFrame(list(zip(X_CP_gold, new_predict)), columns=['text', 'klass'])\n",
    "X_pred.groupby(['klass']).size()"
   ]
  },
  {
   "cell_type": "code",
   "execution_count": 51,
   "metadata": {},
   "outputs": [
    {
     "name": "stdout",
     "output_type": "stream",
     "text": [
      "TEST - Accuracy SVM = 0.7296636085626911\n",
      "TEST - F1 SVM = 0.57713021055116\n",
      "TEST - micro F1 SVM = 0.7296636085626911\n",
      "TEST - Precision SVM = 0.5859744270834468\n",
      "TEST - micro Precision SVM = 0.7296636085626911\n",
      "TEST - Recall SVM = 0.569268520713262\n",
      "TEST - micro Recall SVM = 0.7296636085626911\n"
     ]
    }
   ],
   "source": [
    "print(\"TEST - Accuracy SVM =\", accuracy_score(Y_CP_gold, new_predict))\n",
    "\n",
    "print(\"TEST - F1 SVM =\", f1_score(Y_CP_gold, new_predict, average='macro'))\n",
    "print(\"TEST - micro F1 SVM =\", f1_score(Y_CP_gold, new_predict, average='micro'))\n",
    "\n",
    "print(\"TEST - Precision SVM =\", precision_score(Y_CP_gold, new_predict, average='macro'))\n",
    "print(\"TEST - micro Precision SVM =\", precision_score(Y_CP_gold, new_predict, average='micro'))\n",
    "\n",
    "print(\"TEST - Recall SVM =\", recall_score(Y_CP_gold, new_predict, average='macro'))\n",
    "print(\"TEST - micro Recall SVM =\", recall_score(Y_CP_gold, new_predict, average='micro'))\n",
    "\n",
    "dfTabla.at['Accuracy', 'CellPhone_Test_TF_SVM'] = accuracy_score(Y_CP_gold, new_predict)\n",
    "dfTabla.at['macro F1', 'CellPhone_Test_TF_SVM'] = f1_score(Y_CP_gold, new_predict, average='macro')\n",
    "dfTabla.at['micro F1', 'CellPhone_Test_TF_SVM'] = f1_score(Y_CP_gold, new_predict, average='micro')\n",
    "dfTabla.at['macro Precision', 'CellPhone_Test_TF_SVM'] = precision_score(Y_CP_gold, new_predict, average='macro')\n",
    "dfTabla.at['micro Precision', 'CellPhone_Test_TF_SVM'] = precision_score(Y_CP_gold, new_predict, average='micro')\n",
    "dfTabla.at['macro Recall', 'CellPhone_Test_TF_SVM'] = recall_score(Y_CP_gold, new_predict, average='macro')\n",
    "dfTabla.at['micro Recall', 'CellPhone_Test_TF_SVM'] = recall_score(Y_CP_gold, new_predict, average='micro')"
   ]
  },
  {
   "cell_type": "code",
   "execution_count": 52,
   "metadata": {
    "scrolled": false
   },
   "outputs": [
    {
     "data": {
      "image/png": "[encoded data removed]",
      "text/plain": [
       "<Figure size 576x576 with 2 Axes>"
      ]
     },
     "metadata": {
      "needs_background": "light"
     },
     "output_type": "display_data"
    }
   ],
   "source": [
    "from sklearn.metrics import confusion_matrix\n",
    "cm = confusion_matrix(Y_CP_gold, new_predict, labels=['information', 'negative', 'neutral', 'positive'])\n",
    "\n",
    "plot_CP_confusion_matrix(cm, \"Confusion Matrix (Conjunto de prueba TF con SVM)\")"
   ]
  },
  {
   "cell_type": "markdown",
   "metadata": {},
   "source": [
    "#### En las siguientes celdas entrenaremos el modelo usando $TF-IDF$"
   ]
  },
  {
   "cell_type": "code",
   "execution_count": 53,
   "metadata": {},
   "outputs": [],
   "source": [
    "tfidfvec = TfidfVectorizer(stop_words=stopwords.words('spanish'))  \n",
    "X_CP_vec = tfidfvec.fit_transform(X_CP)"
   ]
  },
  {
   "cell_type": "code",
   "execution_count": 54,
   "metadata": {},
   "outputs": [
    {
     "data": {
      "text/plain": [
       "LinearSVC(max_iter=3000, random_state=0)"
      ]
     },
     "execution_count": 54,
     "metadata": {},
     "output_type": "execute_result"
    }
   ],
   "source": [
    "from sklearn.svm import LinearSVC\n",
    "svc_CP = LinearSVC(random_state=0, max_iter=3000)\n",
    "svc_CP.fit(X_CP_vec, Y_CP)"
   ]
  },
  {
   "cell_type": "markdown",
   "metadata": {},
   "source": [
    "Ahora evaluaremos el modelo"
   ]
  },
  {
   "cell_type": "code",
   "execution_count": 55,
   "metadata": {},
   "outputs": [],
   "source": [
    "X_CP_vec = tfidfvec.transform(X_CP)\n",
    "svc_CP_predict = svc_CP.predict(X_CP_vec)"
   ]
  },
  {
   "cell_type": "markdown",
   "metadata": {},
   "source": [
    "Aquí obtendremos las métricas de desempeño sobre el conjunto de entrenamiento"
   ]
  },
  {
   "cell_type": "code",
   "execution_count": 56,
   "metadata": {},
   "outputs": [
    {
     "name": "stdout",
     "output_type": "stream",
     "text": [
      "TRAIN - Accuracy SVM = 0.9667948269835722\n",
      "TRAIN - F1 SVM = 0.9518826035684025\n",
      "TRAIN - micro F1 SVM = 0.9667948269835722\n",
      "TRAIN - Precision SVM = 0.9640134379897001\n",
      "TRAIN - micro Precision SVM = 0.9667948269835722\n",
      "TRAIN - Recall SVM = 0.9404160902585215\n",
      "TRAIN - micro Recall SVM = 0.9667948269835722\n"
     ]
    }
   ],
   "source": [
    "from sklearn.metrics import accuracy_score, f1_score, precision_score, recall_score\n",
    "print(\"TRAIN - Accuracy SVM =\", accuracy_score(Y_CP, svc_CP_predict))\n",
    "\n",
    "print(\"TRAIN - F1 SVM =\", f1_score(Y_CP, svc_CP_predict, average='macro'))\n",
    "print(\"TRAIN - micro F1 SVM =\", f1_score(Y_CP, svc_CP_predict, average='micro'))\n",
    "\n",
    "print(\"TRAIN - Precision SVM =\", precision_score(Y_CP, svc_CP_predict, average='macro'))\n",
    "print(\"TRAIN - micro Precision SVM =\", precision_score(Y_CP, svc_CP_predict, average='micro'))\n",
    "\n",
    "print(\"TRAIN - Recall SVM =\", recall_score(Y_CP, svc_CP_predict, average='macro'))\n",
    "print(\"TRAIN - micro Recall SVM =\", recall_score(Y_CP, svc_CP_predict, average='micro'))\n",
    "\n",
    "dfTabla.at['Accuracy', 'CellPhone_Train_TFIDF_SVM'] = accuracy_score(Y_CP, svc_CP_predict)\n",
    "dfTabla.at['macro F1', 'CellPhone_Train_TFIDF_SVM'] = f1_score(Y_CP, svc_CP_predict, average='macro')\n",
    "dfTabla.at['micro F1', 'CellPhone_Train_TFIDF_SVM'] = f1_score(Y_CP, svc_CP_predict, average='micro')\n",
    "dfTabla.at['macro Precision', 'CellPhone_Train_TFIDF_SVM'] = precision_score(Y_CP, svc_CP_predict, average='macro')\n",
    "dfTabla.at['micro Precision', 'CellPhone_Train_TFIDF_SVM'] = precision_score(Y_CP, svc_CP_predict, average='micro')\n",
    "dfTabla.at['macro Recall', 'CellPhone_Train_TFIDF_SVM'] = recall_score(Y_CP, svc_CP_predict, average='macro')\n",
    "dfTabla.at['micro Recall', 'CellPhone_Train_TFIDF_SVM'] = recall_score(Y_CP, svc_CP_predict, average='micro')"
   ]
  },
  {
   "cell_type": "markdown",
   "metadata": {},
   "source": [
    "Para mejor visualización, se anexa la gráfica de la matríz de confunsión."
   ]
  },
  {
   "cell_type": "code",
   "execution_count": 57,
   "metadata": {},
   "outputs": [
    {
     "data": {
      "image/png": "[encoded data removed]",
      "text/plain": [
       "<Figure size 576x576 with 2 Axes>"
      ]
     },
     "metadata": {
      "needs_background": "light"
     },
     "output_type": "display_data"
    }
   ],
   "source": [
    "from sklearn.metrics import confusion_matrix\n",
    "cm = confusion_matrix(Y_CP, svc_CP_predict, labels=['information', 'negative', 'neutral', 'positive'])\n",
    "\n",
    "plot_CP_confusion_matrix(cm, \"Confusion Matrix (Conjunto de entrenamiento TF-IDF con SVM)\")"
   ]
  },
  {
   "cell_type": "markdown",
   "metadata": {},
   "source": [
    "Vamos a hacer las predicciones con el modelo entrenado y las gráficas de conteos"
   ]
  },
  {
   "cell_type": "code",
   "execution_count": 58,
   "metadata": {},
   "outputs": [],
   "source": [
    "X_new_vec = tfidfvec.transform(X_CP_gold)\n",
    "new_predict = svc_CP.predict(X_new_vec)"
   ]
  },
  {
   "cell_type": "code",
   "execution_count": 59,
   "metadata": {},
   "outputs": [
    {
     "data": {
      "text/plain": [
       "klass\n",
       "information    3505\n",
       "negative        286\n",
       "neutral         691\n",
       "positive        423\n",
       "dtype: int64"
      ]
     },
     "execution_count": 59,
     "metadata": {},
     "output_type": "execute_result"
    }
   ],
   "source": [
    "X_pred = pd.DataFrame(list(zip(X_CP_gold, new_predict)), columns=['text', 'klass'])\n",
    "X_pred.groupby(['klass']).size()"
   ]
  },
  {
   "cell_type": "code",
   "execution_count": 60,
   "metadata": {},
   "outputs": [
    {
     "name": "stdout",
     "output_type": "stream",
     "text": [
      "TEST - Accuracy SVM = 0.7463812436289501\n",
      "TEST - F1 SVM = 0.586034129378919\n",
      "TEST - micro F1 SVM = 0.7463812436289501\n",
      "TEST - Precision SVM = 0.6179248104196231\n",
      "TEST - micro Precision SVM = 0.7463812436289501\n",
      "TEST - Recall SVM = 0.5624595927910299\n",
      "TEST - micro Recall SVM = 0.7463812436289501\n"
     ]
    }
   ],
   "source": [
    "print(\"TEST - Accuracy SVM =\", accuracy_score(Y_CP_gold, new_predict))\n",
    "\n",
    "print(\"TEST - F1 SVM =\", f1_score(Y_CP_gold, new_predict, average='macro'))\n",
    "print(\"TEST - micro F1 SVM =\", f1_score(Y_CP_gold, new_predict, average='micro'))\n",
    "\n",
    "print(\"TEST - Precision SVM =\", precision_score(Y_CP_gold, new_predict, average='macro'))\n",
    "print(\"TEST - micro Precision SVM =\", precision_score(Y_CP_gold, new_predict, average='micro'))\n",
    "\n",
    "print(\"TEST - Recall SVM =\", recall_score(Y_CP_gold, new_predict, average='macro'))\n",
    "print(\"TEST - micro Recall SVM =\", recall_score(Y_CP_gold, new_predict, average='micro'))\n",
    "\n",
    "dfTabla.at['Accuracy', 'CellPhone_Test_TFIDF_SVM'] = accuracy_score(Y_CP_gold, new_predict)\n",
    "dfTabla.at['macro F1', 'CellPhone_Test_TFIDF_SVM'] = f1_score(Y_CP_gold, new_predict, average='macro')\n",
    "dfTabla.at['micro F1', 'CellPhone_Test_TFIDF_SVM'] = f1_score(Y_CP_gold, new_predict, average='micro')\n",
    "dfTabla.at['macro Precision', 'CellPhone_Test_TFIDF_SVM'] = precision_score(Y_CP_gold, new_predict, average='macro')\n",
    "dfTabla.at['micro Precision', 'CellPhone_Test_TFIDF_SVM'] = precision_score(Y_CP_gold, new_predict, average='micro')\n",
    "dfTabla.at['macro Recall', 'CellPhone_Test_TFIDF_SVM'] = recall_score(Y_CP_gold, new_predict, average='macro')\n",
    "dfTabla.at['micro Recall', 'CellPhone_Test_TFIDF_SVM'] = recall_score(Y_CP_gold, new_predict, average='micro')"
   ]
  },
  {
   "cell_type": "code",
   "execution_count": 61,
   "metadata": {
    "scrolled": false
   },
   "outputs": [
    {
     "data": {
      "image/png": "[encoded data removed]",
      "text/plain": [
       "<Figure size 576x576 with 2 Axes>"
      ]
     },
     "metadata": {
      "needs_background": "light"
     },
     "output_type": "display_data"
    }
   ],
   "source": [
    "from sklearn.metrics import confusion_matrix\n",
    "cm = confusion_matrix(Y_CP_gold, new_predict, labels=['information', 'negative', 'neutral', 'positive'])\n",
    "\n",
    "plot_CP_confusion_matrix(cm, \"Confusion Matrix (Conjunto de prueba TF-IDF con SVM)\")"
   ]
  },
  {
   "cell_type": "markdown",
   "metadata": {},
   "source": [
    "### Entrenamiento de modelos - Modelos SVM para detección de agresividad"
   ]
  },
  {
   "cell_type": "markdown",
   "metadata": {},
   "source": [
    "#### En las siguientes celdas entrenaremos el modelo usando $TF$"
   ]
  },
  {
   "cell_type": "code",
   "execution_count": 62,
   "metadata": {},
   "outputs": [],
   "source": [
    "vectorizer = CountVectorizer(stop_words=stopwords.words('spanish'))  \n",
    "X_AD_vec = vectorizer.fit_transform(X_AD)"
   ]
  },
  {
   "cell_type": "code",
   "execution_count": 63,
   "metadata": {},
   "outputs": [
    {
     "data": {
      "text/plain": [
       "LinearSVC(max_iter=3000, random_state=0)"
      ]
     },
     "execution_count": 63,
     "metadata": {},
     "output_type": "execute_result"
    }
   ],
   "source": [
    "from sklearn.svm import LinearSVC\n",
    "svc_AD = LinearSVC(random_state=0, max_iter=3000)\n",
    "svc_AD.fit(X_AD_vec, Y_AD)"
   ]
  },
  {
   "cell_type": "markdown",
   "metadata": {},
   "source": [
    "Ahora evaluaremos el modelo"
   ]
  },
  {
   "cell_type": "code",
   "execution_count": 64,
   "metadata": {},
   "outputs": [],
   "source": [
    "X_AD_vec = vectorizer.transform(X_AD)\n",
    "svc_AD_predict = svc_AD.predict(X_AD_vec)"
   ]
  },
  {
   "cell_type": "markdown",
   "metadata": {},
   "source": [
    "Aquí obtendremos las métricas de desempeño sobre el conjunto de entrenamiento"
   ]
  },
  {
   "cell_type": "code",
   "execution_count": 65,
   "metadata": {},
   "outputs": [
    {
     "name": "stdout",
     "output_type": "stream",
     "text": [
      "TRAIN - Accuracy SVM = 0.995128604832424\n",
      "TRAIN - F1 SVM = 0.9940452163477794\n",
      "TRAIN - micro F1 SVM = 0.995128604832424\n",
      "TRAIN - Precision SVM = 0.995157559342924\n",
      "TRAIN - micro Precision SVM = 0.995128604832424\n",
      "TRAIN - Recall SVM = 0.9929489750270217\n",
      "TRAIN - micro Recall SVM = 0.995128604832424\n"
     ]
    }
   ],
   "source": [
    "from sklearn.metrics import accuracy_score, f1_score, precision_score, recall_score\n",
    "print(\"TRAIN - Accuracy SVM =\", accuracy_score(Y_AD, svc_AD_predict))\n",
    "\n",
    "print(\"TRAIN - F1 SVM =\", f1_score(Y_AD, svc_AD_predict, average='macro'))\n",
    "print(\"TRAIN - micro F1 SVM =\", f1_score(Y_AD, svc_AD_predict, average='micro'))\n",
    "\n",
    "print(\"TRAIN - Precision SVM =\", precision_score(Y_AD, svc_AD_predict, average='macro'))\n",
    "print(\"TRAIN - micro Precision SVM =\", precision_score(Y_AD, svc_AD_predict, average='micro'))\n",
    "\n",
    "print(\"TRAIN - Recall SVM =\", recall_score(Y_AD, svc_AD_predict, average='macro'))\n",
    "print(\"TRAIN - micro Recall SVM =\", recall_score(Y_AD, svc_AD_predict, average='micro'))\n",
    "\n",
    "dfTabla.at['Accuracy', 'Aggressiveness_Train_TF_SVM'] = accuracy_score(Y_AD, svc_AD_predict)\n",
    "dfTabla.at['macro F1', 'Aggressiveness_Train_TF_SVM'] = f1_score(Y_AD, svc_AD_predict, average='macro')\n",
    "dfTabla.at['micro F1', 'Aggressiveness_Train_TF_SVM'] = f1_score(Y_AD, svc_AD_predict, average='micro')\n",
    "dfTabla.at['macro Precision', 'Aggressiveness_Train_TF_SVM'] = precision_score(Y_AD, svc_AD_predict, average='macro')\n",
    "dfTabla.at['micro Precision', 'Aggressiveness_Train_TF_SVM'] = precision_score(Y_AD, svc_AD_predict, average='micro')\n",
    "dfTabla.at['macro Recall', 'Aggressiveness_Train_TF_SVM'] = recall_score(Y_AD, svc_AD_predict, average='macro')\n",
    "dfTabla.at['micro Recall', 'Aggressiveness_Train_TF_SVM'] = recall_score(Y_AD, svc_AD_predict, average='micro')"
   ]
  },
  {
   "cell_type": "markdown",
   "metadata": {},
   "source": [
    "Para mejor visualización, se anexa la gráfica de la matríz de confunsión."
   ]
  },
  {
   "cell_type": "code",
   "execution_count": 66,
   "metadata": {},
   "outputs": [
    {
     "data": {
      "image/png": "[encoded data removed]",
      "text/plain": [
       "<Figure size 576x576 with 2 Axes>"
      ]
     },
     "metadata": {
      "needs_background": "light"
     },
     "output_type": "display_data"
    }
   ],
   "source": [
    "from sklearn.metrics import confusion_matrix\n",
    "cm = confusion_matrix(Y_AD, svc_AD_predict, labels=[0, 1])\n",
    "\n",
    "plot_AD_confusion_matrix(cm, \"Confusion Matrix (Conjunto de entrenamiento TF con SVM)\")"
   ]
  },
  {
   "cell_type": "markdown",
   "metadata": {},
   "source": [
    "Vamos a hacer las predicciones con el modelo entrenado y las gráficas de conteos"
   ]
  },
  {
   "cell_type": "code",
   "execution_count": 67,
   "metadata": {},
   "outputs": [],
   "source": [
    "X_new_vec = vectorizer.transform(X_AD_gold)\n",
    "new_predict = svc_AD.predict(X_new_vec)"
   ]
  },
  {
   "cell_type": "code",
   "execution_count": 68,
   "metadata": {},
   "outputs": [
    {
     "data": {
      "text/plain": [
       "klass\n",
       "0    1642\n",
       "1     554\n",
       "dtype: int64"
      ]
     },
     "execution_count": 68,
     "metadata": {},
     "output_type": "execute_result"
    }
   ],
   "source": [
    "X_pred = pd.DataFrame(list(zip(X_AD_gold, new_predict)), columns=['text', 'klass'])\n",
    "X_pred.groupby(['klass']).size()"
   ]
  },
  {
   "cell_type": "code",
   "execution_count": 69,
   "metadata": {},
   "outputs": [
    {
     "name": "stdout",
     "output_type": "stream",
     "text": [
      "TEST - Accuracy SVM = 0.7946265938069217\n",
      "TEST - F1 SVM = 0.7393897052728802\n",
      "TEST - micro F1 SVM = 0.7946265938069217\n",
      "TEST - Precision SVM = 0.7508376682481961\n",
      "TEST - micro Precision SVM = 0.7946265938069217\n",
      "TEST - Recall SVM = 0.7310638319417933\n",
      "TEST - micro Recall SVM = 0.7946265938069217\n"
     ]
    }
   ],
   "source": [
    "print(\"TEST - Accuracy SVM =\", accuracy_score(Y_AD_gold, new_predict))\n",
    "\n",
    "print(\"TEST - F1 SVM =\", f1_score(Y_AD_gold, new_predict, average='macro'))\n",
    "print(\"TEST - micro F1 SVM =\", f1_score(Y_AD_gold, new_predict, average='micro'))\n",
    "\n",
    "print(\"TEST - Precision SVM =\", precision_score(Y_AD_gold, new_predict, average='macro'))\n",
    "print(\"TEST - micro Precision SVM =\", precision_score(Y_AD_gold, new_predict, average='micro'))\n",
    "\n",
    "print(\"TEST - Recall SVM =\", recall_score(Y_AD_gold, new_predict, average='macro'))\n",
    "print(\"TEST - micro Recall SVM =\", recall_score(Y_AD_gold, new_predict, average='micro'))\n",
    "\n",
    "dfTabla.at['Accuracy', 'Aggressiveness_Test_TF_SVM'] = accuracy_score(Y_AD_gold, new_predict)\n",
    "dfTabla.at['macro F1', 'Aggressiveness_Test_TF_SVM'] = f1_score(Y_AD_gold, new_predict, average='macro')\n",
    "dfTabla.at['micro F1', 'Aggressiveness_Test_TF_SVM'] = f1_score(Y_AD_gold, new_predict, average='micro')\n",
    "dfTabla.at['macro Precision', 'Aggressiveness_Test_TF_SVM'] = precision_score(Y_AD_gold, new_predict, average='macro')\n",
    "dfTabla.at['micro Precision', 'Aggressiveness_Test_TF_SVM'] = precision_score(Y_AD_gold, new_predict, average='micro')\n",
    "dfTabla.at['macro Recall', 'Aggressiveness_Test_TF_SVM'] = recall_score(Y_AD_gold, new_predict, average='macro')\n",
    "dfTabla.at['micro Recall', 'Aggressiveness_Test_TF_SVM'] = recall_score(Y_AD_gold, new_predict, average='micro')"
   ]
  },
  {
   "cell_type": "code",
   "execution_count": 70,
   "metadata": {
    "scrolled": false
   },
   "outputs": [
    {
     "data": {
      "image/png": "[encoded data removed]",
      "text/plain": [
       "<Figure size 576x576 with 2 Axes>"
      ]
     },
     "metadata": {
      "needs_background": "light"
     },
     "output_type": "display_data"
    }
   ],
   "source": [
    "from sklearn.metrics import confusion_matrix\n",
    "cm = confusion_matrix(Y_AD_gold, new_predict, labels=[0, 1])\n",
    "\n",
    "plot_AD_confusion_matrix(cm, \"Confusion Matrix (Conjunto de prueba TF con SVM)\")"
   ]
  },
  {
   "cell_type": "markdown",
   "metadata": {},
   "source": [
    "#### En las siguientes celdas entrenaremos el modelo usando $TF-IDF$"
   ]
  },
  {
   "cell_type": "code",
   "execution_count": 71,
   "metadata": {},
   "outputs": [],
   "source": [
    "tfidfvec = TfidfVectorizer(stop_words=stopwords.words('spanish'))  \n",
    "X_AD_vec = tfidfvec.fit_transform(X_AD)"
   ]
  },
  {
   "cell_type": "code",
   "execution_count": 72,
   "metadata": {},
   "outputs": [
    {
     "data": {
      "text/plain": [
       "LinearSVC(max_iter=3000, random_state=0)"
      ]
     },
     "execution_count": 72,
     "metadata": {},
     "output_type": "execute_result"
    }
   ],
   "source": [
    "from sklearn.svm import LinearSVC\n",
    "svc_AD = LinearSVC(random_state=0, max_iter=3000)\n",
    "svc_AD.fit(X_AD_vec, Y_AD)"
   ]
  },
  {
   "cell_type": "markdown",
   "metadata": {},
   "source": [
    "Ahora evaluaremos el modelo"
   ]
  },
  {
   "cell_type": "code",
   "execution_count": 73,
   "metadata": {},
   "outputs": [],
   "source": [
    "X_AD_vec = tfidfvec.transform(X_AD)\n",
    "svc_AD_predict = svc_AD.predict(X_AD_vec)"
   ]
  },
  {
   "cell_type": "markdown",
   "metadata": {},
   "source": [
    "Aquí obtendremos las métricas de desempeño sobre el conjunto de entrenamiento"
   ]
  },
  {
   "cell_type": "code",
   "execution_count": 74,
   "metadata": {},
   "outputs": [
    {
     "name": "stdout",
     "output_type": "stream",
     "text": [
      "TRAIN - Accuracy SVM = 0.9809041309431021\n",
      "TRAIN - F1 SVM = 0.9764887022954434\n",
      "TRAIN - micro F1 SVM = 0.9809041309431021\n",
      "TRAIN - Precision SVM = 0.9811883429620605\n",
      "TRAIN - micro Precision SVM = 0.9809041309431021\n",
      "TRAIN - Recall SVM = 0.9720694979193044\n",
      "TRAIN - micro Recall SVM = 0.9809041309431021\n"
     ]
    }
   ],
   "source": [
    "from sklearn.metrics import accuracy_score, f1_score, precision_score, recall_score\n",
    "print(\"TRAIN - Accuracy SVM =\", accuracy_score(Y_AD, svc_AD_predict))\n",
    "\n",
    "print(\"TRAIN - F1 SVM =\", f1_score(Y_AD, svc_AD_predict, average='macro'))\n",
    "print(\"TRAIN - micro F1 SVM =\", f1_score(Y_AD, svc_AD_predict, average='micro'))\n",
    "\n",
    "print(\"TRAIN - Precision SVM =\", precision_score(Y_AD, svc_AD_predict, average='macro'))\n",
    "print(\"TRAIN - micro Precision SVM =\", precision_score(Y_AD, svc_AD_predict, average='micro'))\n",
    "\n",
    "print(\"TRAIN - Recall SVM =\", recall_score(Y_AD, svc_AD_predict, average='macro'))\n",
    "print(\"TRAIN - micro Recall SVM =\", recall_score(Y_AD, svc_AD_predict, average='micro'))\n",
    "\n",
    "dfTabla.at['Accuracy', 'Aggressiveness_Train_TFIDF_SVM'] = accuracy_score(Y_AD, svc_AD_predict)\n",
    "dfTabla.at['macro F1', 'Aggressiveness_Train_TFIDF_SVM'] = f1_score(Y_AD, svc_AD_predict, average='macro')\n",
    "dfTabla.at['micro F1', 'Aggressiveness_Train_TFIDF_SVM'] = f1_score(Y_AD, svc_AD_predict, average='micro')\n",
    "dfTabla.at['macro Precision', 'Aggressiveness_Train_TFIDF_SVM'] = precision_score(Y_AD, svc_AD_predict, average='macro')\n",
    "dfTabla.at['micro Precision', 'Aggressiveness_Train_TFIDF_SVM'] = precision_score(Y_AD, svc_AD_predict, average='micro')\n",
    "dfTabla.at['macro Recall', 'Aggressiveness_Train_TFIDF_SVM'] = recall_score(Y_AD, svc_AD_predict, average='macro')\n",
    "dfTabla.at['micro Recall', 'Aggressiveness_Train_TFIDF_SVM'] = recall_score(Y_AD, svc_AD_predict, average='micro')"
   ]
  },
  {
   "cell_type": "markdown",
   "metadata": {},
   "source": [
    "Para mejor visualización, se anexa la gráfica de la matríz de confunsión."
   ]
  },
  {
   "cell_type": "code",
   "execution_count": 75,
   "metadata": {},
   "outputs": [
    {
     "data": {
      "image/png": "[encoded data removed]",
      "text/plain": [
       "<Figure size 576x576 with 2 Axes>"
      ]
     },
     "metadata": {
      "needs_background": "light"
     },
     "output_type": "display_data"
    }
   ],
   "source": [
    "from sklearn.metrics import confusion_matrix\n",
    "cm = confusion_matrix(Y_AD, svc_AD_predict, labels=[0, 1])\n",
    "\n",
    "plot_AD_confusion_matrix(cm, \"Confusion Matrix (Conjunto de entrenamiento TF-IDF con SVM)\")"
   ]
  },
  {
   "cell_type": "markdown",
   "metadata": {},
   "source": [
    "Vamos a hacer las predicciones con el modelo entrenado y las gráficas de conteos"
   ]
  },
  {
   "cell_type": "code",
   "execution_count": 76,
   "metadata": {},
   "outputs": [],
   "source": [
    "X_new_vec = tfidfvec.transform(X_AD_gold)\n",
    "new_predict = svc_AD.predict(X_new_vec)"
   ]
  },
  {
   "cell_type": "code",
   "execution_count": 77,
   "metadata": {},
   "outputs": [
    {
     "data": {
      "text/plain": [
       "klass\n",
       "0    1662\n",
       "1     534\n",
       "dtype: int64"
      ]
     },
     "execution_count": 77,
     "metadata": {},
     "output_type": "execute_result"
    }
   ],
   "source": [
    "X_pred = pd.DataFrame(list(zip(X_AD_gold, new_predict)), columns=['text', 'klass'])\n",
    "X_pred.groupby(['klass']).size()"
   ]
  },
  {
   "cell_type": "code",
   "execution_count": 78,
   "metadata": {},
   "outputs": [
    {
     "name": "stdout",
     "output_type": "stream",
     "text": [
      "TEST - Accuracy SVM = 0.813752276867031\n",
      "TEST - F1 SVM = 0.7610919667877392\n",
      "TEST - micro F1 SVM = 0.813752276867031\n",
      "TEST - Precision SVM = 0.7778194675428278\n",
      "TEST - micro Precision SVM = 0.813752276867031\n",
      "TEST - Recall SVM = 0.7496843085927809\n",
      "TEST - micro Recall SVM = 0.813752276867031\n"
     ]
    }
   ],
   "source": [
    "print(\"TEST - Accuracy SVM =\", accuracy_score(Y_AD_gold, new_predict))\n",
    "\n",
    "print(\"TEST - F1 SVM =\", f1_score(Y_AD_gold, new_predict, average='macro'))\n",
    "print(\"TEST - micro F1 SVM =\", f1_score(Y_AD_gold, new_predict, average='micro'))\n",
    "\n",
    "print(\"TEST - Precision SVM =\", precision_score(Y_AD_gold, new_predict, average='macro'))\n",
    "print(\"TEST - micro Precision SVM =\", precision_score(Y_AD_gold, new_predict, average='micro'))\n",
    "\n",
    "print(\"TEST - Recall SVM =\", recall_score(Y_AD_gold, new_predict, average='macro'))\n",
    "print(\"TEST - micro Recall SVM =\", recall_score(Y_AD_gold, new_predict, average='micro'))\n",
    "\n",
    "dfTabla.at['Accuracy', 'Aggressiveness_Test_TFIDF_SVM'] = accuracy_score(Y_AD_gold, new_predict)\n",
    "dfTabla.at['macro F1', 'Aggressiveness_Test_TFIDF_SVM'] = f1_score(Y_AD_gold, new_predict, average='macro')\n",
    "dfTabla.at['micro F1', 'Aggressiveness_Test_TFIDF_SVM'] = f1_score(Y_AD_gold, new_predict, average='micro')\n",
    "dfTabla.at['macro Precision', 'Aggressiveness_Test_TFIDF_SVM'] = precision_score(Y_AD_gold, new_predict, average='macro')\n",
    "dfTabla.at['micro Precision', 'Aggressiveness_Test_TFIDF_SVM'] = precision_score(Y_AD_gold, new_predict, average='micro')\n",
    "dfTabla.at['macro Recall', 'Aggressiveness_Test_TFIDF_SVM'] = recall_score(Y_AD_gold, new_predict, average='macro')\n",
    "dfTabla.at['micro Recall', 'Aggressiveness_Test_TFIDF_SVM'] = recall_score(Y_AD_gold, new_predict, average='micro')"
   ]
  },
  {
   "cell_type": "code",
   "execution_count": 79,
   "metadata": {},
   "outputs": [
    {
     "data": {
      "image/png": "[encoded data removed]",
      "text/plain": [
       "<Figure size 576x576 with 2 Axes>"
      ]
     },
     "metadata": {
      "needs_background": "light"
     },
     "output_type": "display_data"
    }
   ],
   "source": [
    "from sklearn.metrics import confusion_matrix\n",
    "cm = confusion_matrix(Y_AD_gold, new_predict, labels=[0, 1])\n",
    "\n",
    "plot_AD_confusion_matrix(cm, \"Confusion Matrix (Conjunto de prueba TF-IDF con SVM)\")"
   ]
  },
  {
   "cell_type": "markdown",
   "metadata": {},
   "source": [
    "## Conclusiones\n",
    "\n",
    "El clasificador basado en SVM lineal tiene el mejor desempeño cuando se usa la vectorización **TF** o **TF-IDF** para ambos conjuntos de datos. De hecho, en el entrenamiento, la mejores métricas fueron resultantes del entrenamiento con SVM. Eso puede comprobarse en la siguiente tabla."
   ]
  },
  {
   "cell_type": "code",
   "execution_count": 80,
   "metadata": {},
   "outputs": [
    {
     "data": {
      "text/html": [
       "<div>\n",
       "<style scoped>\n",
       "    .dataframe tbody tr th:only-of-type {\n",
       "        vertical-align: middle;\n",
       "    }\n",
       "\n",
       "    .dataframe tbody tr th {\n",
       "        vertical-align: top;\n",
       "    }\n",
       "\n",
       "    .dataframe thead th {\n",
       "        text-align: right;\n",
       "    }\n",
       "</style>\n",
       "<table border=\"1\" class=\"dataframe\">\n",
       "  <thead>\n",
       "    <tr style=\"text-align: right;\">\n",
       "      <th></th>\n",
       "      <th>CellPhone_Train_TF_Naive</th>\n",
       "      <th>CellPhone_Train_TFIDF_Naive</th>\n",
       "      <th>CellPhone_Train_TF_SVM</th>\n",
       "      <th>CellPhone_Train_TFIDF_SVM</th>\n",
       "    </tr>\n",
       "    <tr>\n",
       "      <th>Medida</th>\n",
       "      <th></th>\n",
       "      <th></th>\n",
       "      <th></th>\n",
       "      <th></th>\n",
       "    </tr>\n",
       "  </thead>\n",
       "  <tbody>\n",
       "    <tr>\n",
       "      <th>Accuracy</th>\n",
       "      <td>0.825236</td>\n",
       "      <td>0.716445</td>\n",
       "      <td>0.984883</td>\n",
       "      <td>0.966795</td>\n",
       "    </tr>\n",
       "    <tr>\n",
       "      <th>macro F1</th>\n",
       "      <td>0.702727</td>\n",
       "      <td>0.393971</td>\n",
       "      <td>0.977015</td>\n",
       "      <td>0.951883</td>\n",
       "    </tr>\n",
       "    <tr>\n",
       "      <th>micro F1</th>\n",
       "      <td>0.825236</td>\n",
       "      <td>0.716445</td>\n",
       "      <td>0.984883</td>\n",
       "      <td>0.966795</td>\n",
       "    </tr>\n",
       "    <tr>\n",
       "      <th>macro Precision</th>\n",
       "      <td>0.839058</td>\n",
       "      <td>0.915222</td>\n",
       "      <td>0.980106</td>\n",
       "      <td>0.964013</td>\n",
       "    </tr>\n",
       "    <tr>\n",
       "      <th>micro Precision</th>\n",
       "      <td>0.825236</td>\n",
       "      <td>0.716445</td>\n",
       "      <td>0.984883</td>\n",
       "      <td>0.966795</td>\n",
       "    </tr>\n",
       "    <tr>\n",
       "      <th>macro Recall</th>\n",
       "      <td>0.637663</td>\n",
       "      <td>0.362435</td>\n",
       "      <td>0.973995</td>\n",
       "      <td>0.940416</td>\n",
       "    </tr>\n",
       "    <tr>\n",
       "      <th>micro Recall</th>\n",
       "      <td>0.825236</td>\n",
       "      <td>0.716445</td>\n",
       "      <td>0.984883</td>\n",
       "      <td>0.966795</td>\n",
       "    </tr>\n",
       "  </tbody>\n",
       "</table>\n",
       "</div>"
      ],
      "text/plain": [
       "                 CellPhone_Train_TF_Naive  CellPhone_Train_TFIDF_Naive  \\\n",
       "Medida                                                                   \n",
       "Accuracy                         0.825236                     0.716445   \n",
       "macro F1                         0.702727                     0.393971   \n",
       "micro F1                         0.825236                     0.716445   \n",
       "macro Precision                  0.839058                     0.915222   \n",
       "micro Precision                  0.825236                     0.716445   \n",
       "macro Recall                     0.637663                     0.362435   \n",
       "micro Recall                     0.825236                     0.716445   \n",
       "\n",
       "                 CellPhone_Train_TF_SVM  CellPhone_Train_TFIDF_SVM  \n",
       "Medida                                                              \n",
       "Accuracy                       0.984883                   0.966795  \n",
       "macro F1                       0.977015                   0.951883  \n",
       "micro F1                       0.984883                   0.966795  \n",
       "macro Precision                0.980106                   0.964013  \n",
       "micro Precision                0.984883                   0.966795  \n",
       "macro Recall                   0.973995                   0.940416  \n",
       "micro Recall                   0.984883                   0.966795  "
      ]
     },
     "execution_count": 80,
     "metadata": {},
     "output_type": "execute_result"
    }
   ],
   "source": [
    "dfTabla[['CellPhone_Train_TF_Naive', 'CellPhone_Train_TFIDF_Naive', 'CellPhone_Train_TF_SVM', 'CellPhone_Train_TFIDF_SVM']]"
   ]
  },
  {
   "cell_type": "markdown",
   "metadata": {},
   "source": [
    "El buen comportamiento del clasificador basado en SVM lineal es evidente en las médidas de desempeño para el conjunto de pruebas descritas debajo. Tanto **SVM** con **TF** como con **TF-IDF** nos muestra que en general tienen el mejor desempeño, sin embargo es importante identificar cual es la métrica más importante para el análisis."
   ]
  },
  {
   "cell_type": "code",
   "execution_count": 81,
   "metadata": {},
   "outputs": [
    {
     "data": {
      "text/html": [
       "<div>\n",
       "<style scoped>\n",
       "    .dataframe tbody tr th:only-of-type {\n",
       "        vertical-align: middle;\n",
       "    }\n",
       "\n",
       "    .dataframe tbody tr th {\n",
       "        vertical-align: top;\n",
       "    }\n",
       "\n",
       "    .dataframe thead th {\n",
       "        text-align: right;\n",
       "    }\n",
       "</style>\n",
       "<table border=\"1\" class=\"dataframe\">\n",
       "  <thead>\n",
       "    <tr style=\"text-align: right;\">\n",
       "      <th></th>\n",
       "      <th>CellPhone_Test_TF_Naive</th>\n",
       "      <th>CellPhone_Test_TFIDF_Naive</th>\n",
       "      <th>CellPhone_Test_TF_SVM</th>\n",
       "      <th>CellPhone_Test_TFIDF_SVM</th>\n",
       "    </tr>\n",
       "    <tr>\n",
       "      <th>Medida</th>\n",
       "      <th></th>\n",
       "      <th></th>\n",
       "      <th></th>\n",
       "      <th></th>\n",
       "    </tr>\n",
       "  </thead>\n",
       "  <tbody>\n",
       "    <tr>\n",
       "      <th>Accuracy</th>\n",
       "      <td>0.728644</td>\n",
       "      <td>0.707849</td>\n",
       "      <td>0.729664</td>\n",
       "      <td>0.746381</td>\n",
       "    </tr>\n",
       "    <tr>\n",
       "      <th>macro F1</th>\n",
       "      <td>0.478235</td>\n",
       "      <td>0.365602</td>\n",
       "      <td>0.577130</td>\n",
       "      <td>0.586034</td>\n",
       "    </tr>\n",
       "    <tr>\n",
       "      <th>micro F1</th>\n",
       "      <td>0.728644</td>\n",
       "      <td>0.707849</td>\n",
       "      <td>0.729664</td>\n",
       "      <td>0.746381</td>\n",
       "    </tr>\n",
       "    <tr>\n",
       "      <th>macro Precision</th>\n",
       "      <td>0.722006</td>\n",
       "      <td>0.916137</td>\n",
       "      <td>0.585974</td>\n",
       "      <td>0.617925</td>\n",
       "    </tr>\n",
       "    <tr>\n",
       "      <th>micro Precision</th>\n",
       "      <td>0.728644</td>\n",
       "      <td>0.707849</td>\n",
       "      <td>0.729664</td>\n",
       "      <td>0.746381</td>\n",
       "    </tr>\n",
       "    <tr>\n",
       "      <th>macro Recall</th>\n",
       "      <td>0.430886</td>\n",
       "      <td>0.344622</td>\n",
       "      <td>0.569269</td>\n",
       "      <td>0.562460</td>\n",
       "    </tr>\n",
       "    <tr>\n",
       "      <th>micro Recall</th>\n",
       "      <td>0.728644</td>\n",
       "      <td>0.707849</td>\n",
       "      <td>0.729664</td>\n",
       "      <td>0.746381</td>\n",
       "    </tr>\n",
       "  </tbody>\n",
       "</table>\n",
       "</div>"
      ],
      "text/plain": [
       "                 CellPhone_Test_TF_Naive  CellPhone_Test_TFIDF_Naive  \\\n",
       "Medida                                                                 \n",
       "Accuracy                        0.728644                    0.707849   \n",
       "macro F1                        0.478235                    0.365602   \n",
       "micro F1                        0.728644                    0.707849   \n",
       "macro Precision                 0.722006                    0.916137   \n",
       "micro Precision                 0.728644                    0.707849   \n",
       "macro Recall                    0.430886                    0.344622   \n",
       "micro Recall                    0.728644                    0.707849   \n",
       "\n",
       "                 CellPhone_Test_TF_SVM  CellPhone_Test_TFIDF_SVM  \n",
       "Medida                                                            \n",
       "Accuracy                      0.729664                  0.746381  \n",
       "macro F1                      0.577130                  0.586034  \n",
       "micro F1                      0.729664                  0.746381  \n",
       "macro Precision               0.585974                  0.617925  \n",
       "micro Precision               0.729664                  0.746381  \n",
       "macro Recall                  0.569269                  0.562460  \n",
       "micro Recall                  0.729664                  0.746381  "
      ]
     },
     "execution_count": 81,
     "metadata": {},
     "output_type": "execute_result"
    }
   ],
   "source": [
    "dfTabla[['CellPhone_Test_TF_Naive', 'CellPhone_Test_TFIDF_Naive', 'CellPhone_Test_TF_SVM', 'CellPhone_Test_TFIDF_SVM']]"
   ]
  },
  {
   "cell_type": "markdown",
   "metadata": {},
   "source": [
    "Para el caso de la identificación de agresividad, el entrenamiento de los modelos dio métricas muy altas para casi todos los experimentos, excepto para el caso del conjunto de pruebas utilizando **TF-IDF** con **naïve**. En el caso de **SVM**, observamos las métricas más altas."
   ]
  },
  {
   "cell_type": "code",
   "execution_count": 82,
   "metadata": {},
   "outputs": [
    {
     "data": {
      "text/html": [
       "<div>\n",
       "<style scoped>\n",
       "    .dataframe tbody tr th:only-of-type {\n",
       "        vertical-align: middle;\n",
       "    }\n",
       "\n",
       "    .dataframe tbody tr th {\n",
       "        vertical-align: top;\n",
       "    }\n",
       "\n",
       "    .dataframe thead th {\n",
       "        text-align: right;\n",
       "    }\n",
       "</style>\n",
       "<table border=\"1\" class=\"dataframe\">\n",
       "  <thead>\n",
       "    <tr style=\"text-align: right;\">\n",
       "      <th></th>\n",
       "      <th>Aggressiveness_Train_TF_Naive</th>\n",
       "      <th>Aggressiveness_Train_TFIDF_Naive</th>\n",
       "      <th>Aggressiveness_Train_TF_SVM</th>\n",
       "      <th>Aggressiveness_Train_TFIDF_SVM</th>\n",
       "    </tr>\n",
       "    <tr>\n",
       "      <th>Medida</th>\n",
       "      <th></th>\n",
       "      <th></th>\n",
       "      <th></th>\n",
       "      <th></th>\n",
       "    </tr>\n",
       "  </thead>\n",
       "  <tbody>\n",
       "    <tr>\n",
       "      <th>Accuracy</th>\n",
       "      <td>0.920499</td>\n",
       "      <td>0.817615</td>\n",
       "      <td>0.995129</td>\n",
       "      <td>0.980904</td>\n",
       "    </tr>\n",
       "    <tr>\n",
       "      <th>macro F1</th>\n",
       "      <td>0.898387</td>\n",
       "      <td>0.712834</td>\n",
       "      <td>0.994045</td>\n",
       "      <td>0.976489</td>\n",
       "    </tr>\n",
       "    <tr>\n",
       "      <th>micro F1</th>\n",
       "      <td>0.920499</td>\n",
       "      <td>0.817615</td>\n",
       "      <td>0.995129</td>\n",
       "      <td>0.980904</td>\n",
       "    </tr>\n",
       "    <tr>\n",
       "      <th>macro Precision</th>\n",
       "      <td>0.921635</td>\n",
       "      <td>0.892208</td>\n",
       "      <td>0.995158</td>\n",
       "      <td>0.981188</td>\n",
       "    </tr>\n",
       "    <tr>\n",
       "      <th>micro Precision</th>\n",
       "      <td>0.920499</td>\n",
       "      <td>0.817615</td>\n",
       "      <td>0.995129</td>\n",
       "      <td>0.980904</td>\n",
       "    </tr>\n",
       "    <tr>\n",
       "      <th>macro Recall</th>\n",
       "      <td>0.881248</td>\n",
       "      <td>0.684554</td>\n",
       "      <td>0.992949</td>\n",
       "      <td>0.972069</td>\n",
       "    </tr>\n",
       "    <tr>\n",
       "      <th>micro Recall</th>\n",
       "      <td>0.920499</td>\n",
       "      <td>0.817615</td>\n",
       "      <td>0.995129</td>\n",
       "      <td>0.980904</td>\n",
       "    </tr>\n",
       "  </tbody>\n",
       "</table>\n",
       "</div>"
      ],
      "text/plain": [
       "                 Aggressiveness_Train_TF_Naive  \\\n",
       "Medida                                           \n",
       "Accuracy                              0.920499   \n",
       "macro F1                              0.898387   \n",
       "micro F1                              0.920499   \n",
       "macro Precision                       0.921635   \n",
       "micro Precision                       0.920499   \n",
       "macro Recall                          0.881248   \n",
       "micro Recall                          0.920499   \n",
       "\n",
       "                 Aggressiveness_Train_TFIDF_Naive  \\\n",
       "Medida                                              \n",
       "Accuracy                                 0.817615   \n",
       "macro F1                                 0.712834   \n",
       "micro F1                                 0.817615   \n",
       "macro Precision                          0.892208   \n",
       "micro Precision                          0.817615   \n",
       "macro Recall                             0.684554   \n",
       "micro Recall                             0.817615   \n",
       "\n",
       "                 Aggressiveness_Train_TF_SVM  Aggressiveness_Train_TFIDF_SVM  \n",
       "Medida                                                                        \n",
       "Accuracy                            0.995129                        0.980904  \n",
       "macro F1                            0.994045                        0.976489  \n",
       "micro F1                            0.995129                        0.980904  \n",
       "macro Precision                     0.995158                        0.981188  \n",
       "micro Precision                     0.995129                        0.980904  \n",
       "macro Recall                        0.992949                        0.972069  \n",
       "micro Recall                        0.995129                        0.980904  "
      ]
     },
     "execution_count": 82,
     "metadata": {},
     "output_type": "execute_result"
    }
   ],
   "source": [
    "dfTabla[['Aggressiveness_Train_TF_Naive', 'Aggressiveness_Train_TFIDF_Naive', \n",
    "         'Aggressiveness_Train_TF_SVM', 'Aggressiveness_Train_TFIDF_SVM']]"
   ]
  },
  {
   "cell_type": "markdown",
   "metadata": {},
   "source": [
    "El buen comportamiento del clasificador basado en **SVM** lineal con **TF-IDF** así como **naïve** con **TF** es evidente en las médidas de desempeño para el conjunto de pruebas descritas debajo. Sin emnargo, **SVM** con **TF-IDF** nos muestra que en general tienen el mejor desempeño."
   ]
  },
  {
   "cell_type": "code",
   "execution_count": 83,
   "metadata": {},
   "outputs": [
    {
     "data": {
      "text/html": [
       "<div>\n",
       "<style scoped>\n",
       "    .dataframe tbody tr th:only-of-type {\n",
       "        vertical-align: middle;\n",
       "    }\n",
       "\n",
       "    .dataframe tbody tr th {\n",
       "        vertical-align: top;\n",
       "    }\n",
       "\n",
       "    .dataframe thead th {\n",
       "        text-align: right;\n",
       "    }\n",
       "</style>\n",
       "<table border=\"1\" class=\"dataframe\">\n",
       "  <thead>\n",
       "    <tr style=\"text-align: right;\">\n",
       "      <th></th>\n",
       "      <th>Aggressiveness_Test_TF_Naive</th>\n",
       "      <th>Aggressiveness_Test_TFIDF_Naive</th>\n",
       "      <th>Aggressiveness_Test_TF_SVM</th>\n",
       "      <th>Aggressiveness_Test_TFIDF_SVM</th>\n",
       "    </tr>\n",
       "    <tr>\n",
       "      <th>Medida</th>\n",
       "      <th></th>\n",
       "      <th></th>\n",
       "      <th></th>\n",
       "      <th></th>\n",
       "    </tr>\n",
       "  </thead>\n",
       "  <tbody>\n",
       "    <tr>\n",
       "      <th>Accuracy</th>\n",
       "      <td>0.816940</td>\n",
       "      <td>0.748179</td>\n",
       "      <td>0.794627</td>\n",
       "      <td>0.813752</td>\n",
       "    </tr>\n",
       "    <tr>\n",
       "      <th>macro F1</th>\n",
       "      <td>0.752271</td>\n",
       "      <td>0.543218</td>\n",
       "      <td>0.739390</td>\n",
       "      <td>0.761092</td>\n",
       "    </tr>\n",
       "    <tr>\n",
       "      <th>micro F1</th>\n",
       "      <td>0.816940</td>\n",
       "      <td>0.748179</td>\n",
       "      <td>0.794627</td>\n",
       "      <td>0.813752</td>\n",
       "    </tr>\n",
       "    <tr>\n",
       "      <th>macro Precision</th>\n",
       "      <td>0.795091</td>\n",
       "      <td>0.827808</td>\n",
       "      <td>0.750838</td>\n",
       "      <td>0.777819</td>\n",
       "    </tr>\n",
       "    <tr>\n",
       "      <th>micro Precision</th>\n",
       "      <td>0.816940</td>\n",
       "      <td>0.748179</td>\n",
       "      <td>0.794627</td>\n",
       "      <td>0.813752</td>\n",
       "    </tr>\n",
       "    <tr>\n",
       "      <th>macro Recall</th>\n",
       "      <td>0.732059</td>\n",
       "      <td>0.565590</td>\n",
       "      <td>0.731064</td>\n",
       "      <td>0.749684</td>\n",
       "    </tr>\n",
       "    <tr>\n",
       "      <th>micro Recall</th>\n",
       "      <td>0.816940</td>\n",
       "      <td>0.748179</td>\n",
       "      <td>0.794627</td>\n",
       "      <td>0.813752</td>\n",
       "    </tr>\n",
       "  </tbody>\n",
       "</table>\n",
       "</div>"
      ],
      "text/plain": [
       "                 Aggressiveness_Test_TF_Naive  \\\n",
       "Medida                                          \n",
       "Accuracy                             0.816940   \n",
       "macro F1                             0.752271   \n",
       "micro F1                             0.816940   \n",
       "macro Precision                      0.795091   \n",
       "micro Precision                      0.816940   \n",
       "macro Recall                         0.732059   \n",
       "micro Recall                         0.816940   \n",
       "\n",
       "                 Aggressiveness_Test_TFIDF_Naive  Aggressiveness_Test_TF_SVM  \\\n",
       "Medida                                                                         \n",
       "Accuracy                                0.748179                    0.794627   \n",
       "macro F1                                0.543218                    0.739390   \n",
       "micro F1                                0.748179                    0.794627   \n",
       "macro Precision                         0.827808                    0.750838   \n",
       "micro Precision                         0.748179                    0.794627   \n",
       "macro Recall                            0.565590                    0.731064   \n",
       "micro Recall                            0.748179                    0.794627   \n",
       "\n",
       "                 Aggressiveness_Test_TFIDF_SVM  \n",
       "Medida                                          \n",
       "Accuracy                              0.813752  \n",
       "macro F1                              0.761092  \n",
       "micro F1                              0.813752  \n",
       "macro Precision                       0.777819  \n",
       "micro Precision                       0.813752  \n",
       "macro Recall                          0.749684  \n",
       "micro Recall                          0.813752  "
      ]
     },
     "execution_count": 83,
     "metadata": {},
     "output_type": "execute_result"
    }
   ],
   "source": [
    "dfTabla[['Aggressiveness_Test_TF_Naive', 'Aggressiveness_Test_TFIDF_Naive', \n",
    "         'Aggressiveness_Test_TF_SVM', 'Aggressiveness_Test_TFIDF_SVM']]"
   ]
  },
  {
   "cell_type": "code",
   "execution_count": null,
   "metadata": {},
   "outputs": [],
   "source": []
  }
 ],
 "metadata": {
  "kernelspec": {
   "display_name": "Python 3",
   "language": "python",
   "name": "python3"
  },
  "language_info": {
   "codemirror_mode": {
    "name": "ipython",
    "version": 3
   },
   "file_extension": ".py",
   "mimetype": "text/x-python",
   "name": "python",
   "nbconvert_exporter": "python",
   "pygments_lexer": "ipython3",
   "version": "3.6.13"
  }
 },
 "nbformat": 4,
 "nbformat_minor": 4
}
